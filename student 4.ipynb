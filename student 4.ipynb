{
 "cells": [
  {
   "cell_type": "markdown",
   "metadata": {},
   "source": [
    "## Final Project Submission\n",
    "\n",
    "Please fill out:\n",
    "* Student name: Lauren Esser\n",
    "* Student pace: Full time\n",
    "* Scheduled project review date/time: Tuesday, Sept 8 at 4:30 pm\n",
    "* Instructor name: James Irving\n",
    "* Blog post URL: https://lauren-esser.github.io/osemn_is_awesome\n"
   ]
  },
  {
   "cell_type": "markdown",
   "metadata": {},
   "source": [
    "# Introduction"
   ]
  },
  {
   "cell_type": "markdown",
   "metadata": {},
   "source": [
    "> In this notebook, I am taking a look at the King County House Sales Dataset with the goal of predicting future sale prices of homes. The main question I have kept in mind during this project is \"What can individuals do to increase their home's value?\"\n",
    "\n",
    "\n",
    "**Is that long enough**\n",
    "**NEED to WRITE MY OWN READ ME\n",
    "\n",
    "Include:\n",
    "- 3 meaningful questions(don't need to present these to non-techincal audience. Just for notebook)\n",
    "- 4 meaningful data visualizations with coreesponding interpretations (make sure to label, title, and legened (when appropriate)\n"
   ]
  },
  {
   "cell_type": "markdown",
   "metadata": {},
   "source": [
    "# Tableau Price Visualizations"
   ]
  },
  {
   "cell_type": "markdown",
   "metadata": {},
   "source": [
    "### Price vs. Location"
   ]
  },
  {
   "cell_type": "markdown",
   "metadata": {},
   "source": [
    "> Simply by looking at this tableau visualizations, we can see that more of the expensive households are in the northeast region."
   ]
  },
  {
   "cell_type": "code",
   "execution_count": 1,
   "metadata": {
    "scrolled": true
   },
   "outputs": [
    {
     "data": {
      "text/html": [
       "<div class='tableauPlaceholder' id='viz1598550555604' style='position: relative'><noscript><a href='#'><img alt=' ' src='https:&#47;&#47;public.tableau.com&#47;static&#47;images&#47;Pr&#47;Pricevs_Location&#47;Sheet1&#47;1_rss.png' style='border: none' /></a></noscript><object class='tableauViz'  style='display:none;'><param name='host_url' value='https%3A%2F%2Fpublic.tableau.com%2F' /> <param name='embed_code_version' value='3' /> <param name='site_root' value='' /><param name='name' value='Pricevs_Location&#47;Sheet1' /><param name='tabs' value='no' /><param name='toolbar' value='yes' /><param name='static_image' value='https:&#47;&#47;public.tableau.com&#47;static&#47;images&#47;Pr&#47;Pricevs_Location&#47;Sheet1&#47;1.png' /> <param name='animate_transition' value='yes' /><param name='display_static_image' value='yes' /><param name='display_spinner' value='yes' /><param name='display_overlay' value='yes' /><param name='display_count' value='yes' /><param name='language' value='en' /><param name='filter' value='publish=yes' /></object></div>                <script type='text/javascript'>                    var divElement = document.getElementById('viz1598550555604');                    var vizElement = divElement.getElementsByTagName('object')[0];                    vizElement.style.width='100%';vizElement.style.height=(divElement.offsetWidth*0.75)+'px';                    var scriptElement = document.createElement('script');                    scriptElement.src = 'https://public.tableau.com/javascripts/api/viz_v1.js';                    vizElement.parentNode.insertBefore(scriptElement, vizElement);                </script>\n"
      ],
      "text/plain": [
       "<IPython.core.display.HTML object>"
      ]
     },
     "metadata": {},
     "output_type": "display_data"
    }
   ],
   "source": [
    "%%html\n",
    "<div class='tableauPlaceholder' id='viz1598550555604' style='position: relative'><noscript><a href='#'><img alt=' ' src='https:&#47;&#47;public.tableau.com&#47;static&#47;images&#47;Pr&#47;Pricevs_Location&#47;Sheet1&#47;1_rss.png' style='border: none' /></a></noscript><object class='tableauViz'  style='display:none;'><param name='host_url' value='https%3A%2F%2Fpublic.tableau.com%2F' /> <param name='embed_code_version' value='3' /> <param name='site_root' value='' /><param name='name' value='Pricevs_Location&#47;Sheet1' /><param name='tabs' value='no' /><param name='toolbar' value='yes' /><param name='static_image' value='https:&#47;&#47;public.tableau.com&#47;static&#47;images&#47;Pr&#47;Pricevs_Location&#47;Sheet1&#47;1.png' /> <param name='animate_transition' value='yes' /><param name='display_static_image' value='yes' /><param name='display_spinner' value='yes' /><param name='display_overlay' value='yes' /><param name='display_count' value='yes' /><param name='language' value='en' /><param name='filter' value='publish=yes' /></object></div>                <script type='text/javascript'>                    var divElement = document.getElementById('viz1598550555604');                    var vizElement = divElement.getElementsByTagName('object')[0];                    vizElement.style.width='100%';vizElement.style.height=(divElement.offsetWidth*0.75)+'px';                    var scriptElement = document.createElement('script');                    scriptElement.src = 'https://public.tableau.com/javascripts/api/viz_v1.js';                    vizElement.parentNode.insertBefore(scriptElement, vizElement);                </script>"
   ]
  },
  {
   "cell_type": "markdown",
   "metadata": {},
   "source": [
    "### Price vs. Zipcode"
   ]
  },
  {
   "cell_type": "markdown",
   "metadata": {},
   "source": [
    "> Looking at price vs. zipcode we are able to see that it matches with the above tableau. The more expensive houses are in the north/northeast area of King County."
   ]
  },
  {
   "cell_type": "code",
   "execution_count": 2,
   "metadata": {
    "scrolled": false
   },
   "outputs": [
    {
     "data": {
      "text/html": [
       "<div class='tableauPlaceholder' id='viz1598550849044' style='position: relative'><noscript><a href='#'><img alt=' ' src='https:&#47;&#47;public.tableau.com&#47;static&#47;images&#47;Pr&#47;Pricevs_Location&#47;Sheet2&#47;1_rss.png' style='border: none' /></a></noscript><object class='tableauViz'  style='display:none;'><param name='host_url' value='https%3A%2F%2Fpublic.tableau.com%2F' /> <param name='embed_code_version' value='3' /> <param name='path' value='views&#47;Pricevs_Location&#47;Sheet2?:language=en&amp;:embed=y&amp;:display_count=y&amp;publish=yes' /> <param name='toolbar' value='yes' /><param name='static_image' value='https:&#47;&#47;public.tableau.com&#47;static&#47;images&#47;Pr&#47;Pricevs_Location&#47;Sheet2&#47;1.png' /> <param name='animate_transition' value='yes' /><param name='display_static_image' value='yes' /><param name='display_spinner' value='yes' /><param name='display_overlay' value='yes' /><param name='display_count' value='yes' /><param name='language' value='en' /><param name='filter' value='publish=yes' /></object></div>                <script type='text/javascript'>                    var divElement = document.getElementById('viz1598550849044');                    var vizElement = divElement.getElementsByTagName('object')[0];                    vizElement.style.width='100%';vizElement.style.height=(divElement.offsetWidth*0.75)+'px';                    var scriptElement = document.createElement('script');                    scriptElement.src = 'https://public.tableau.com/javascripts/api/viz_v1.js';                    vizElement.parentNode.insertBefore(scriptElement, vizElement);                </script>\n"
      ],
      "text/plain": [
       "<IPython.core.display.HTML object>"
      ]
     },
     "metadata": {},
     "output_type": "display_data"
    }
   ],
   "source": [
    "%%html\n",
    "<div class='tableauPlaceholder' id='viz1598550849044' style='position: relative'><noscript><a href='#'><img alt=' ' src='https:&#47;&#47;public.tableau.com&#47;static&#47;images&#47;Pr&#47;Pricevs_Location&#47;Sheet2&#47;1_rss.png' style='border: none' /></a></noscript><object class='tableauViz'  style='display:none;'><param name='host_url' value='https%3A%2F%2Fpublic.tableau.com%2F' /> <param name='embed_code_version' value='3' /> <param name='path' value='views&#47;Pricevs_Location&#47;Sheet2?:language=en&amp;:embed=y&amp;:display_count=y&amp;publish=yes' /> <param name='toolbar' value='yes' /><param name='static_image' value='https:&#47;&#47;public.tableau.com&#47;static&#47;images&#47;Pr&#47;Pricevs_Location&#47;Sheet2&#47;1.png' /> <param name='animate_transition' value='yes' /><param name='display_static_image' value='yes' /><param name='display_spinner' value='yes' /><param name='display_overlay' value='yes' /><param name='display_count' value='yes' /><param name='language' value='en' /><param name='filter' value='publish=yes' /></object></div>                <script type='text/javascript'>                    var divElement = document.getElementById('viz1598550849044');                    var vizElement = divElement.getElementsByTagName('object')[0];                    vizElement.style.width='100%';vizElement.style.height=(divElement.offsetWidth*0.75)+'px';                    var scriptElement = document.createElement('script');                    scriptElement.src = 'https://public.tableau.com/javascripts/api/viz_v1.js';                    vizElement.parentNode.insertBefore(scriptElement, vizElement);                </script>"
   ]
  },
  {
   "cell_type": "markdown",
   "metadata": {},
   "source": [
    "# Location vs. Yearbuilt"
   ]
  },
  {
   "cell_type": "markdown",
   "metadata": {},
   "source": [
    "> I wanted to take a look at where the newer houses were being built in King County. Looking at the tableau below we can see that most new houses are going up northeast of the city as well. This leads me to believe that the new homes are selling for more."
   ]
  },
  {
   "cell_type": "code",
   "execution_count": 3,
   "metadata": {},
   "outputs": [
    {
     "data": {
      "text/html": [
       "<div class='tableauPlaceholder' id='viz1598550894188' style='position: relative'><noscript><a href='#'><img alt=' ' src='https:&#47;&#47;public.tableau.com&#47;static&#47;images&#47;Yr&#47;YrBuiltvs_Location&#47;Sheet3&#47;1_rss.png' style='border: none' /></a></noscript><object class='tableauViz'  style='display:none;'><param name='host_url' value='https%3A%2F%2Fpublic.tableau.com%2F' /> <param name='embed_code_version' value='3' /> <param name='site_root' value='' /><param name='name' value='YrBuiltvs_Location&#47;Sheet3' /><param name='tabs' value='no' /><param name='toolbar' value='yes' /><param name='static_image' value='https:&#47;&#47;public.tableau.com&#47;static&#47;images&#47;Yr&#47;YrBuiltvs_Location&#47;Sheet3&#47;1.png' /> <param name='animate_transition' value='yes' /><param name='display_static_image' value='yes' /><param name='display_spinner' value='yes' /><param name='display_overlay' value='yes' /><param name='display_count' value='yes' /><param name='language' value='en' /><param name='filter' value='publish=yes' /></object></div>                <script type='text/javascript'>                    var divElement = document.getElementById('viz1598550894188');                    var vizElement = divElement.getElementsByTagName('object')[0];                    vizElement.style.width='100%';vizElement.style.height=(divElement.offsetWidth*0.75)+'px';                    var scriptElement = document.createElement('script');                    scriptElement.src = 'https://public.tableau.com/javascripts/api/viz_v1.js';                    vizElement.parentNode.insertBefore(scriptElement, vizElement);                </script>\n"
      ],
      "text/plain": [
       "<IPython.core.display.HTML object>"
      ]
     },
     "metadata": {},
     "output_type": "display_data"
    }
   ],
   "source": [
    "%%html\n",
    "<div class='tableauPlaceholder' id='viz1598550894188' style='position: relative'><noscript><a href='#'><img alt=' ' src='https:&#47;&#47;public.tableau.com&#47;static&#47;images&#47;Yr&#47;YrBuiltvs_Location&#47;Sheet3&#47;1_rss.png' style='border: none' /></a></noscript><object class='tableauViz'  style='display:none;'><param name='host_url' value='https%3A%2F%2Fpublic.tableau.com%2F' /> <param name='embed_code_version' value='3' /> <param name='site_root' value='' /><param name='name' value='YrBuiltvs_Location&#47;Sheet3' /><param name='tabs' value='no' /><param name='toolbar' value='yes' /><param name='static_image' value='https:&#47;&#47;public.tableau.com&#47;static&#47;images&#47;Yr&#47;YrBuiltvs_Location&#47;Sheet3&#47;1.png' /> <param name='animate_transition' value='yes' /><param name='display_static_image' value='yes' /><param name='display_spinner' value='yes' /><param name='display_overlay' value='yes' /><param name='display_count' value='yes' /><param name='language' value='en' /><param name='filter' value='publish=yes' /></object></div>                <script type='text/javascript'>                    var divElement = document.getElementById('viz1598550894188');                    var vizElement = divElement.getElementsByTagName('object')[0];                    vizElement.style.width='100%';vizElement.style.height=(divElement.offsetWidth*0.75)+'px';                    var scriptElement = document.createElement('script');                    scriptElement.src = 'https://public.tableau.com/javascripts/api/viz_v1.js';                    vizElement.parentNode.insertBefore(scriptElement, vizElement);                </script>"
   ]
  },
  {
   "cell_type": "markdown",
   "metadata": {},
   "source": [
    "# Obtain Data"
   ]
  },
  {
   "cell_type": "code",
   "execution_count": 4,
   "metadata": {},
   "outputs": [
    {
     "name": "stderr",
     "output_type": "stream",
     "text": [
      "/Users/laurenesser/opt/anaconda3/envs/learn-env/lib/python3.6/site-packages/statsmodels/tools/_testing.py:19: FutureWarning: pandas.util.testing is deprecated. Use the functions in the public API at pandas.testing instead.\n",
      "  import pandas.util.testing as tm\n"
     ]
    }
   ],
   "source": [
    "import pandas as pd\n",
    "import numpy as np\n",
    "import matplotlib.pyplot as plt\n",
    "%matplotlib inline\n",
    "import seaborn as sns\n",
    "\n",
    "import statsmodels.api as sm\n",
    "import statsmodels.formula.api as smf\n"
   ]
  },
  {
   "cell_type": "markdown",
   "metadata": {},
   "source": [
    ">Here I imported the dataframe and set options to display maximum rows."
   ]
  },
  {
   "cell_type": "code",
   "execution_count": 5,
   "metadata": {
    "scrolled": true
   },
   "outputs": [],
   "source": [
    "#!pip install -U fsds\n",
    "#from fsds.imports import *"
   ]
  },
  {
   "cell_type": "code",
   "execution_count": 6,
   "metadata": {
    "scrolled": true
   },
   "outputs": [
    {
     "data": {
      "text/html": [
       "<div>\n",
       "<style scoped>\n",
       "    .dataframe tbody tr th:only-of-type {\n",
       "        vertical-align: middle;\n",
       "    }\n",
       "\n",
       "    .dataframe tbody tr th {\n",
       "        vertical-align: top;\n",
       "    }\n",
       "\n",
       "    .dataframe thead th {\n",
       "        text-align: right;\n",
       "    }\n",
       "</style>\n",
       "<table border=\"1\" class=\"dataframe\">\n",
       "  <thead>\n",
       "    <tr style=\"text-align: right;\">\n",
       "      <th></th>\n",
       "      <th>id</th>\n",
       "      <th>date</th>\n",
       "      <th>price</th>\n",
       "      <th>bedrooms</th>\n",
       "      <th>bathrooms</th>\n",
       "      <th>sqft_living</th>\n",
       "      <th>sqft_lot</th>\n",
       "      <th>floors</th>\n",
       "      <th>waterfront</th>\n",
       "      <th>view</th>\n",
       "      <th>condition</th>\n",
       "      <th>grade</th>\n",
       "      <th>sqft_above</th>\n",
       "      <th>sqft_basement</th>\n",
       "      <th>yr_built</th>\n",
       "      <th>yr_renovated</th>\n",
       "      <th>zipcode</th>\n",
       "      <th>lat</th>\n",
       "      <th>long</th>\n",
       "      <th>sqft_living15</th>\n",
       "      <th>sqft_lot15</th>\n",
       "    </tr>\n",
       "  </thead>\n",
       "  <tbody>\n",
       "    <tr>\n",
       "      <th>0</th>\n",
       "      <td>7129300520</td>\n",
       "      <td>10/13/2014</td>\n",
       "      <td>221900.0</td>\n",
       "      <td>3</td>\n",
       "      <td>1.00</td>\n",
       "      <td>1180</td>\n",
       "      <td>5650</td>\n",
       "      <td>1.0</td>\n",
       "      <td>NaN</td>\n",
       "      <td>0.0</td>\n",
       "      <td>3</td>\n",
       "      <td>7</td>\n",
       "      <td>1180</td>\n",
       "      <td>0.0</td>\n",
       "      <td>1955</td>\n",
       "      <td>0.0</td>\n",
       "      <td>98178</td>\n",
       "      <td>47.5112</td>\n",
       "      <td>-122.257</td>\n",
       "      <td>1340</td>\n",
       "      <td>5650</td>\n",
       "    </tr>\n",
       "    <tr>\n",
       "      <th>1</th>\n",
       "      <td>6414100192</td>\n",
       "      <td>12/9/2014</td>\n",
       "      <td>538000.0</td>\n",
       "      <td>3</td>\n",
       "      <td>2.25</td>\n",
       "      <td>2570</td>\n",
       "      <td>7242</td>\n",
       "      <td>2.0</td>\n",
       "      <td>0.0</td>\n",
       "      <td>0.0</td>\n",
       "      <td>3</td>\n",
       "      <td>7</td>\n",
       "      <td>2170</td>\n",
       "      <td>400.0</td>\n",
       "      <td>1951</td>\n",
       "      <td>1991.0</td>\n",
       "      <td>98125</td>\n",
       "      <td>47.7210</td>\n",
       "      <td>-122.319</td>\n",
       "      <td>1690</td>\n",
       "      <td>7639</td>\n",
       "    </tr>\n",
       "    <tr>\n",
       "      <th>2</th>\n",
       "      <td>5631500400</td>\n",
       "      <td>2/25/2015</td>\n",
       "      <td>180000.0</td>\n",
       "      <td>2</td>\n",
       "      <td>1.00</td>\n",
       "      <td>770</td>\n",
       "      <td>10000</td>\n",
       "      <td>1.0</td>\n",
       "      <td>0.0</td>\n",
       "      <td>0.0</td>\n",
       "      <td>3</td>\n",
       "      <td>6</td>\n",
       "      <td>770</td>\n",
       "      <td>0.0</td>\n",
       "      <td>1933</td>\n",
       "      <td>NaN</td>\n",
       "      <td>98028</td>\n",
       "      <td>47.7379</td>\n",
       "      <td>-122.233</td>\n",
       "      <td>2720</td>\n",
       "      <td>8062</td>\n",
       "    </tr>\n",
       "    <tr>\n",
       "      <th>3</th>\n",
       "      <td>2487200875</td>\n",
       "      <td>12/9/2014</td>\n",
       "      <td>604000.0</td>\n",
       "      <td>4</td>\n",
       "      <td>3.00</td>\n",
       "      <td>1960</td>\n",
       "      <td>5000</td>\n",
       "      <td>1.0</td>\n",
       "      <td>0.0</td>\n",
       "      <td>0.0</td>\n",
       "      <td>5</td>\n",
       "      <td>7</td>\n",
       "      <td>1050</td>\n",
       "      <td>910.0</td>\n",
       "      <td>1965</td>\n",
       "      <td>0.0</td>\n",
       "      <td>98136</td>\n",
       "      <td>47.5208</td>\n",
       "      <td>-122.393</td>\n",
       "      <td>1360</td>\n",
       "      <td>5000</td>\n",
       "    </tr>\n",
       "    <tr>\n",
       "      <th>4</th>\n",
       "      <td>1954400510</td>\n",
       "      <td>2/18/2015</td>\n",
       "      <td>510000.0</td>\n",
       "      <td>3</td>\n",
       "      <td>2.00</td>\n",
       "      <td>1680</td>\n",
       "      <td>8080</td>\n",
       "      <td>1.0</td>\n",
       "      <td>0.0</td>\n",
       "      <td>0.0</td>\n",
       "      <td>3</td>\n",
       "      <td>8</td>\n",
       "      <td>1680</td>\n",
       "      <td>0.0</td>\n",
       "      <td>1987</td>\n",
       "      <td>0.0</td>\n",
       "      <td>98074</td>\n",
       "      <td>47.6168</td>\n",
       "      <td>-122.045</td>\n",
       "      <td>1800</td>\n",
       "      <td>7503</td>\n",
       "    </tr>\n",
       "  </tbody>\n",
       "</table>\n",
       "</div>"
      ],
      "text/plain": [
       "           id        date     price  ...     long  sqft_living15  sqft_lot15\n",
       "0  7129300520  10/13/2014  221900.0  ... -122.257           1340        5650\n",
       "1  6414100192   12/9/2014  538000.0  ... -122.319           1690        7639\n",
       "2  5631500400   2/25/2015  180000.0  ... -122.233           2720        8062\n",
       "3  2487200875   12/9/2014  604000.0  ... -122.393           1360        5000\n",
       "4  1954400510   2/18/2015  510000.0  ... -122.045           1800        7503\n",
       "\n",
       "[5 rows x 21 columns]"
      ]
     },
     "execution_count": 6,
     "metadata": {},
     "output_type": "execute_result"
    }
   ],
   "source": [
    "#df = fs.datasets.load_mod1_proj()\n",
    "df = pd.read_csv(\"kc_house_data.csv\")\n",
    "pd.set_option('display.max_columns', 0)\n",
    "df.head()\n",
    "#df.to_csv('kc_house_data1.csv')"
   ]
  },
  {
   "cell_type": "markdown",
   "metadata": {},
   "source": [
    "### Check for Duplicates"
   ]
  },
  {
   "cell_type": "markdown",
   "metadata": {},
   "source": [
    "> Below I checked for duplicates in the dataframe using the id column: \n",
    "\n",
    "> **177 duplicates**\n",
    "\n",
    "> Reasoning for this could be if a specific house sold more than one time over the data collection period. I chose to drop the duplicates for the id column in order to represent each house only once. By using keep = first I chose to keep the first occurring id only and drop any after that."
   ]
  },
  {
   "cell_type": "code",
   "execution_count": 7,
   "metadata": {
    "scrolled": true
   },
   "outputs": [
    {
     "name": "stdout",
     "output_type": "stream",
     "text": [
      "177\n"
     ]
    },
    {
     "data": {
      "text/html": [
       "<div>\n",
       "<style scoped>\n",
       "    .dataframe tbody tr th:only-of-type {\n",
       "        vertical-align: middle;\n",
       "    }\n",
       "\n",
       "    .dataframe tbody tr th {\n",
       "        vertical-align: top;\n",
       "    }\n",
       "\n",
       "    .dataframe thead th {\n",
       "        text-align: right;\n",
       "    }\n",
       "</style>\n",
       "<table border=\"1\" class=\"dataframe\">\n",
       "  <thead>\n",
       "    <tr style=\"text-align: right;\">\n",
       "      <th></th>\n",
       "      <th>id</th>\n",
       "      <th>date</th>\n",
       "      <th>price</th>\n",
       "      <th>bedrooms</th>\n",
       "      <th>bathrooms</th>\n",
       "      <th>sqft_living</th>\n",
       "      <th>sqft_lot</th>\n",
       "      <th>floors</th>\n",
       "      <th>waterfront</th>\n",
       "      <th>view</th>\n",
       "      <th>condition</th>\n",
       "      <th>grade</th>\n",
       "      <th>sqft_above</th>\n",
       "      <th>sqft_basement</th>\n",
       "      <th>yr_built</th>\n",
       "      <th>yr_renovated</th>\n",
       "      <th>zipcode</th>\n",
       "      <th>lat</th>\n",
       "      <th>long</th>\n",
       "      <th>sqft_living15</th>\n",
       "      <th>sqft_lot15</th>\n",
       "    </tr>\n",
       "  </thead>\n",
       "  <tbody>\n",
       "    <tr>\n",
       "      <th>94</th>\n",
       "      <td>6021501535</td>\n",
       "      <td>12/23/2014</td>\n",
       "      <td>700000.0</td>\n",
       "      <td>3</td>\n",
       "      <td>1.50</td>\n",
       "      <td>1580</td>\n",
       "      <td>5000</td>\n",
       "      <td>1.0</td>\n",
       "      <td>0.0</td>\n",
       "      <td>0.0</td>\n",
       "      <td>3</td>\n",
       "      <td>8</td>\n",
       "      <td>1290</td>\n",
       "      <td>290.0</td>\n",
       "      <td>1939</td>\n",
       "      <td>0.0</td>\n",
       "      <td>98117</td>\n",
       "      <td>47.6870</td>\n",
       "      <td>-122.386</td>\n",
       "      <td>1570</td>\n",
       "      <td>4500</td>\n",
       "    </tr>\n",
       "    <tr>\n",
       "      <th>314</th>\n",
       "      <td>4139480200</td>\n",
       "      <td>12/9/2014</td>\n",
       "      <td>1400000.0</td>\n",
       "      <td>4</td>\n",
       "      <td>3.25</td>\n",
       "      <td>4290</td>\n",
       "      <td>12103</td>\n",
       "      <td>1.0</td>\n",
       "      <td>0.0</td>\n",
       "      <td>3.0</td>\n",
       "      <td>3</td>\n",
       "      <td>11</td>\n",
       "      <td>2690</td>\n",
       "      <td>1600.0</td>\n",
       "      <td>1997</td>\n",
       "      <td>0.0</td>\n",
       "      <td>98006</td>\n",
       "      <td>47.5503</td>\n",
       "      <td>-122.102</td>\n",
       "      <td>3860</td>\n",
       "      <td>11244</td>\n",
       "    </tr>\n",
       "    <tr>\n",
       "      <th>325</th>\n",
       "      <td>7520000520</td>\n",
       "      <td>3/11/2015</td>\n",
       "      <td>240500.0</td>\n",
       "      <td>2</td>\n",
       "      <td>1.00</td>\n",
       "      <td>1240</td>\n",
       "      <td>12092</td>\n",
       "      <td>1.0</td>\n",
       "      <td>0.0</td>\n",
       "      <td>0.0</td>\n",
       "      <td>3</td>\n",
       "      <td>6</td>\n",
       "      <td>960</td>\n",
       "      <td>280.0</td>\n",
       "      <td>1922</td>\n",
       "      <td>1984.0</td>\n",
       "      <td>98146</td>\n",
       "      <td>47.4957</td>\n",
       "      <td>-122.352</td>\n",
       "      <td>1820</td>\n",
       "      <td>7460</td>\n",
       "    </tr>\n",
       "    <tr>\n",
       "      <th>346</th>\n",
       "      <td>3969300030</td>\n",
       "      <td>12/29/2014</td>\n",
       "      <td>239900.0</td>\n",
       "      <td>4</td>\n",
       "      <td>1.00</td>\n",
       "      <td>1000</td>\n",
       "      <td>7134</td>\n",
       "      <td>1.0</td>\n",
       "      <td>0.0</td>\n",
       "      <td>0.0</td>\n",
       "      <td>3</td>\n",
       "      <td>6</td>\n",
       "      <td>1000</td>\n",
       "      <td>0.0</td>\n",
       "      <td>1943</td>\n",
       "      <td>NaN</td>\n",
       "      <td>98178</td>\n",
       "      <td>47.4897</td>\n",
       "      <td>-122.240</td>\n",
       "      <td>1020</td>\n",
       "      <td>7138</td>\n",
       "    </tr>\n",
       "    <tr>\n",
       "      <th>372</th>\n",
       "      <td>2231500030</td>\n",
       "      <td>3/24/2015</td>\n",
       "      <td>530000.0</td>\n",
       "      <td>4</td>\n",
       "      <td>2.25</td>\n",
       "      <td>2180</td>\n",
       "      <td>10754</td>\n",
       "      <td>1.0</td>\n",
       "      <td>0.0</td>\n",
       "      <td>0.0</td>\n",
       "      <td>5</td>\n",
       "      <td>7</td>\n",
       "      <td>1100</td>\n",
       "      <td>1080.0</td>\n",
       "      <td>1954</td>\n",
       "      <td>0.0</td>\n",
       "      <td>98133</td>\n",
       "      <td>47.7711</td>\n",
       "      <td>-122.341</td>\n",
       "      <td>1810</td>\n",
       "      <td>6929</td>\n",
       "    </tr>\n",
       "  </tbody>\n",
       "</table>\n",
       "</div>"
      ],
      "text/plain": [
       "             id        date      price  ...     long  sqft_living15  sqft_lot15\n",
       "94   6021501535  12/23/2014   700000.0  ... -122.386           1570        4500\n",
       "314  4139480200   12/9/2014  1400000.0  ... -122.102           3860       11244\n",
       "325  7520000520   3/11/2015   240500.0  ... -122.352           1820        7460\n",
       "346  3969300030  12/29/2014   239900.0  ... -122.240           1020        7138\n",
       "372  2231500030   3/24/2015   530000.0  ... -122.341           1810        6929\n",
       "\n",
       "[5 rows x 21 columns]"
      ]
     },
     "execution_count": 7,
     "metadata": {},
     "output_type": "execute_result"
    }
   ],
   "source": [
    "#Check for duplicates\n",
    "duplicates = df[df.duplicated(subset = 'id')]\n",
    "print(len(duplicates))\n",
    "duplicates.head()"
   ]
  },
  {
   "cell_type": "code",
   "execution_count": 8,
   "metadata": {},
   "outputs": [],
   "source": [
    "#Drop duplicates using id column.\n",
    "df.drop_duplicates(subset =\"id\", \n",
    "                     keep = 'first', inplace = True) "
   ]
  },
  {
   "cell_type": "code",
   "execution_count": 9,
   "metadata": {
    "scrolled": false
   },
   "outputs": [
    {
     "name": "stdout",
     "output_type": "stream",
     "text": [
      "0\n"
     ]
    },
    {
     "data": {
      "text/html": [
       "<div>\n",
       "<style scoped>\n",
       "    .dataframe tbody tr th:only-of-type {\n",
       "        vertical-align: middle;\n",
       "    }\n",
       "\n",
       "    .dataframe tbody tr th {\n",
       "        vertical-align: top;\n",
       "    }\n",
       "\n",
       "    .dataframe thead th {\n",
       "        text-align: right;\n",
       "    }\n",
       "</style>\n",
       "<table border=\"1\" class=\"dataframe\">\n",
       "  <thead>\n",
       "    <tr style=\"text-align: right;\">\n",
       "      <th></th>\n",
       "      <th>id</th>\n",
       "      <th>date</th>\n",
       "      <th>price</th>\n",
       "      <th>bedrooms</th>\n",
       "      <th>bathrooms</th>\n",
       "      <th>sqft_living</th>\n",
       "      <th>sqft_lot</th>\n",
       "      <th>floors</th>\n",
       "      <th>waterfront</th>\n",
       "      <th>view</th>\n",
       "      <th>condition</th>\n",
       "      <th>grade</th>\n",
       "      <th>sqft_above</th>\n",
       "      <th>sqft_basement</th>\n",
       "      <th>yr_built</th>\n",
       "      <th>yr_renovated</th>\n",
       "      <th>zipcode</th>\n",
       "      <th>lat</th>\n",
       "      <th>long</th>\n",
       "      <th>sqft_living15</th>\n",
       "      <th>sqft_lot15</th>\n",
       "    </tr>\n",
       "  </thead>\n",
       "  <tbody>\n",
       "  </tbody>\n",
       "</table>\n",
       "</div>"
      ],
      "text/plain": [
       "Empty DataFrame\n",
       "Columns: [id, date, price, bedrooms, bathrooms, sqft_living, sqft_lot, floors, waterfront, view, condition, grade, sqft_above, sqft_basement, yr_built, yr_renovated, zipcode, lat, long, sqft_living15, sqft_lot15]\n",
       "Index: []"
      ]
     },
     "execution_count": 9,
     "metadata": {},
     "output_type": "execute_result"
    }
   ],
   "source": [
    "#Recheck for duplicates\n",
    "duplicates = df[df.duplicated(subset = 'id')]\n",
    "print(len(duplicates))\n",
    "duplicates.head()"
   ]
  },
  {
   "cell_type": "code",
   "execution_count": 10,
   "metadata": {
    "scrolled": false
   },
   "outputs": [
    {
     "data": {
      "text/plain": [
       "2494        1000102\n",
       "6729        1200019\n",
       "8404        1200021\n",
       "8800        2800031\n",
       "3553        3600057\n",
       "            ...    \n",
       "16723    9842300095\n",
       "3257     9842300485\n",
       "7614     9842300540\n",
       "20963    9895000040\n",
       "15937    9900000190\n",
       "Name: id, Length: 21420, dtype: int64"
      ]
     },
     "execution_count": 10,
     "metadata": {},
     "output_type": "execute_result"
    }
   ],
   "source": [
    "#check len/val\n",
    "df.id.sort_values()"
   ]
  },
  {
   "cell_type": "code",
   "execution_count": 11,
   "metadata": {},
   "outputs": [],
   "source": [
    "#drop id since it is no longer needed\n",
    "df.drop(['id'], axis=1, inplace=True)"
   ]
  },
  {
   "cell_type": "code",
   "execution_count": 12,
   "metadata": {},
   "outputs": [
    {
     "data": {
      "text/html": [
       "<div>\n",
       "<style scoped>\n",
       "    .dataframe tbody tr th:only-of-type {\n",
       "        vertical-align: middle;\n",
       "    }\n",
       "\n",
       "    .dataframe tbody tr th {\n",
       "        vertical-align: top;\n",
       "    }\n",
       "\n",
       "    .dataframe thead th {\n",
       "        text-align: right;\n",
       "    }\n",
       "</style>\n",
       "<table border=\"1\" class=\"dataframe\">\n",
       "  <thead>\n",
       "    <tr style=\"text-align: right;\">\n",
       "      <th></th>\n",
       "      <th>date</th>\n",
       "      <th>price</th>\n",
       "      <th>bedrooms</th>\n",
       "      <th>bathrooms</th>\n",
       "      <th>sqft_living</th>\n",
       "      <th>sqft_lot</th>\n",
       "      <th>floors</th>\n",
       "      <th>waterfront</th>\n",
       "      <th>view</th>\n",
       "      <th>condition</th>\n",
       "      <th>grade</th>\n",
       "      <th>sqft_above</th>\n",
       "      <th>sqft_basement</th>\n",
       "      <th>yr_built</th>\n",
       "      <th>yr_renovated</th>\n",
       "      <th>zipcode</th>\n",
       "      <th>lat</th>\n",
       "      <th>long</th>\n",
       "      <th>sqft_living15</th>\n",
       "      <th>sqft_lot15</th>\n",
       "    </tr>\n",
       "  </thead>\n",
       "  <tbody>\n",
       "    <tr>\n",
       "      <th>0</th>\n",
       "      <td>10/13/2014</td>\n",
       "      <td>221900.0</td>\n",
       "      <td>3</td>\n",
       "      <td>1.00</td>\n",
       "      <td>1180</td>\n",
       "      <td>5650</td>\n",
       "      <td>1.0</td>\n",
       "      <td>NaN</td>\n",
       "      <td>0.0</td>\n",
       "      <td>3</td>\n",
       "      <td>7</td>\n",
       "      <td>1180</td>\n",
       "      <td>0.0</td>\n",
       "      <td>1955</td>\n",
       "      <td>0.0</td>\n",
       "      <td>98178</td>\n",
       "      <td>47.5112</td>\n",
       "      <td>-122.257</td>\n",
       "      <td>1340</td>\n",
       "      <td>5650</td>\n",
       "    </tr>\n",
       "    <tr>\n",
       "      <th>1</th>\n",
       "      <td>12/9/2014</td>\n",
       "      <td>538000.0</td>\n",
       "      <td>3</td>\n",
       "      <td>2.25</td>\n",
       "      <td>2570</td>\n",
       "      <td>7242</td>\n",
       "      <td>2.0</td>\n",
       "      <td>0.0</td>\n",
       "      <td>0.0</td>\n",
       "      <td>3</td>\n",
       "      <td>7</td>\n",
       "      <td>2170</td>\n",
       "      <td>400.0</td>\n",
       "      <td>1951</td>\n",
       "      <td>1991.0</td>\n",
       "      <td>98125</td>\n",
       "      <td>47.7210</td>\n",
       "      <td>-122.319</td>\n",
       "      <td>1690</td>\n",
       "      <td>7639</td>\n",
       "    </tr>\n",
       "    <tr>\n",
       "      <th>2</th>\n",
       "      <td>2/25/2015</td>\n",
       "      <td>180000.0</td>\n",
       "      <td>2</td>\n",
       "      <td>1.00</td>\n",
       "      <td>770</td>\n",
       "      <td>10000</td>\n",
       "      <td>1.0</td>\n",
       "      <td>0.0</td>\n",
       "      <td>0.0</td>\n",
       "      <td>3</td>\n",
       "      <td>6</td>\n",
       "      <td>770</td>\n",
       "      <td>0.0</td>\n",
       "      <td>1933</td>\n",
       "      <td>NaN</td>\n",
       "      <td>98028</td>\n",
       "      <td>47.7379</td>\n",
       "      <td>-122.233</td>\n",
       "      <td>2720</td>\n",
       "      <td>8062</td>\n",
       "    </tr>\n",
       "    <tr>\n",
       "      <th>3</th>\n",
       "      <td>12/9/2014</td>\n",
       "      <td>604000.0</td>\n",
       "      <td>4</td>\n",
       "      <td>3.00</td>\n",
       "      <td>1960</td>\n",
       "      <td>5000</td>\n",
       "      <td>1.0</td>\n",
       "      <td>0.0</td>\n",
       "      <td>0.0</td>\n",
       "      <td>5</td>\n",
       "      <td>7</td>\n",
       "      <td>1050</td>\n",
       "      <td>910.0</td>\n",
       "      <td>1965</td>\n",
       "      <td>0.0</td>\n",
       "      <td>98136</td>\n",
       "      <td>47.5208</td>\n",
       "      <td>-122.393</td>\n",
       "      <td>1360</td>\n",
       "      <td>5000</td>\n",
       "    </tr>\n",
       "    <tr>\n",
       "      <th>4</th>\n",
       "      <td>2/18/2015</td>\n",
       "      <td>510000.0</td>\n",
       "      <td>3</td>\n",
       "      <td>2.00</td>\n",
       "      <td>1680</td>\n",
       "      <td>8080</td>\n",
       "      <td>1.0</td>\n",
       "      <td>0.0</td>\n",
       "      <td>0.0</td>\n",
       "      <td>3</td>\n",
       "      <td>8</td>\n",
       "      <td>1680</td>\n",
       "      <td>0.0</td>\n",
       "      <td>1987</td>\n",
       "      <td>0.0</td>\n",
       "      <td>98074</td>\n",
       "      <td>47.6168</td>\n",
       "      <td>-122.045</td>\n",
       "      <td>1800</td>\n",
       "      <td>7503</td>\n",
       "    </tr>\n",
       "  </tbody>\n",
       "</table>\n",
       "</div>"
      ],
      "text/plain": [
       "         date     price  bedrooms  ...     long  sqft_living15  sqft_lot15\n",
       "0  10/13/2014  221900.0         3  ... -122.257           1340        5650\n",
       "1   12/9/2014  538000.0         3  ... -122.319           1690        7639\n",
       "2   2/25/2015  180000.0         2  ... -122.233           2720        8062\n",
       "3   12/9/2014  604000.0         4  ... -122.393           1360        5000\n",
       "4   2/18/2015  510000.0         3  ... -122.045           1800        7503\n",
       "\n",
       "[5 rows x 20 columns]"
      ]
     },
     "execution_count": 12,
     "metadata": {},
     "output_type": "execute_result"
    }
   ],
   "source": [
    "df.head()"
   ]
  },
  {
   "cell_type": "code",
   "execution_count": 13,
   "metadata": {
    "scrolled": true
   },
   "outputs": [
    {
     "name": "stdout",
     "output_type": "stream",
     "text": [
      "<class 'pandas.core.frame.DataFrame'>\n",
      "Int64Index: 21420 entries, 0 to 21596\n",
      "Data columns (total 20 columns):\n",
      " #   Column         Non-Null Count  Dtype  \n",
      "---  ------         --------------  -----  \n",
      " 0   date           21420 non-null  object \n",
      " 1   price          21420 non-null  float64\n",
      " 2   bedrooms       21420 non-null  int64  \n",
      " 3   bathrooms      21420 non-null  float64\n",
      " 4   sqft_living    21420 non-null  int64  \n",
      " 5   sqft_lot       21420 non-null  int64  \n",
      " 6   floors         21420 non-null  float64\n",
      " 7   waterfront     19067 non-null  float64\n",
      " 8   view           21357 non-null  float64\n",
      " 9   condition      21420 non-null  int64  \n",
      " 10  grade          21420 non-null  int64  \n",
      " 11  sqft_above     21420 non-null  int64  \n",
      " 12  sqft_basement  21420 non-null  object \n",
      " 13  yr_built       21420 non-null  int64  \n",
      " 14  yr_renovated   17616 non-null  float64\n",
      " 15  zipcode        21420 non-null  int64  \n",
      " 16  lat            21420 non-null  float64\n",
      " 17  long           21420 non-null  float64\n",
      " 18  sqft_living15  21420 non-null  int64  \n",
      " 19  sqft_lot15     21420 non-null  int64  \n",
      "dtypes: float64(8), int64(10), object(2)\n",
      "memory usage: 3.4+ MB\n"
     ]
    }
   ],
   "source": [
    "df.info()"
   ]
  },
  {
   "cell_type": "markdown",
   "metadata": {},
   "source": [
    "### Observations"
   ]
  },
  {
   "cell_type": "markdown",
   "metadata": {},
   "source": [
    "> - **D-Types**:\n",
    "    - float64 = 8\n",
    "    - int64 = 10\n",
    "    - object = 2 (Need to switch sqft_basement over to float)\n",
    "- **Missing Data**:\n",
    "    - waterfront\n",
    "    - view\n",
    "    - yr_renovated"
   ]
  },
  {
   "cell_type": "markdown",
   "metadata": {},
   "source": [
    "# Scrub"
   ]
  },
  {
   "cell_type": "markdown",
   "metadata": {},
   "source": [
    "### Check for labeled categorical columns"
   ]
  },
  {
   "cell_type": "code",
   "execution_count": 14,
   "metadata": {},
   "outputs": [
    {
     "data": {
      "text/html": [
       "<div>\n",
       "<style scoped>\n",
       "    .dataframe tbody tr th:only-of-type {\n",
       "        vertical-align: middle;\n",
       "    }\n",
       "\n",
       "    .dataframe tbody tr th {\n",
       "        vertical-align: top;\n",
       "    }\n",
       "\n",
       "    .dataframe thead th {\n",
       "        text-align: right;\n",
       "    }\n",
       "</style>\n",
       "<table border=\"1\" class=\"dataframe\">\n",
       "  <thead>\n",
       "    <tr style=\"text-align: right;\">\n",
       "      <th></th>\n",
       "      <th>date</th>\n",
       "      <th>sqft_basement</th>\n",
       "    </tr>\n",
       "  </thead>\n",
       "  <tbody>\n",
       "    <tr>\n",
       "      <th>0</th>\n",
       "      <td>10/13/2014</td>\n",
       "      <td>0.0</td>\n",
       "    </tr>\n",
       "    <tr>\n",
       "      <th>1</th>\n",
       "      <td>12/9/2014</td>\n",
       "      <td>400.0</td>\n",
       "    </tr>\n",
       "    <tr>\n",
       "      <th>2</th>\n",
       "      <td>2/25/2015</td>\n",
       "      <td>0.0</td>\n",
       "    </tr>\n",
       "    <tr>\n",
       "      <th>3</th>\n",
       "      <td>12/9/2014</td>\n",
       "      <td>910.0</td>\n",
       "    </tr>\n",
       "    <tr>\n",
       "      <th>4</th>\n",
       "      <td>2/18/2015</td>\n",
       "      <td>0.0</td>\n",
       "    </tr>\n",
       "    <tr>\n",
       "      <th>...</th>\n",
       "      <td>...</td>\n",
       "      <td>...</td>\n",
       "    </tr>\n",
       "    <tr>\n",
       "      <th>21592</th>\n",
       "      <td>5/21/2014</td>\n",
       "      <td>0.0</td>\n",
       "    </tr>\n",
       "    <tr>\n",
       "      <th>21593</th>\n",
       "      <td>2/23/2015</td>\n",
       "      <td>0.0</td>\n",
       "    </tr>\n",
       "    <tr>\n",
       "      <th>21594</th>\n",
       "      <td>6/23/2014</td>\n",
       "      <td>0.0</td>\n",
       "    </tr>\n",
       "    <tr>\n",
       "      <th>21595</th>\n",
       "      <td>1/16/2015</td>\n",
       "      <td>0.0</td>\n",
       "    </tr>\n",
       "    <tr>\n",
       "      <th>21596</th>\n",
       "      <td>10/15/2014</td>\n",
       "      <td>0.0</td>\n",
       "    </tr>\n",
       "  </tbody>\n",
       "</table>\n",
       "<p>21420 rows × 2 columns</p>\n",
       "</div>"
      ],
      "text/plain": [
       "             date sqft_basement\n",
       "0      10/13/2014           0.0\n",
       "1       12/9/2014         400.0\n",
       "2       2/25/2015           0.0\n",
       "3       12/9/2014         910.0\n",
       "4       2/18/2015           0.0\n",
       "...           ...           ...\n",
       "21592   5/21/2014           0.0\n",
       "21593   2/23/2015           0.0\n",
       "21594   6/23/2014           0.0\n",
       "21595   1/16/2015           0.0\n",
       "21596  10/15/2014           0.0\n",
       "\n",
       "[21420 rows x 2 columns]"
      ]
     },
     "execution_count": 14,
     "metadata": {},
     "output_type": "execute_result"
    }
   ],
   "source": [
    "cat_cols = df.select_dtypes('object')\n",
    "cat_cols"
   ]
  },
  {
   "cell_type": "code",
   "execution_count": 15,
   "metadata": {
    "scrolled": false
   },
   "outputs": [
    {
     "data": {
      "text/plain": [
       "['price',\n",
       " 'bedrooms',\n",
       " 'bathrooms',\n",
       " 'sqft_living',\n",
       " 'sqft_lot',\n",
       " 'floors',\n",
       " 'waterfront',\n",
       " 'view',\n",
       " 'condition',\n",
       " 'grade',\n",
       " 'sqft_above',\n",
       " 'yr_built',\n",
       " 'yr_renovated',\n",
       " 'zipcode',\n",
       " 'lat',\n",
       " 'long',\n",
       " 'sqft_living15',\n",
       " 'sqft_lot15']"
      ]
     },
     "execution_count": 15,
     "metadata": {},
     "output_type": "execute_result"
    }
   ],
   "source": [
    "#while at it create numerical columns list\n",
    "num_cols = list(df.select_dtypes('number').columns)\n",
    "num_cols"
   ]
  },
  {
   "cell_type": "markdown",
   "metadata": {},
   "source": [
    "> Above shows that there are only two labeled as an object or categorical column: **data and sqft_basement**. Since sqft_basement is *numerical* I am going to convert it to a float below."
   ]
  },
  {
   "cell_type": "code",
   "execution_count": 16,
   "metadata": {
    "scrolled": false
   },
   "outputs": [
    {
     "data": {
      "text/plain": [
       "0.0       0.593697\n",
       "?         0.021102\n",
       "600.0     0.010084\n",
       "500.0     0.009617\n",
       "700.0     0.009570\n",
       "            ...   \n",
       "283.0     0.000047\n",
       "1135.0    0.000047\n",
       "2850.0    0.000047\n",
       "172.0     0.000047\n",
       "1245.0    0.000047\n",
       "Name: sqft_basement, Length: 304, dtype: float64"
      ]
     },
     "execution_count": 16,
     "metadata": {},
     "output_type": "execute_result"
    }
   ],
   "source": [
    "#Look at val_counts for sqft_basement\n",
    "df.sqft_basement.value_counts(dropna = False, normalize=True)"
   ]
  },
  {
   "cell_type": "code",
   "execution_count": 17,
   "metadata": {},
   "outputs": [],
   "source": [
    "#replace ? with 0.0\n",
    "df.sqft_basement = df.sqft_basement.replace('?', '0.0')"
   ]
  },
  {
   "cell_type": "markdown",
   "metadata": {},
   "source": [
    "> Here I am assuming that a \n",
    "**?** means there is no basement present therefore I switched all question marks over to *0.0* in the data."
   ]
  },
  {
   "cell_type": "code",
   "execution_count": 18,
   "metadata": {},
   "outputs": [
    {
     "data": {
      "text/plain": [
       "0.0       0.614799\n",
       "600.0     0.010084\n",
       "500.0     0.009617\n",
       "700.0     0.009570\n",
       "800.0     0.009384\n",
       "            ...   \n",
       "283.0     0.000047\n",
       "1135.0    0.000047\n",
       "2850.0    0.000047\n",
       "172.0     0.000047\n",
       "1245.0    0.000047\n",
       "Name: sqft_basement, Length: 303, dtype: float64"
      ]
     },
     "execution_count": 18,
     "metadata": {},
     "output_type": "execute_result"
    }
   ],
   "source": [
    "#Recheck val_counts\n",
    "df.sqft_basement.value_counts(dropna = False, normalize=True)"
   ]
  },
  {
   "cell_type": "code",
   "execution_count": 19,
   "metadata": {
    "scrolled": true
   },
   "outputs": [],
   "source": [
    "#Save and convert to float\n",
    "df.sqft_basement = df.sqft_basement.astype('float')"
   ]
  },
  {
   "cell_type": "markdown",
   "metadata": {},
   "source": [
    "### Examine Nulls"
   ]
  },
  {
   "cell_type": "code",
   "execution_count": 20,
   "metadata": {
    "scrolled": true
   },
   "outputs": [
    {
     "data": {
      "text/html": [
       "<div>\n",
       "<style scoped>\n",
       "    .dataframe tbody tr th:only-of-type {\n",
       "        vertical-align: middle;\n",
       "    }\n",
       "\n",
       "    .dataframe tbody tr th {\n",
       "        vertical-align: top;\n",
       "    }\n",
       "\n",
       "    .dataframe thead th {\n",
       "        text-align: right;\n",
       "    }\n",
       "</style>\n",
       "<table border=\"1\" class=\"dataframe\">\n",
       "  <thead>\n",
       "    <tr style=\"text-align: right;\">\n",
       "      <th></th>\n",
       "      <th>price</th>\n",
       "      <th>bedrooms</th>\n",
       "      <th>bathrooms</th>\n",
       "      <th>sqft_living</th>\n",
       "      <th>sqft_lot</th>\n",
       "      <th>floors</th>\n",
       "      <th>waterfront</th>\n",
       "      <th>view</th>\n",
       "      <th>condition</th>\n",
       "      <th>grade</th>\n",
       "      <th>sqft_above</th>\n",
       "      <th>sqft_basement</th>\n",
       "      <th>yr_built</th>\n",
       "      <th>yr_renovated</th>\n",
       "      <th>zipcode</th>\n",
       "      <th>lat</th>\n",
       "      <th>long</th>\n",
       "      <th>sqft_living15</th>\n",
       "      <th>sqft_lot15</th>\n",
       "    </tr>\n",
       "  </thead>\n",
       "  <tbody>\n",
       "    <tr>\n",
       "      <th>count</th>\n",
       "      <td>2.142000e+04</td>\n",
       "      <td>21420.000000</td>\n",
       "      <td>21420.000000</td>\n",
       "      <td>21420.000000</td>\n",
       "      <td>2.142000e+04</td>\n",
       "      <td>21420.000000</td>\n",
       "      <td>19067.000000</td>\n",
       "      <td>21357.000000</td>\n",
       "      <td>21420.000000</td>\n",
       "      <td>21420.000000</td>\n",
       "      <td>21420.000000</td>\n",
       "      <td>21420.000000</td>\n",
       "      <td>21420.000000</td>\n",
       "      <td>17616.000000</td>\n",
       "      <td>21420.00000</td>\n",
       "      <td>21420.000000</td>\n",
       "      <td>21420.000000</td>\n",
       "      <td>21420.000000</td>\n",
       "      <td>21420.000000</td>\n",
       "    </tr>\n",
       "    <tr>\n",
       "      <th>mean</th>\n",
       "      <td>5.407393e+05</td>\n",
       "      <td>3.373950</td>\n",
       "      <td>2.118429</td>\n",
       "      <td>2083.132633</td>\n",
       "      <td>1.512804e+04</td>\n",
       "      <td>1.495985</td>\n",
       "      <td>0.007657</td>\n",
       "      <td>0.234677</td>\n",
       "      <td>3.410784</td>\n",
       "      <td>7.662792</td>\n",
       "      <td>1791.170215</td>\n",
       "      <td>285.904342</td>\n",
       "      <td>1971.092997</td>\n",
       "      <td>83.847241</td>\n",
       "      <td>98077.87437</td>\n",
       "      <td>47.560197</td>\n",
       "      <td>-122.213784</td>\n",
       "      <td>1988.384080</td>\n",
       "      <td>12775.718161</td>\n",
       "    </tr>\n",
       "    <tr>\n",
       "      <th>std</th>\n",
       "      <td>3.679311e+05</td>\n",
       "      <td>0.925405</td>\n",
       "      <td>0.768720</td>\n",
       "      <td>918.808412</td>\n",
       "      <td>4.153080e+04</td>\n",
       "      <td>0.540081</td>\n",
       "      <td>0.087172</td>\n",
       "      <td>0.766459</td>\n",
       "      <td>0.650035</td>\n",
       "      <td>1.171971</td>\n",
       "      <td>828.692965</td>\n",
       "      <td>440.008202</td>\n",
       "      <td>29.387141</td>\n",
       "      <td>400.436625</td>\n",
       "      <td>53.47748</td>\n",
       "      <td>0.138589</td>\n",
       "      <td>0.140791</td>\n",
       "      <td>685.537057</td>\n",
       "      <td>27345.621867</td>\n",
       "    </tr>\n",
       "    <tr>\n",
       "      <th>min</th>\n",
       "      <td>7.800000e+04</td>\n",
       "      <td>1.000000</td>\n",
       "      <td>0.500000</td>\n",
       "      <td>370.000000</td>\n",
       "      <td>5.200000e+02</td>\n",
       "      <td>1.000000</td>\n",
       "      <td>0.000000</td>\n",
       "      <td>0.000000</td>\n",
       "      <td>1.000000</td>\n",
       "      <td>3.000000</td>\n",
       "      <td>370.000000</td>\n",
       "      <td>0.000000</td>\n",
       "      <td>1900.000000</td>\n",
       "      <td>0.000000</td>\n",
       "      <td>98001.00000</td>\n",
       "      <td>47.155900</td>\n",
       "      <td>-122.519000</td>\n",
       "      <td>399.000000</td>\n",
       "      <td>651.000000</td>\n",
       "    </tr>\n",
       "    <tr>\n",
       "      <th>25%</th>\n",
       "      <td>3.225000e+05</td>\n",
       "      <td>3.000000</td>\n",
       "      <td>1.750000</td>\n",
       "      <td>1430.000000</td>\n",
       "      <td>5.040000e+03</td>\n",
       "      <td>1.000000</td>\n",
       "      <td>0.000000</td>\n",
       "      <td>0.000000</td>\n",
       "      <td>3.000000</td>\n",
       "      <td>7.000000</td>\n",
       "      <td>1200.000000</td>\n",
       "      <td>0.000000</td>\n",
       "      <td>1952.000000</td>\n",
       "      <td>0.000000</td>\n",
       "      <td>98033.00000</td>\n",
       "      <td>47.471200</td>\n",
       "      <td>-122.328000</td>\n",
       "      <td>1490.000000</td>\n",
       "      <td>5100.000000</td>\n",
       "    </tr>\n",
       "    <tr>\n",
       "      <th>50%</th>\n",
       "      <td>4.500000e+05</td>\n",
       "      <td>3.000000</td>\n",
       "      <td>2.250000</td>\n",
       "      <td>1920.000000</td>\n",
       "      <td>7.614000e+03</td>\n",
       "      <td>1.500000</td>\n",
       "      <td>0.000000</td>\n",
       "      <td>0.000000</td>\n",
       "      <td>3.000000</td>\n",
       "      <td>7.000000</td>\n",
       "      <td>1560.000000</td>\n",
       "      <td>0.000000</td>\n",
       "      <td>1975.000000</td>\n",
       "      <td>0.000000</td>\n",
       "      <td>98065.00000</td>\n",
       "      <td>47.572100</td>\n",
       "      <td>-122.230000</td>\n",
       "      <td>1840.000000</td>\n",
       "      <td>7620.000000</td>\n",
       "    </tr>\n",
       "    <tr>\n",
       "      <th>75%</th>\n",
       "      <td>6.450000e+05</td>\n",
       "      <td>4.000000</td>\n",
       "      <td>2.500000</td>\n",
       "      <td>2550.000000</td>\n",
       "      <td>1.069050e+04</td>\n",
       "      <td>2.000000</td>\n",
       "      <td>0.000000</td>\n",
       "      <td>0.000000</td>\n",
       "      <td>4.000000</td>\n",
       "      <td>8.000000</td>\n",
       "      <td>2220.000000</td>\n",
       "      <td>550.000000</td>\n",
       "      <td>1997.000000</td>\n",
       "      <td>0.000000</td>\n",
       "      <td>98117.00000</td>\n",
       "      <td>47.678100</td>\n",
       "      <td>-122.125000</td>\n",
       "      <td>2370.000000</td>\n",
       "      <td>10086.250000</td>\n",
       "    </tr>\n",
       "    <tr>\n",
       "      <th>max</th>\n",
       "      <td>7.700000e+06</td>\n",
       "      <td>33.000000</td>\n",
       "      <td>8.000000</td>\n",
       "      <td>13540.000000</td>\n",
       "      <td>1.651359e+06</td>\n",
       "      <td>3.500000</td>\n",
       "      <td>1.000000</td>\n",
       "      <td>4.000000</td>\n",
       "      <td>5.000000</td>\n",
       "      <td>13.000000</td>\n",
       "      <td>9410.000000</td>\n",
       "      <td>4820.000000</td>\n",
       "      <td>2015.000000</td>\n",
       "      <td>2015.000000</td>\n",
       "      <td>98199.00000</td>\n",
       "      <td>47.777600</td>\n",
       "      <td>-121.315000</td>\n",
       "      <td>6210.000000</td>\n",
       "      <td>871200.000000</td>\n",
       "    </tr>\n",
       "  </tbody>\n",
       "</table>\n",
       "</div>"
      ],
      "text/plain": [
       "              price      bedrooms  ...  sqft_living15     sqft_lot15\n",
       "count  2.142000e+04  21420.000000  ...   21420.000000   21420.000000\n",
       "mean   5.407393e+05      3.373950  ...    1988.384080   12775.718161\n",
       "std    3.679311e+05      0.925405  ...     685.537057   27345.621867\n",
       "min    7.800000e+04      1.000000  ...     399.000000     651.000000\n",
       "25%    3.225000e+05      3.000000  ...    1490.000000    5100.000000\n",
       "50%    4.500000e+05      3.000000  ...    1840.000000    7620.000000\n",
       "75%    6.450000e+05      4.000000  ...    2370.000000   10086.250000\n",
       "max    7.700000e+06     33.000000  ...    6210.000000  871200.000000\n",
       "\n",
       "[8 rows x 19 columns]"
      ]
     },
     "execution_count": 20,
     "metadata": {},
     "output_type": "execute_result"
    }
   ],
   "source": [
    "df.describe()"
   ]
  },
  {
   "cell_type": "markdown",
   "metadata": {},
   "source": [
    "> Installed missingno for first time use. This allows for visualization of the null values before getting started. I can already see that waterfront and yr_renovated will have a high number of nulls."
   ]
  },
  {
   "cell_type": "code",
   "execution_count": 21,
   "metadata": {},
   "outputs": [],
   "source": [
    "#conda install -c conda-forge/label/gcc7 missingno"
   ]
  },
  {
   "cell_type": "code",
   "execution_count": 22,
   "metadata": {},
   "outputs": [
    {
     "data": {
      "text/plain": [
       "<AxesSubplot:>"
      ]
     },
     "execution_count": 22,
     "metadata": {},
     "output_type": "execute_result"
    },
    {
     "data": {
      "image/png": "[encoded data removed]",
      "text/plain": [
       "<Figure size 1800x720 with 2 Axes>"
      ]
     },
     "metadata": {
      "needs_background": "light"
     },
     "output_type": "display_data"
    }
   ],
   "source": [
    "import missingno as ms\n",
    "ms.matrix(df)"
   ]
  },
  {
   "cell_type": "markdown",
   "metadata": {},
   "source": [
    "> Below I looked to see if there are any rows with over two nulls. Since more information is missing I chose to drop those rows. "
   ]
  },
  {
   "cell_type": "code",
   "execution_count": 23,
   "metadata": {
    "scrolled": true
   },
   "outputs": [
    {
     "data": {
      "text/plain": [
       "0    15644\n",
       "1     5334\n",
       "2      440\n",
       "3        2\n",
       "dtype: int64"
      ]
     },
     "execution_count": 23,
     "metadata": {},
     "output_type": "execute_result"
    }
   ],
   "source": [
    "# number of rows missing data\n",
    "df.isna().sum(axis=1).value_counts()"
   ]
  },
  {
   "cell_type": "code",
   "execution_count": 24,
   "metadata": {},
   "outputs": [],
   "source": [
    "#Keep rows w/ less than 3 Null\n",
    "keep_rows = df.isna().sum(axis=1) < 3"
   ]
  },
  {
   "cell_type": "code",
   "execution_count": 25,
   "metadata": {},
   "outputs": [],
   "source": [
    "df = df[keep_rows]"
   ]
  },
  {
   "cell_type": "code",
   "execution_count": 26,
   "metadata": {
    "scrolled": false
   },
   "outputs": [
    {
     "data": {
      "text/plain": [
       "date                0\n",
       "price               0\n",
       "bedrooms            0\n",
       "bathrooms           0\n",
       "sqft_living         0\n",
       "sqft_lot            0\n",
       "floors              0\n",
       "waterfront       2351\n",
       "view               61\n",
       "condition           0\n",
       "grade               0\n",
       "sqft_above          0\n",
       "sqft_basement       0\n",
       "yr_built            0\n",
       "yr_renovated     3802\n",
       "zipcode             0\n",
       "lat                 0\n",
       "long                0\n",
       "sqft_living15       0\n",
       "sqft_lot15          0\n",
       "dtype: int64"
      ]
     },
     "execution_count": 26,
     "metadata": {},
     "output_type": "execute_result"
    }
   ],
   "source": [
    "df.isna().sum()"
   ]
  },
  {
   "cell_type": "markdown",
   "metadata": {},
   "source": [
    "> **Observations**: \n",
    "- Three columns with Null values: *waterfront, view, and yr_renovated*. I will go through each of the columns below."
   ]
  },
  {
   "cell_type": "markdown",
   "metadata": {},
   "source": [
    "### Waterfront"
   ]
  },
  {
   "cell_type": "code",
   "execution_count": 27,
   "metadata": {},
   "outputs": [
    {
     "data": {
      "text/plain": [
       "0.0    18921\n",
       "1.0      146\n",
       "Name: waterfront, dtype: int64"
      ]
     },
     "execution_count": 27,
     "metadata": {},
     "output_type": "execute_result"
    }
   ],
   "source": [
    "#Check majority\n",
    "df.waterfront.value_counts()"
   ]
  },
  {
   "cell_type": "code",
   "execution_count": 28,
   "metadata": {
    "scrolled": true
   },
   "outputs": [],
   "source": [
    "#Fill NaN with 0.0, assume no waterfront\n",
    "df['waterfront'] = df['waterfront'].fillna(0.0)"
   ]
  },
  {
   "cell_type": "code",
   "execution_count": 29,
   "metadata": {
    "scrolled": true
   },
   "outputs": [
    {
     "data": {
      "text/plain": [
       "date                0\n",
       "price               0\n",
       "bedrooms            0\n",
       "bathrooms           0\n",
       "sqft_living         0\n",
       "sqft_lot            0\n",
       "floors              0\n",
       "waterfront          0\n",
       "view               61\n",
       "condition           0\n",
       "grade               0\n",
       "sqft_above          0\n",
       "sqft_basement       0\n",
       "yr_built            0\n",
       "yr_renovated     3802\n",
       "zipcode             0\n",
       "lat                 0\n",
       "long                0\n",
       "sqft_living15       0\n",
       "sqft_lot15          0\n",
       "dtype: int64"
      ]
     },
     "execution_count": 29,
     "metadata": {},
     "output_type": "execute_result"
    }
   ],
   "source": [
    "#NaN check\n",
    "df.isna().sum()"
   ]
  },
  {
   "cell_type": "markdown",
   "metadata": {},
   "source": [
    "### View"
   ]
  },
  {
   "cell_type": "code",
   "execution_count": 30,
   "metadata": {
    "scrolled": true
   },
   "outputs": [
    {
     "data": {
      "text/plain": [
       "0.0    0.898917\n",
       "2.0    0.044635\n",
       "3.0    0.023578\n",
       "1.0    0.015361\n",
       "4.0    0.014661\n",
       "NaN    0.002848\n",
       "Name: view, dtype: float64"
      ]
     },
     "execution_count": 30,
     "metadata": {},
     "output_type": "execute_result"
    }
   ],
   "source": [
    "#less than 5% consider dropping\n",
    "df.view.value_counts(dropna = False, normalize = True)"
   ]
  },
  {
   "cell_type": "code",
   "execution_count": 31,
   "metadata": {
    "scrolled": false
   },
   "outputs": [],
   "source": [
    "# .2% deciding to drop NaN views\n",
    "df.dropna(subset = ['view'], inplace=True)"
   ]
  },
  {
   "cell_type": "code",
   "execution_count": 32,
   "metadata": {},
   "outputs": [
    {
     "data": {
      "text/plain": [
       "0"
      ]
     },
     "execution_count": 32,
     "metadata": {},
     "output_type": "execute_result"
    }
   ],
   "source": [
    "df.view.isna().sum()"
   ]
  },
  {
   "cell_type": "markdown",
   "metadata": {},
   "source": [
    "### Yr_renovated"
   ]
  },
  {
   "cell_type": "code",
   "execution_count": 33,
   "metadata": {
    "scrolled": true
   },
   "outputs": [],
   "source": [
    "#Assume NaN = no reno & replace with 0\n",
    "df['yr_renovated'] = df['yr_renovated'].fillna(0.0)"
   ]
  },
  {
   "cell_type": "code",
   "execution_count": 34,
   "metadata": {
    "scrolled": false
   },
   "outputs": [
    {
     "data": {
      "text/plain": [
       "0"
      ]
     },
     "execution_count": 34,
     "metadata": {},
     "output_type": "execute_result"
    }
   ],
   "source": [
    "#Check NaN\n",
    "df.yr_renovated.isna().sum()"
   ]
  },
  {
   "cell_type": "markdown",
   "metadata": {},
   "source": [
    "### Check for abnormal symbols or characters"
   ]
  },
  {
   "cell_type": "code",
   "execution_count": 35,
   "metadata": {
    "scrolled": false
   },
   "outputs": [
    {
     "name": "stdout",
     "output_type": "stream",
     "text": [
      "date \n",
      " 6/23/2014    0.006649\n",
      "6/25/2014    0.006134\n",
      "6/26/2014    0.006134\n",
      "7/8/2014     0.005947\n",
      "4/27/2015    0.005806\n",
      "Name: date, dtype: float64 \n",
      "\n",
      "\n",
      "price \n",
      " 350000.0    0.008007\n",
      "450000.0    0.007960\n",
      "550000.0    0.007304\n",
      "500000.0    0.007070\n",
      "425000.0    0.007023\n",
      "Name: price, dtype: float64 \n",
      "\n",
      "\n",
      "bedrooms \n",
      " 3    0.454090\n",
      "4    0.319895\n",
      "2    0.127827\n",
      "5    0.074027\n",
      "6    0.012314\n",
      "Name: bedrooms, dtype: float64 \n",
      "\n",
      "\n",
      "bathrooms \n",
      " 2.50    0.249988\n",
      "1.00    0.177178\n",
      "1.75    0.140797\n",
      "2.25    0.094629\n",
      "2.00    0.089385\n",
      "Name: bathrooms, dtype: float64 \n",
      "\n",
      "\n",
      "sqft_living \n",
      " 1300    0.006368\n",
      "1440    0.006227\n",
      "1400    0.006134\n",
      "1800    0.005993\n",
      "1660    0.005993\n",
      "Name: sqft_living, dtype: float64 \n",
      "\n",
      "\n",
      "sqft_lot \n",
      " 5000    0.016575\n",
      "6000    0.013391\n",
      "4000    0.011659\n",
      "7200    0.010207\n",
      "7500    0.005478\n",
      "Name: sqft_lot, dtype: float64 \n",
      "\n",
      "\n",
      "floors \n",
      " 1.0    0.492672\n",
      "2.0    0.382966\n",
      "1.5    0.088074\n",
      "3.0    0.028515\n",
      "2.5    0.007445\n",
      "Name: floors, dtype: float64 \n",
      "\n",
      "\n",
      "waterfront \n",
      " 0.0    0.993211\n",
      "1.0    0.006789\n",
      "Name: waterfront, dtype: float64 \n",
      "\n",
      "\n",
      "view \n",
      " 0.0    0.901484\n",
      "2.0    0.044763\n",
      "3.0    0.023646\n",
      "1.0    0.015405\n",
      "4.0    0.014702\n",
      "Name: view, dtype: float64 \n",
      "\n",
      "\n",
      "condition \n",
      " 3    0.649014\n",
      "4    0.263286\n",
      "5    0.078803\n",
      "2    0.007585\n",
      "1    0.001311\n",
      "Name: condition, dtype: float64 \n",
      "\n",
      "\n",
      "grade \n",
      " 7     0.414993\n",
      "8     0.282296\n",
      "9     0.121506\n",
      "6     0.093084\n",
      "10    0.052723\n",
      "Name: grade, dtype: float64 \n",
      "\n",
      "\n",
      "sqft_above \n",
      " 1300    0.009833\n",
      "1010    0.009505\n",
      "1200    0.009411\n",
      "1220    0.008662\n",
      "1140    0.008522\n",
      "Name: sqft_above, dtype: float64 \n",
      "\n",
      "\n",
      "sqft_basement \n",
      " 0.0      0.615208\n",
      "600.0    0.010067\n",
      "500.0    0.009646\n",
      "700.0    0.009552\n",
      "800.0    0.009411\n",
      "Name: sqft_basement, dtype: float64 \n",
      "\n",
      "\n",
      "yr_built \n",
      " 2014    0.026127\n",
      "2006    0.021211\n",
      "2005    0.020977\n",
      "2004    0.019947\n",
      "2003    0.019619\n",
      "Name: yr_built, dtype: float64 \n",
      "\n",
      "\n",
      "yr_renovated \n",
      " 0.0       0.965398\n",
      "2014.0    0.003418\n",
      "2003.0    0.001452\n",
      "2013.0    0.001452\n",
      "2007.0    0.001405\n",
      "Name: yr_renovated, dtype: float64 \n",
      "\n",
      "\n",
      "zipcode \n",
      " 98103    0.028047\n",
      "98038    0.027298\n",
      "98115    0.026830\n",
      "98052    0.026689\n",
      "98117    0.025659\n",
      "Name: zipcode, dtype: float64 \n",
      "\n",
      "\n",
      "lat \n",
      " 47.5322    0.000796\n",
      "47.5491    0.000796\n",
      "47.6624    0.000796\n",
      "47.6846    0.000796\n",
      "47.6955    0.000749\n",
      "Name: lat, dtype: float64 \n",
      "\n",
      "\n",
      "long \n",
      " -122.290    0.005291\n",
      "-122.300    0.005057\n",
      "-122.362    0.004776\n",
      "-122.291    0.004682\n",
      "-122.363    0.004635\n",
      "Name: long, dtype: float64 \n",
      "\n",
      "\n",
      "sqft_living15 \n",
      " 1540    0.009037\n",
      "1440    0.008896\n",
      "1560    0.008850\n",
      "1500    0.008288\n",
      "1460    0.007866\n",
      "Name: sqft_living15, dtype: float64 \n",
      "\n",
      "\n",
      "sqft_lot15 \n",
      " 5000    0.019853\n",
      "4000    0.016575\n",
      "6000    0.013345\n",
      "7200    0.009786\n",
      "4800    0.006743\n",
      "Name: sqft_lot15, dtype: float64 \n",
      "\n",
      "\n"
     ]
    }
   ],
   "source": [
    "#Check for abnormal symbols etc.\n",
    "for col in df.columns:\n",
    "    try: \n",
    "        print(col, '\\n', df[col].value_counts(normalize=True).head(), '\\n\\n')\n",
    "    except:\n",
    "        (print(col, df[col].value_counts()))"
   ]
  },
  {
   "cell_type": "markdown",
   "metadata": {},
   "source": [
    "> In the scrub section I took care of null values, converted an object column to float, and checked for abnormal characters or symbols. "
   ]
  },
  {
   "cell_type": "markdown",
   "metadata": {},
   "source": [
    "# Explore"
   ]
  },
  {
   "cell_type": "markdown",
   "metadata": {},
   "source": [
    "> Below I set the color palette for all of my visualizations."
   ]
  },
  {
   "cell_type": "code",
   "execution_count": 36,
   "metadata": {
    "scrolled": true
   },
   "outputs": [
    {
     "data": {
      "image/png": "[encoded data removed]",
      "text/plain": [
       "<Figure size 432x72 with 1 Axes>"
      ]
     },
     "metadata": {
      "needs_background": "light"
     },
     "output_type": "display_data"
    }
   ],
   "source": [
    "sns.palplot(sns.color_palette(\"BuGn_r\"))"
   ]
  },
  {
   "cell_type": "code",
   "execution_count": 37,
   "metadata": {},
   "outputs": [],
   "source": [
    "sns.set_palette(\"BuGn_r\")"
   ]
  },
  {
   "cell_type": "markdown",
   "metadata": {},
   "source": [
    "> Here I examining the target column of price."
   ]
  },
  {
   "cell_type": "code",
   "execution_count": 38,
   "metadata": {},
   "outputs": [
    {
     "data": {
      "text/plain": [
       "<AxesSubplot:xlabel='price'>"
      ]
     },
     "execution_count": 38,
     "metadata": {},
     "output_type": "execute_result"
    },
    {
     "data": {
      "image/png": "[encoded data removed]",
      "text/plain": [
       "<Figure size 432x288 with 1 Axes>"
      ]
     },
     "metadata": {
      "needs_background": "light"
     },
     "output_type": "display_data"
    }
   ],
   "source": [
    "#examine target\n",
    "target = 'price'\n",
    "sns.distplot(df[target])"
   ]
  },
  {
   "cell_type": "markdown",
   "metadata": {},
   "source": [
    "> Displot looks like a slight left skew."
   ]
  },
  {
   "cell_type": "code",
   "execution_count": 39,
   "metadata": {
    "scrolled": true
   },
   "outputs": [
    {
     "data": {
      "text/plain": [
       "<AxesSubplot:ylabel='price'>"
      ]
     },
     "execution_count": 39,
     "metadata": {},
     "output_type": "execute_result"
    },
    {
     "data": {
      "image/png": "[encoded data removed]",
      "text/plain": [
       "<Figure size 432x288 with 1 Axes>"
      ]
     },
     "metadata": {
      "needs_background": "light"
     },
     "output_type": "display_data"
    }
   ],
   "source": [
    "sns.boxplot(y= df[target])"
   ]
  },
  {
   "cell_type": "markdown",
   "metadata": {},
   "source": [
    "> Boxplot shows outliers on the high price end."
   ]
  },
  {
   "cell_type": "code",
   "execution_count": 40,
   "metadata": {},
   "outputs": [
    {
     "data": {
      "text/plain": [
       "<seaborn.axisgrid.JointGrid at 0x7f99096d8f98>"
      ]
     },
     "execution_count": 40,
     "metadata": {},
     "output_type": "execute_result"
    },
    {
     "data": {
      "image/png": "[encoded data removed]",
      "text/plain": [
       "<Figure size 432x432 with 3 Axes>"
      ]
     },
     "metadata": {
      "needs_background": "light"
     },
     "output_type": "display_data"
    }
   ],
   "source": [
    "sns.jointplot(data=df, x = 'bedrooms', y=target,  kind = 'reg')"
   ]
  },
  {
   "cell_type": "markdown",
   "metadata": {},
   "source": [
    "> Set up a joint plot to compare dependent and independent variables. Based on this plot I am considering removing bedroom outliers in the future.\n",
    "\n",
    "> Below is based off of in class lesson to make sorting through graphs of columns easier using interact. "
   ]
  },
  {
   "cell_type": "code",
   "execution_count": 41,
   "metadata": {
    "scrolled": true
   },
   "outputs": [
    {
     "data": {
      "image/png": "[encoded data removed]",
      "text/plain": [
       "<Figure size 432x432 with 3 Axes>"
      ]
     },
     "metadata": {
      "needs_background": "light"
     },
     "output_type": "display_data"
    }
   ],
   "source": [
    "joint = sns.jointplot(data=df, x = 'bedrooms', y=target,  kind = 'reg')\n",
    "fig = joint.fig\n",
    "ax = fig.get_axes()"
   ]
  },
  {
   "cell_type": "code",
   "execution_count": 42,
   "metadata": {},
   "outputs": [],
   "source": [
    "def joint_graphs(df, col, target = 'price'):\n",
    "    \n",
    "    sns.set(rc={'axes.labelsize': 14})\n",
    "    sns.set_palette(\"BuGn_r\")        \n",
    "    joint = sns.jointplot(data = df, x = col, y=target,\n",
    "                          kind='reg', height = 7)\n",
    "                          \n",
    "    plt.suptitle(f\" Comparing {col} and {target}\", fontsize = 14)\n",
    "    return joint\n",
    "    "
   ]
  },
  {
   "cell_type": "code",
   "execution_count": 43,
   "metadata": {
    "scrolled": true
   },
   "outputs": [
    {
     "data": {
      "text/plain": [
       "<seaborn.axisgrid.JointGrid at 0x7f990819f908>"
      ]
     },
     "execution_count": 43,
     "metadata": {},
     "output_type": "execute_result"
    },
    {
     "data": {
      "image/png": "[encoded data removed]",
      "text/plain": [
       "<Figure size 504x504 with 3 Axes>"
      ]
     },
     "metadata": {},
     "output_type": "display_data"
    }
   ],
   "source": [
    "joint_graphs(df, 'bedrooms')"
   ]
  },
  {
   "cell_type": "code",
   "execution_count": 132,
   "metadata": {
    "scrolled": true
   },
   "outputs": [
    {
     "data": {
      "text/plain": [
       "<seaborn.axisgrid.JointGrid at 0x7f98f44b2358>"
      ]
     },
     "execution_count": 132,
     "metadata": {},
     "output_type": "execute_result"
    },
    {
     "data": {
      "image/png": "[encoded data removed]",
      "text/plain": [
       "<Figure size 504x504 with 3 Axes>"
      ]
     },
     "metadata": {},
     "output_type": "display_data"
    }
   ],
   "source": [
    "joint_graphs(df, 'sqft_lot')"
   ]
  },
  {
   "cell_type": "markdown",
   "metadata": {},
   "source": [
    "> Will probably look to remove outliers from sqft_lot later in notebook."
   ]
  },
  {
   "cell_type": "code",
   "execution_count": 44,
   "metadata": {},
   "outputs": [],
   "source": [
    "from ipywidgets import interact"
   ]
  },
  {
   "cell_type": "code",
   "execution_count": 45,
   "metadata": {
    "scrolled": false
   },
   "outputs": [
    {
     "data": {
      "application/vnd.jupyter.widget-view+json": {
       "model_id": "1b3468cb9a784fa5a6331d1597574b74",
       "version_major": 2,
       "version_minor": 0
      },
      "text/plain": [
       "interactive(children=(Dropdown(description='col', options=('price', 'bedrooms', 'bathrooms', 'sqft_living', 's…"
      ]
     },
     "metadata": {},
     "output_type": "display_data"
    }
   ],
   "source": [
    "@interact \n",
    "def show_plot(col=num_cols):\n",
    "    joint_graphs(df, col)"
   ]
  },
  {
   "cell_type": "markdown",
   "metadata": {},
   "source": [
    "### Ordinal Categorical Data"
   ]
  },
  {
   "cell_type": "markdown",
   "metadata": {},
   "source": [
    "> Below I decided to make **zipcode** and **condition** categorical data. Using get_dummies I one-hot encoded those columns."
   ]
  },
  {
   "cell_type": "code",
   "execution_count": 138,
   "metadata": {},
   "outputs": [],
   "source": [
    "df.drop('zipcode', axis=1, inplace = True)"
   ]
  },
  {
   "cell_type": "code",
   "execution_count": 139,
   "metadata": {},
   "outputs": [],
   "source": [
    "#Use Dummy encoding/One-Hot Encoding dropped zipcode here\n",
    "df_ohe = pd.get_dummies(df, columns=['condition'], drop_first=True)"
   ]
  },
  {
   "cell_type": "code",
   "execution_count": 140,
   "metadata": {
    "scrolled": true
   },
   "outputs": [
    {
     "data": {
      "text/html": [
       "<div>\n",
       "<style scoped>\n",
       "    .dataframe tbody tr th:only-of-type {\n",
       "        vertical-align: middle;\n",
       "    }\n",
       "\n",
       "    .dataframe tbody tr th {\n",
       "        vertical-align: top;\n",
       "    }\n",
       "\n",
       "    .dataframe thead th {\n",
       "        text-align: right;\n",
       "    }\n",
       "</style>\n",
       "<table border=\"1\" class=\"dataframe\">\n",
       "  <thead>\n",
       "    <tr style=\"text-align: right;\">\n",
       "      <th></th>\n",
       "      <th>date</th>\n",
       "      <th>price</th>\n",
       "      <th>bedrooms</th>\n",
       "      <th>bathrooms</th>\n",
       "      <th>sqft_living</th>\n",
       "      <th>sqft_lot</th>\n",
       "      <th>floors</th>\n",
       "      <th>waterfront</th>\n",
       "      <th>view</th>\n",
       "      <th>grade</th>\n",
       "      <th>sqft_above</th>\n",
       "      <th>sqft_basement</th>\n",
       "      <th>yr_built</th>\n",
       "      <th>yr_renovated</th>\n",
       "      <th>lat</th>\n",
       "      <th>long</th>\n",
       "      <th>sqft_living15</th>\n",
       "      <th>sqft_lot15</th>\n",
       "      <th>condition_2</th>\n",
       "      <th>condition_3</th>\n",
       "      <th>condition_4</th>\n",
       "      <th>condition_5</th>\n",
       "    </tr>\n",
       "  </thead>\n",
       "  <tbody>\n",
       "    <tr>\n",
       "      <th>0</th>\n",
       "      <td>10/13/2014</td>\n",
       "      <td>221900.0</td>\n",
       "      <td>3</td>\n",
       "      <td>1.00</td>\n",
       "      <td>1180</td>\n",
       "      <td>5650</td>\n",
       "      <td>1.0</td>\n",
       "      <td>0.0</td>\n",
       "      <td>0.0</td>\n",
       "      <td>7</td>\n",
       "      <td>1180</td>\n",
       "      <td>0.0</td>\n",
       "      <td>1955</td>\n",
       "      <td>0.0</td>\n",
       "      <td>47.5112</td>\n",
       "      <td>-122.257</td>\n",
       "      <td>1340</td>\n",
       "      <td>5650</td>\n",
       "      <td>0</td>\n",
       "      <td>1</td>\n",
       "      <td>0</td>\n",
       "      <td>0</td>\n",
       "    </tr>\n",
       "    <tr>\n",
       "      <th>1</th>\n",
       "      <td>12/9/2014</td>\n",
       "      <td>538000.0</td>\n",
       "      <td>3</td>\n",
       "      <td>2.25</td>\n",
       "      <td>2570</td>\n",
       "      <td>7242</td>\n",
       "      <td>2.0</td>\n",
       "      <td>0.0</td>\n",
       "      <td>0.0</td>\n",
       "      <td>7</td>\n",
       "      <td>2170</td>\n",
       "      <td>400.0</td>\n",
       "      <td>1951</td>\n",
       "      <td>1991.0</td>\n",
       "      <td>47.7210</td>\n",
       "      <td>-122.319</td>\n",
       "      <td>1690</td>\n",
       "      <td>7639</td>\n",
       "      <td>0</td>\n",
       "      <td>1</td>\n",
       "      <td>0</td>\n",
       "      <td>0</td>\n",
       "    </tr>\n",
       "    <tr>\n",
       "      <th>2</th>\n",
       "      <td>2/25/2015</td>\n",
       "      <td>180000.0</td>\n",
       "      <td>2</td>\n",
       "      <td>1.00</td>\n",
       "      <td>770</td>\n",
       "      <td>10000</td>\n",
       "      <td>1.0</td>\n",
       "      <td>0.0</td>\n",
       "      <td>0.0</td>\n",
       "      <td>6</td>\n",
       "      <td>770</td>\n",
       "      <td>0.0</td>\n",
       "      <td>1933</td>\n",
       "      <td>0.0</td>\n",
       "      <td>47.7379</td>\n",
       "      <td>-122.233</td>\n",
       "      <td>2720</td>\n",
       "      <td>8062</td>\n",
       "      <td>0</td>\n",
       "      <td>1</td>\n",
       "      <td>0</td>\n",
       "      <td>0</td>\n",
       "    </tr>\n",
       "    <tr>\n",
       "      <th>3</th>\n",
       "      <td>12/9/2014</td>\n",
       "      <td>604000.0</td>\n",
       "      <td>4</td>\n",
       "      <td>3.00</td>\n",
       "      <td>1960</td>\n",
       "      <td>5000</td>\n",
       "      <td>1.0</td>\n",
       "      <td>0.0</td>\n",
       "      <td>0.0</td>\n",
       "      <td>7</td>\n",
       "      <td>1050</td>\n",
       "      <td>910.0</td>\n",
       "      <td>1965</td>\n",
       "      <td>0.0</td>\n",
       "      <td>47.5208</td>\n",
       "      <td>-122.393</td>\n",
       "      <td>1360</td>\n",
       "      <td>5000</td>\n",
       "      <td>0</td>\n",
       "      <td>0</td>\n",
       "      <td>0</td>\n",
       "      <td>1</td>\n",
       "    </tr>\n",
       "    <tr>\n",
       "      <th>4</th>\n",
       "      <td>2/18/2015</td>\n",
       "      <td>510000.0</td>\n",
       "      <td>3</td>\n",
       "      <td>2.00</td>\n",
       "      <td>1680</td>\n",
       "      <td>8080</td>\n",
       "      <td>1.0</td>\n",
       "      <td>0.0</td>\n",
       "      <td>0.0</td>\n",
       "      <td>8</td>\n",
       "      <td>1680</td>\n",
       "      <td>0.0</td>\n",
       "      <td>1987</td>\n",
       "      <td>0.0</td>\n",
       "      <td>47.6168</td>\n",
       "      <td>-122.045</td>\n",
       "      <td>1800</td>\n",
       "      <td>7503</td>\n",
       "      <td>0</td>\n",
       "      <td>1</td>\n",
       "      <td>0</td>\n",
       "      <td>0</td>\n",
       "    </tr>\n",
       "  </tbody>\n",
       "</table>\n",
       "</div>"
      ],
      "text/plain": [
       "         date     price  bedrooms  ...  condition_3  condition_4  condition_5\n",
       "0  10/13/2014  221900.0         3  ...            1            0            0\n",
       "1   12/9/2014  538000.0         3  ...            1            0            0\n",
       "2   2/25/2015  180000.0         2  ...            1            0            0\n",
       "3   12/9/2014  604000.0         4  ...            0            0            1\n",
       "4   2/18/2015  510000.0         3  ...            1            0            0\n",
       "\n",
       "[5 rows x 22 columns]"
      ]
     },
     "execution_count": 140,
     "metadata": {},
     "output_type": "execute_result"
    }
   ],
   "source": [
    "df_ohe.head()"
   ]
  },
  {
   "cell_type": "markdown",
   "metadata": {},
   "source": [
    "### First R-squared Model"
   ]
  },
  {
   "cell_type": "markdown",
   "metadata": {},
   "source": [
    "> Drop price since it is the target column and date since it is not being used."
   ]
  },
  {
   "cell_type": "code",
   "execution_count": 141,
   "metadata": {
    "scrolled": true
   },
   "outputs": [
    {
     "data": {
      "text/plain": [
       "'bedrooms+bathrooms+sqft_living+sqft_lot+floors+waterfront+view+grade+sqft_above+sqft_basement+yr_built+yr_renovated+lat+long+sqft_living15+sqft_lot15+condition_2+condition_3+condition_4+condition_5'"
      ]
     },
     "execution_count": 141,
     "metadata": {},
     "output_type": "execute_result"
    }
   ],
   "source": [
    "features = '+'.join(df_ohe.drop(columns=['price', 'date']).columns)\n",
    "features"
   ]
  },
  {
   "cell_type": "code",
   "execution_count": 143,
   "metadata": {
    "scrolled": true
   },
   "outputs": [
    {
     "data": {
      "text/html": [
       "<table class=\"simpletable\">\n",
       "<caption>OLS Regression Results</caption>\n",
       "<tr>\n",
       "  <th>Dep. Variable:</th>          <td>price</td>      <th>  R-squared:         </th>  <td>   0.696</td>  \n",
       "</tr>\n",
       "<tr>\n",
       "  <th>Model:</th>                   <td>OLS</td>       <th>  Adj. R-squared:    </th>  <td>   0.696</td>  \n",
       "</tr>\n",
       "<tr>\n",
       "  <th>Method:</th>             <td>Least Squares</td>  <th>  F-statistic:       </th>  <td>   2443.</td>  \n",
       "</tr>\n",
       "<tr>\n",
       "  <th>Date:</th>             <td>Fri, 28 Aug 2020</td> <th>  Prob (F-statistic):</th>   <td>  0.00</td>   \n",
       "</tr>\n",
       "<tr>\n",
       "  <th>Time:</th>                 <td>15:18:24</td>     <th>  Log-Likelihood:    </th> <td>-2.9121e+05</td>\n",
       "</tr>\n",
       "<tr>\n",
       "  <th>No. Observations:</th>      <td> 21357</td>      <th>  AIC:               </th>  <td>5.825e+05</td> \n",
       "</tr>\n",
       "<tr>\n",
       "  <th>Df Residuals:</th>          <td> 21336</td>      <th>  BIC:               </th>  <td>5.826e+05</td> \n",
       "</tr>\n",
       "<tr>\n",
       "  <th>Df Model:</th>              <td>    20</td>      <th>                     </th>      <td> </td>     \n",
       "</tr>\n",
       "<tr>\n",
       "  <th>Covariance Type:</th>      <td>nonrobust</td>    <th>                     </th>      <td> </td>     \n",
       "</tr>\n",
       "</table>\n",
       "<table class=\"simpletable\">\n",
       "<tr>\n",
       "        <td></td>           <th>coef</th>     <th>std err</th>      <th>t</th>      <th>P>|t|</th>  <th>[0.025</th>    <th>0.975]</th>  \n",
       "</tr>\n",
       "<tr>\n",
       "  <th>Intercept</th>     <td>-3.703e+07</td> <td>  1.6e+06</td> <td>  -23.128</td> <td> 0.000</td> <td>-4.02e+07</td> <td>-3.39e+07</td>\n",
       "</tr>\n",
       "<tr>\n",
       "  <th>bedrooms</th>      <td>-3.429e+04</td> <td> 1921.445</td> <td>  -17.846</td> <td> 0.000</td> <td>-3.81e+04</td> <td>-3.05e+04</td>\n",
       "</tr>\n",
       "<tr>\n",
       "  <th>bathrooms</th>     <td> 4.246e+04</td> <td> 3302.921</td> <td>   12.856</td> <td> 0.000</td> <td>  3.6e+04</td> <td> 4.89e+04</td>\n",
       "</tr>\n",
       "<tr>\n",
       "  <th>sqft_living</th>   <td>   97.5439</td> <td>   18.163</td> <td>    5.371</td> <td> 0.000</td> <td>   61.943</td> <td>  133.144</td>\n",
       "</tr>\n",
       "<tr>\n",
       "  <th>sqft_lot</th>      <td>    0.1189</td> <td>    0.048</td> <td>    2.466</td> <td> 0.014</td> <td>    0.024</td> <td>    0.213</td>\n",
       "</tr>\n",
       "<tr>\n",
       "  <th>floors</th>        <td> 1508.4027</td> <td> 3626.167</td> <td>    0.416</td> <td> 0.677</td> <td>-5599.157</td> <td> 8615.963</td>\n",
       "</tr>\n",
       "<tr>\n",
       "  <th>waterfront</th>    <td> 5.986e+05</td> <td> 1.83e+04</td> <td>   32.701</td> <td> 0.000</td> <td> 5.63e+05</td> <td> 6.35e+05</td>\n",
       "</tr>\n",
       "<tr>\n",
       "  <th>view</th>          <td> 5.149e+04</td> <td> 2134.131</td> <td>   24.128</td> <td> 0.000</td> <td> 4.73e+04</td> <td> 5.57e+04</td>\n",
       "</tr>\n",
       "<tr>\n",
       "  <th>grade</th>         <td> 9.895e+04</td> <td> 2184.844</td> <td>   45.288</td> <td> 0.000</td> <td> 9.47e+04</td> <td> 1.03e+05</td>\n",
       "</tr>\n",
       "<tr>\n",
       "  <th>sqft_above</th>    <td>   80.9740</td> <td>   18.154</td> <td>    4.460</td> <td> 0.000</td> <td>   45.390</td> <td>  116.558</td>\n",
       "</tr>\n",
       "<tr>\n",
       "  <th>sqft_basement</th> <td>   48.2787</td> <td>   17.993</td> <td>    2.683</td> <td> 0.007</td> <td>   13.011</td> <td>   83.547</td>\n",
       "</tr>\n",
       "<tr>\n",
       "  <th>yr_built</th>      <td>-2424.9594</td> <td>   72.741</td> <td>  -33.337</td> <td> 0.000</td> <td>-2567.537</td> <td>-2282.382</td>\n",
       "</tr>\n",
       "<tr>\n",
       "  <th>yr_renovated</th>  <td>   26.9311</td> <td>    4.019</td> <td>    6.700</td> <td> 0.000</td> <td>   19.053</td> <td>   34.809</td>\n",
       "</tr>\n",
       "<tr>\n",
       "  <th>lat</th>           <td> 5.615e+05</td> <td> 1.06e+04</td> <td>   52.968</td> <td> 0.000</td> <td> 5.41e+05</td> <td> 5.82e+05</td>\n",
       "</tr>\n",
       "<tr>\n",
       "  <th>long</th>          <td>-1.183e+05</td> <td>  1.2e+04</td> <td>   -9.818</td> <td> 0.000</td> <td>-1.42e+05</td> <td>-9.46e+04</td>\n",
       "</tr>\n",
       "<tr>\n",
       "  <th>sqft_living15</th> <td>   26.3928</td> <td>    3.468</td> <td>    7.610</td> <td> 0.000</td> <td>   19.595</td> <td>   33.191</td>\n",
       "</tr>\n",
       "<tr>\n",
       "  <th>sqft_lot15</th>    <td>   -0.3955</td> <td>    0.074</td> <td>   -5.358</td> <td> 0.000</td> <td>   -0.540</td> <td>   -0.251</td>\n",
       "</tr>\n",
       "<tr>\n",
       "  <th>condition_2</th>   <td> 2.702e+04</td> <td> 4.14e+04</td> <td>    0.652</td> <td> 0.514</td> <td>-5.42e+04</td> <td> 1.08e+05</td>\n",
       "</tr>\n",
       "<tr>\n",
       "  <th>condition_3</th>   <td> 1.144e+04</td> <td> 3.84e+04</td> <td>    0.298</td> <td> 0.766</td> <td>-6.39e+04</td> <td> 8.67e+04</td>\n",
       "</tr>\n",
       "<tr>\n",
       "  <th>condition_4</th>   <td> 4.447e+04</td> <td> 3.84e+04</td> <td>    1.158</td> <td> 0.247</td> <td>-3.08e+04</td> <td>  1.2e+05</td>\n",
       "</tr>\n",
       "<tr>\n",
       "  <th>condition_5</th>   <td> 8.197e+04</td> <td> 3.86e+04</td> <td>    2.121</td> <td> 0.034</td> <td> 6229.858</td> <td> 1.58e+05</td>\n",
       "</tr>\n",
       "</table>\n",
       "<table class=\"simpletable\">\n",
       "<tr>\n",
       "  <th>Omnibus:</th>       <td>18192.015</td> <th>  Durbin-Watson:     </th>  <td>   1.997</td>  \n",
       "</tr>\n",
       "<tr>\n",
       "  <th>Prob(Omnibus):</th>  <td> 0.000</td>   <th>  Jarque-Bera (JB):  </th> <td>1800926.742</td>\n",
       "</tr>\n",
       "<tr>\n",
       "  <th>Skew:</th>           <td> 3.584</td>   <th>  Prob(JB):          </th>  <td>    0.00</td>  \n",
       "</tr>\n",
       "<tr>\n",
       "  <th>Kurtosis:</th>       <td>47.412</td>   <th>  Cond. No.          </th>  <td>5.86e+07</td>  \n",
       "</tr>\n",
       "</table><br/><br/>Warnings:<br/>[1] Standard Errors assume that the covariance matrix of the errors is correctly specified.<br/>[2] The condition number is large, 5.86e+07. This might indicate that there are<br/>strong multicollinearity or other numerical problems."
      ],
      "text/plain": [
       "<class 'statsmodels.iolib.summary.Summary'>\n",
       "\"\"\"\n",
       "                            OLS Regression Results                            \n",
       "==============================================================================\n",
       "Dep. Variable:                  price   R-squared:                       0.696\n",
       "Model:                            OLS   Adj. R-squared:                  0.696\n",
       "Method:                 Least Squares   F-statistic:                     2443.\n",
       "Date:                Fri, 28 Aug 2020   Prob (F-statistic):               0.00\n",
       "Time:                        15:18:24   Log-Likelihood:            -2.9121e+05\n",
       "No. Observations:               21357   AIC:                         5.825e+05\n",
       "Df Residuals:                   21336   BIC:                         5.826e+05\n",
       "Df Model:                          20                                         \n",
       "Covariance Type:            nonrobust                                         \n",
       "=================================================================================\n",
       "                    coef    std err          t      P>|t|      [0.025      0.975]\n",
       "---------------------------------------------------------------------------------\n",
       "Intercept     -3.703e+07    1.6e+06    -23.128      0.000   -4.02e+07   -3.39e+07\n",
       "bedrooms      -3.429e+04   1921.445    -17.846      0.000   -3.81e+04   -3.05e+04\n",
       "bathrooms      4.246e+04   3302.921     12.856      0.000     3.6e+04    4.89e+04\n",
       "sqft_living      97.5439     18.163      5.371      0.000      61.943     133.144\n",
       "sqft_lot          0.1189      0.048      2.466      0.014       0.024       0.213\n",
       "floors         1508.4027   3626.167      0.416      0.677   -5599.157    8615.963\n",
       "waterfront     5.986e+05   1.83e+04     32.701      0.000    5.63e+05    6.35e+05\n",
       "view           5.149e+04   2134.131     24.128      0.000    4.73e+04    5.57e+04\n",
       "grade          9.895e+04   2184.844     45.288      0.000    9.47e+04    1.03e+05\n",
       "sqft_above       80.9740     18.154      4.460      0.000      45.390     116.558\n",
       "sqft_basement    48.2787     17.993      2.683      0.007      13.011      83.547\n",
       "yr_built      -2424.9594     72.741    -33.337      0.000   -2567.537   -2282.382\n",
       "yr_renovated     26.9311      4.019      6.700      0.000      19.053      34.809\n",
       "lat            5.615e+05   1.06e+04     52.968      0.000    5.41e+05    5.82e+05\n",
       "long          -1.183e+05    1.2e+04     -9.818      0.000   -1.42e+05   -9.46e+04\n",
       "sqft_living15    26.3928      3.468      7.610      0.000      19.595      33.191\n",
       "sqft_lot15       -0.3955      0.074     -5.358      0.000      -0.540      -0.251\n",
       "condition_2    2.702e+04   4.14e+04      0.652      0.514   -5.42e+04    1.08e+05\n",
       "condition_3    1.144e+04   3.84e+04      0.298      0.766   -6.39e+04    8.67e+04\n",
       "condition_4    4.447e+04   3.84e+04      1.158      0.247   -3.08e+04     1.2e+05\n",
       "condition_5    8.197e+04   3.86e+04      2.121      0.034    6229.858    1.58e+05\n",
       "==============================================================================\n",
       "Omnibus:                    18192.015   Durbin-Watson:                   1.997\n",
       "Prob(Omnibus):                  0.000   Jarque-Bera (JB):          1800926.742\n",
       "Skew:                           3.584   Prob(JB):                         0.00\n",
       "Kurtosis:                      47.412   Cond. No.                     5.86e+07\n",
       "==============================================================================\n",
       "\n",
       "Warnings:\n",
       "[1] Standard Errors assume that the covariance matrix of the errors is correctly specified.\n",
       "[2] The condition number is large, 5.86e+07. This might indicate that there are\n",
       "strong multicollinearity or other numerical problems.\n",
       "\"\"\""
      ]
     },
     "execution_count": 143,
     "metadata": {},
     "output_type": "execute_result"
    }
   ],
   "source": [
    "formula = target + '~' + features\n",
    "model = smf.ols(formula, df_ohe).fit()\n",
    "model.summary()"
   ]
  },
  {
   "cell_type": "code",
   "execution_count": 144,
   "metadata": {
    "scrolled": true
   },
   "outputs": [
    {
     "data": {
      "image/png": "[encoded data removed]",
      "text/plain": [
       "<Figure size 432x288 with 1 Axes>"
      ]
     },
     "execution_count": 144,
     "metadata": {},
     "output_type": "execute_result"
    },
    {
     "data": {
      "image/png": "[encoded data removed]",
      "text/plain": [
       "<Figure size 432x288 with 1 Axes>"
      ]
     },
     "metadata": {},
     "output_type": "display_data"
    }
   ],
   "source": [
    "sm.graphics.qqplot(model.resid, fit=True, \n",
    "                       line= '45', color = 'g')"
   ]
  },
  {
   "cell_type": "code",
   "execution_count": 145,
   "metadata": {},
   "outputs": [
    {
     "data": {
      "text/plain": [
       "<matplotlib.lines.Line2D at 0x7f98f8d1b390>"
      ]
     },
     "execution_count": 145,
     "metadata": {},
     "output_type": "execute_result"
    },
    {
     "data": {
      "image/png": "[encoded data removed]",
      "text/plain": [
       "<Figure size 432x288 with 1 Axes>"
      ]
     },
     "metadata": {},
     "output_type": "display_data"
    }
   ],
   "source": [
    "ax = sns.scatterplot(df_ohe[target], model.resid, color = 'g')\n",
    "ax.axhline(linewidth=2, color='r')"
   ]
  },
  {
   "cell_type": "markdown",
   "metadata": {},
   "source": [
    "> Create function to make it quicker to graph visualizations for model."
   ]
  },
  {
   "cell_type": "code",
   "execution_count": 146,
   "metadata": {},
   "outputs": [],
   "source": [
    "def create_visuals(y_true):\n",
    "    fig, axes = plt.subplots(ncols=2, figsize=(10,6))\n",
    "    \n",
    "    sm.graphics.qqplot(model.resid, fit=True, \n",
    "                       line= '45', color = 'g', ax=axes[0])\n",
    "   \n",
    "    ax = axes[1]\n",
    "    ax = sns.scatterplot(y_true, model.resid, color = 'g')\n",
    "    ax.axhline(linewidth=2, color='r')\n",
    "    plt.suptitle(f\" QQplot and Homoskedasticity Check\", fontsize = 14)\n",
    "    plt.tight_layout()\n",
    "\n",
    "    "
   ]
  },
  {
   "cell_type": "code",
   "execution_count": 147,
   "metadata": {},
   "outputs": [
    {
     "data": {
      "image/png": "[encoded data removed]",
      "text/plain": [
       "<Figure size 720x432 with 2 Axes>"
      ]
     },
     "metadata": {},
     "output_type": "display_data"
    }
   ],
   "source": [
    "create_visuals(df_ohe[target])"
   ]
  },
  {
   "cell_type": "markdown",
   "metadata": {},
   "source": [
    ">**Observations**:\n",
    "- Higher R-squared of .809. First R-squared was .700. Went back and decided to scrub data better.\n",
    "- Problem P-value rows\n",
    "- Multicolinearity of 2.84e+08"
   ]
  },
  {
   "cell_type": "markdown",
   "metadata": {},
   "source": [
    "### Dealing with P-Values"
   ]
  },
  {
   "cell_type": "code",
   "execution_count": 148,
   "metadata": {
    "scrolled": true
   },
   "outputs": [],
   "source": [
    "p_val = round(model.pvalues.sort_values(ascending=True), 3)"
   ]
  },
  {
   "cell_type": "code",
   "execution_count": 149,
   "metadata": {
    "scrolled": true
   },
   "outputs": [
    {
     "data": {
      "text/plain": [
       "grade            0.000\n",
       "lat              0.000\n",
       "yr_built         0.000\n",
       "waterfront       0.000\n",
       "view             0.000\n",
       "Intercept        0.000\n",
       "bedrooms         0.000\n",
       "bathrooms        0.000\n",
       "long             0.000\n",
       "sqft_living15    0.000\n",
       "yr_renovated     0.000\n",
       "sqft_living      0.000\n",
       "sqft_lot15       0.000\n",
       "sqft_above       0.000\n",
       "sqft_basement    0.007\n",
       "sqft_lot         0.014\n",
       "condition_5      0.034\n",
       "condition_4      0.247\n",
       "condition_2      0.514\n",
       "floors           0.677\n",
       "condition_3      0.766\n",
       "dtype: float64"
      ]
     },
     "execution_count": 149,
     "metadata": {},
     "output_type": "execute_result"
    }
   ],
   "source": [
    "p_val"
   ]
  },
  {
   "cell_type": "code",
   "execution_count": 150,
   "metadata": {},
   "outputs": [],
   "source": [
    "p_removal = list(p_val[p_val > .05].index)"
   ]
  },
  {
   "cell_type": "code",
   "execution_count": 151,
   "metadata": {},
   "outputs": [
    {
     "data": {
      "text/plain": [
       "['condition_4', 'condition_2', 'floors', 'condition_3']"
      ]
     },
     "execution_count": 151,
     "metadata": {},
     "output_type": "execute_result"
    }
   ],
   "source": [
    "p_removal"
   ]
  },
  {
   "cell_type": "markdown",
   "metadata": {},
   "source": [
    "> Above I am checking to see if 'Intercept' is listed in the p_removal list. It is not so I can proceed."
   ]
  },
  {
   "cell_type": "code",
   "execution_count": 152,
   "metadata": {
    "scrolled": true
   },
   "outputs": [
    {
     "data": {
      "text/plain": [
       "0.18181818181818182"
      ]
     },
     "execution_count": 152,
     "metadata": {},
     "output_type": "execute_result"
    }
   ],
   "source": [
    "# % of overall data to drop\n",
    "len(p_removal)/len(df_ohe.columns)"
   ]
  },
  {
   "cell_type": "code",
   "execution_count": 153,
   "metadata": {},
   "outputs": [],
   "source": [
    "for col in p_removal:\n",
    "    if col in df_ohe.columns:\n",
    "        df_ohe.drop(columns=col, inplace = True)"
   ]
  },
  {
   "cell_type": "code",
   "execution_count": 154,
   "metadata": {},
   "outputs": [],
   "source": [
    "features = '+'.join(df_ohe.drop(columns=['price', 'date']).columns)\n"
   ]
  },
  {
   "cell_type": "code",
   "execution_count": 155,
   "metadata": {},
   "outputs": [
    {
     "data": {
      "text/html": [
       "<table class=\"simpletable\">\n",
       "<caption>OLS Regression Results</caption>\n",
       "<tr>\n",
       "  <th>Dep. Variable:</th>          <td>price</td>      <th>  R-squared:         </th>  <td>   0.695</td>  \n",
       "</tr>\n",
       "<tr>\n",
       "  <th>Model:</th>                   <td>OLS</td>       <th>  Adj. R-squared:    </th>  <td>   0.695</td>  \n",
       "</tr>\n",
       "<tr>\n",
       "  <th>Method:</th>             <td>Least Squares</td>  <th>  F-statistic:       </th>  <td>   3036.</td>  \n",
       "</tr>\n",
       "<tr>\n",
       "  <th>Date:</th>             <td>Fri, 28 Aug 2020</td> <th>  Prob (F-statistic):</th>   <td>  0.00</td>   \n",
       "</tr>\n",
       "<tr>\n",
       "  <th>Time:</th>                 <td>15:18:27</td>     <th>  Log-Likelihood:    </th> <td>-2.9126e+05</td>\n",
       "</tr>\n",
       "<tr>\n",
       "  <th>No. Observations:</th>      <td> 21357</td>      <th>  AIC:               </th>  <td>5.826e+05</td> \n",
       "</tr>\n",
       "<tr>\n",
       "  <th>Df Residuals:</th>          <td> 21340</td>      <th>  BIC:               </th>  <td>5.827e+05</td> \n",
       "</tr>\n",
       "<tr>\n",
       "  <th>Df Model:</th>              <td>    16</td>      <th>                     </th>      <td> </td>     \n",
       "</tr>\n",
       "<tr>\n",
       "  <th>Covariance Type:</th>      <td>nonrobust</td>    <th>                     </th>      <td> </td>     \n",
       "</tr>\n",
       "</table>\n",
       "<table class=\"simpletable\">\n",
       "<tr>\n",
       "        <td></td>           <th>coef</th>     <th>std err</th>      <th>t</th>      <th>P>|t|</th>  <th>[0.025</th>    <th>0.975]</th>  \n",
       "</tr>\n",
       "<tr>\n",
       "  <th>Intercept</th>     <td>-3.543e+07</td> <td> 1.57e+06</td> <td>  -22.580</td> <td> 0.000</td> <td>-3.85e+07</td> <td>-3.24e+07</td>\n",
       "</tr>\n",
       "<tr>\n",
       "  <th>bedrooms</th>      <td>-3.351e+04</td> <td> 1922.194</td> <td>  -17.431</td> <td> 0.000</td> <td>-3.73e+04</td> <td>-2.97e+04</td>\n",
       "</tr>\n",
       "<tr>\n",
       "  <th>bathrooms</th>     <td> 4.213e+04</td> <td> 3196.332</td> <td>   13.181</td> <td> 0.000</td> <td> 3.59e+04</td> <td> 4.84e+04</td>\n",
       "</tr>\n",
       "<tr>\n",
       "  <th>sqft_living</th>   <td>  102.5336</td> <td>   18.140</td> <td>    5.652</td> <td> 0.000</td> <td>   66.977</td> <td>  138.090</td>\n",
       "</tr>\n",
       "<tr>\n",
       "  <th>sqft_lot</th>      <td>    0.1167</td> <td>    0.048</td> <td>    2.416</td> <td> 0.016</td> <td>    0.022</td> <td>    0.211</td>\n",
       "</tr>\n",
       "<tr>\n",
       "  <th>waterfront</th>    <td> 6.003e+05</td> <td> 1.83e+04</td> <td>   32.732</td> <td> 0.000</td> <td> 5.64e+05</td> <td> 6.36e+05</td>\n",
       "</tr>\n",
       "<tr>\n",
       "  <th>view</th>          <td> 5.156e+04</td> <td> 2137.193</td> <td>   24.126</td> <td> 0.000</td> <td> 4.74e+04</td> <td> 5.57e+04</td>\n",
       "</tr>\n",
       "<tr>\n",
       "  <th>grade</th>         <td> 9.918e+04</td> <td> 2177.145</td> <td>   45.553</td> <td> 0.000</td> <td> 9.49e+04</td> <td> 1.03e+05</td>\n",
       "</tr>\n",
       "<tr>\n",
       "  <th>sqft_above</th>    <td>   75.1725</td> <td>   18.074</td> <td>    4.159</td> <td> 0.000</td> <td>   39.746</td> <td>  110.599</td>\n",
       "</tr>\n",
       "<tr>\n",
       "  <th>sqft_basement</th> <td>   45.6997</td> <td>   18.027</td> <td>    2.535</td> <td> 0.011</td> <td>   10.365</td> <td>   81.035</td>\n",
       "</tr>\n",
       "<tr>\n",
       "  <th>yr_built</th>      <td>-2598.8521</td> <td>   68.732</td> <td>  -37.811</td> <td> 0.000</td> <td>-2733.572</td> <td>-2464.133</td>\n",
       "</tr>\n",
       "<tr>\n",
       "  <th>yr_renovated</th>  <td>   21.7097</td> <td>    3.985</td> <td>    5.448</td> <td> 0.000</td> <td>   13.900</td> <td>   29.520</td>\n",
       "</tr>\n",
       "<tr>\n",
       "  <th>lat</th>           <td> 5.512e+05</td> <td> 1.05e+04</td> <td>   52.457</td> <td> 0.000</td> <td> 5.31e+05</td> <td> 5.72e+05</td>\n",
       "</tr>\n",
       "<tr>\n",
       "  <th>long</th>          <td>-1.122e+05</td> <td> 1.19e+04</td> <td>   -9.403</td> <td> 0.000</td> <td>-1.36e+05</td> <td>-8.88e+04</td>\n",
       "</tr>\n",
       "<tr>\n",
       "  <th>sqft_living15</th> <td>   26.5521</td> <td>    3.447</td> <td>    7.703</td> <td> 0.000</td> <td>   19.795</td> <td>   33.309</td>\n",
       "</tr>\n",
       "<tr>\n",
       "  <th>sqft_lot15</th>    <td>   -0.3810</td> <td>    0.074</td> <td>   -5.157</td> <td> 0.000</td> <td>   -0.526</td> <td>   -0.236</td>\n",
       "</tr>\n",
       "<tr>\n",
       "  <th>condition_5</th>   <td> 5.543e+04</td> <td> 5386.765</td> <td>   10.290</td> <td> 0.000</td> <td> 4.49e+04</td> <td>  6.6e+04</td>\n",
       "</tr>\n",
       "</table>\n",
       "<table class=\"simpletable\">\n",
       "<tr>\n",
       "  <th>Omnibus:</th>       <td>18137.302</td> <th>  Durbin-Watson:     </th>  <td>   1.998</td>  \n",
       "</tr>\n",
       "<tr>\n",
       "  <th>Prob(Omnibus):</th>  <td> 0.000</td>   <th>  Jarque-Bera (JB):  </th> <td>1781320.885</td>\n",
       "</tr>\n",
       "<tr>\n",
       "  <th>Skew:</th>           <td> 3.568</td>   <th>  Prob(JB):          </th>  <td>    0.00</td>  \n",
       "</tr>\n",
       "<tr>\n",
       "  <th>Kurtosis:</th>       <td>47.168</td>   <th>  Cond. No.          </th>  <td>5.73e+07</td>  \n",
       "</tr>\n",
       "</table><br/><br/>Warnings:<br/>[1] Standard Errors assume that the covariance matrix of the errors is correctly specified.<br/>[2] The condition number is large, 5.73e+07. This might indicate that there are<br/>strong multicollinearity or other numerical problems."
      ],
      "text/plain": [
       "<class 'statsmodels.iolib.summary.Summary'>\n",
       "\"\"\"\n",
       "                            OLS Regression Results                            \n",
       "==============================================================================\n",
       "Dep. Variable:                  price   R-squared:                       0.695\n",
       "Model:                            OLS   Adj. R-squared:                  0.695\n",
       "Method:                 Least Squares   F-statistic:                     3036.\n",
       "Date:                Fri, 28 Aug 2020   Prob (F-statistic):               0.00\n",
       "Time:                        15:18:27   Log-Likelihood:            -2.9126e+05\n",
       "No. Observations:               21357   AIC:                         5.826e+05\n",
       "Df Residuals:                   21340   BIC:                         5.827e+05\n",
       "Df Model:                          16                                         \n",
       "Covariance Type:            nonrobust                                         \n",
       "=================================================================================\n",
       "                    coef    std err          t      P>|t|      [0.025      0.975]\n",
       "---------------------------------------------------------------------------------\n",
       "Intercept     -3.543e+07   1.57e+06    -22.580      0.000   -3.85e+07   -3.24e+07\n",
       "bedrooms      -3.351e+04   1922.194    -17.431      0.000   -3.73e+04   -2.97e+04\n",
       "bathrooms      4.213e+04   3196.332     13.181      0.000    3.59e+04    4.84e+04\n",
       "sqft_living     102.5336     18.140      5.652      0.000      66.977     138.090\n",
       "sqft_lot          0.1167      0.048      2.416      0.016       0.022       0.211\n",
       "waterfront     6.003e+05   1.83e+04     32.732      0.000    5.64e+05    6.36e+05\n",
       "view           5.156e+04   2137.193     24.126      0.000    4.74e+04    5.57e+04\n",
       "grade          9.918e+04   2177.145     45.553      0.000    9.49e+04    1.03e+05\n",
       "sqft_above       75.1725     18.074      4.159      0.000      39.746     110.599\n",
       "sqft_basement    45.6997     18.027      2.535      0.011      10.365      81.035\n",
       "yr_built      -2598.8521     68.732    -37.811      0.000   -2733.572   -2464.133\n",
       "yr_renovated     21.7097      3.985      5.448      0.000      13.900      29.520\n",
       "lat            5.512e+05   1.05e+04     52.457      0.000    5.31e+05    5.72e+05\n",
       "long          -1.122e+05   1.19e+04     -9.403      0.000   -1.36e+05   -8.88e+04\n",
       "sqft_living15    26.5521      3.447      7.703      0.000      19.795      33.309\n",
       "sqft_lot15       -0.3810      0.074     -5.157      0.000      -0.526      -0.236\n",
       "condition_5    5.543e+04   5386.765     10.290      0.000    4.49e+04     6.6e+04\n",
       "==============================================================================\n",
       "Omnibus:                    18137.302   Durbin-Watson:                   1.998\n",
       "Prob(Omnibus):                  0.000   Jarque-Bera (JB):          1781320.885\n",
       "Skew:                           3.568   Prob(JB):                         0.00\n",
       "Kurtosis:                      47.168   Cond. No.                     5.73e+07\n",
       "==============================================================================\n",
       "\n",
       "Warnings:\n",
       "[1] Standard Errors assume that the covariance matrix of the errors is correctly specified.\n",
       "[2] The condition number is large, 5.73e+07. This might indicate that there are\n",
       "strong multicollinearity or other numerical problems.\n",
       "\"\"\""
      ]
     },
     "execution_count": 155,
     "metadata": {},
     "output_type": "execute_result"
    }
   ],
   "source": [
    "formula = target + '~' + features\n",
    "model = smf.ols(formula, df_ohe).fit()\n",
    "model.summary()"
   ]
  },
  {
   "cell_type": "markdown",
   "metadata": {},
   "source": [
    ">**Observations**:\n",
    "- R-squared did not change .809\n",
    "- P-values taken care of\n",
    "- Multicolinearity dropped to 1.33e+.08"
   ]
  },
  {
   "cell_type": "markdown",
   "metadata": {},
   "source": [
    "### SCRUB: Check for multicollinearity"
   ]
  },
  {
   "cell_type": "code",
   "execution_count": 156,
   "metadata": {},
   "outputs": [
    {
     "data": {
      "text/plain": [
       "(21357, 18)"
      ]
     },
     "execution_count": 156,
     "metadata": {},
     "output_type": "execute_result"
    }
   ],
   "source": [
    "df_ohe.shape"
   ]
  },
  {
   "cell_type": "code",
   "execution_count": 157,
   "metadata": {},
   "outputs": [
    {
     "data": {
      "text/html": [
       "<div>\n",
       "<style scoped>\n",
       "    .dataframe tbody tr th:only-of-type {\n",
       "        vertical-align: middle;\n",
       "    }\n",
       "\n",
       "    .dataframe tbody tr th {\n",
       "        vertical-align: top;\n",
       "    }\n",
       "\n",
       "    .dataframe thead th {\n",
       "        text-align: right;\n",
       "    }\n",
       "</style>\n",
       "<table border=\"1\" class=\"dataframe\">\n",
       "  <thead>\n",
       "    <tr style=\"text-align: right;\">\n",
       "      <th></th>\n",
       "      <th>bedrooms</th>\n",
       "      <th>bathrooms</th>\n",
       "      <th>sqft_living</th>\n",
       "      <th>sqft_lot</th>\n",
       "      <th>waterfront</th>\n",
       "      <th>view</th>\n",
       "      <th>grade</th>\n",
       "      <th>sqft_above</th>\n",
       "      <th>sqft_basement</th>\n",
       "      <th>yr_built</th>\n",
       "      <th>yr_renovated</th>\n",
       "      <th>lat</th>\n",
       "      <th>long</th>\n",
       "      <th>sqft_living15</th>\n",
       "      <th>sqft_lot15</th>\n",
       "      <th>condition_5</th>\n",
       "    </tr>\n",
       "  </thead>\n",
       "  <tbody>\n",
       "    <tr>\n",
       "      <th>0</th>\n",
       "      <td>3</td>\n",
       "      <td>1.00</td>\n",
       "      <td>1180</td>\n",
       "      <td>5650</td>\n",
       "      <td>0.0</td>\n",
       "      <td>0.0</td>\n",
       "      <td>7</td>\n",
       "      <td>1180</td>\n",
       "      <td>0.0</td>\n",
       "      <td>1955</td>\n",
       "      <td>0.0</td>\n",
       "      <td>47.5112</td>\n",
       "      <td>-122.257</td>\n",
       "      <td>1340</td>\n",
       "      <td>5650</td>\n",
       "      <td>0</td>\n",
       "    </tr>\n",
       "    <tr>\n",
       "      <th>1</th>\n",
       "      <td>3</td>\n",
       "      <td>2.25</td>\n",
       "      <td>2570</td>\n",
       "      <td>7242</td>\n",
       "      <td>0.0</td>\n",
       "      <td>0.0</td>\n",
       "      <td>7</td>\n",
       "      <td>2170</td>\n",
       "      <td>400.0</td>\n",
       "      <td>1951</td>\n",
       "      <td>1991.0</td>\n",
       "      <td>47.7210</td>\n",
       "      <td>-122.319</td>\n",
       "      <td>1690</td>\n",
       "      <td>7639</td>\n",
       "      <td>0</td>\n",
       "    </tr>\n",
       "    <tr>\n",
       "      <th>2</th>\n",
       "      <td>2</td>\n",
       "      <td>1.00</td>\n",
       "      <td>770</td>\n",
       "      <td>10000</td>\n",
       "      <td>0.0</td>\n",
       "      <td>0.0</td>\n",
       "      <td>6</td>\n",
       "      <td>770</td>\n",
       "      <td>0.0</td>\n",
       "      <td>1933</td>\n",
       "      <td>0.0</td>\n",
       "      <td>47.7379</td>\n",
       "      <td>-122.233</td>\n",
       "      <td>2720</td>\n",
       "      <td>8062</td>\n",
       "      <td>0</td>\n",
       "    </tr>\n",
       "    <tr>\n",
       "      <th>3</th>\n",
       "      <td>4</td>\n",
       "      <td>3.00</td>\n",
       "      <td>1960</td>\n",
       "      <td>5000</td>\n",
       "      <td>0.0</td>\n",
       "      <td>0.0</td>\n",
       "      <td>7</td>\n",
       "      <td>1050</td>\n",
       "      <td>910.0</td>\n",
       "      <td>1965</td>\n",
       "      <td>0.0</td>\n",
       "      <td>47.5208</td>\n",
       "      <td>-122.393</td>\n",
       "      <td>1360</td>\n",
       "      <td>5000</td>\n",
       "      <td>1</td>\n",
       "    </tr>\n",
       "    <tr>\n",
       "      <th>4</th>\n",
       "      <td>3</td>\n",
       "      <td>2.00</td>\n",
       "      <td>1680</td>\n",
       "      <td>8080</td>\n",
       "      <td>0.0</td>\n",
       "      <td>0.0</td>\n",
       "      <td>8</td>\n",
       "      <td>1680</td>\n",
       "      <td>0.0</td>\n",
       "      <td>1987</td>\n",
       "      <td>0.0</td>\n",
       "      <td>47.6168</td>\n",
       "      <td>-122.045</td>\n",
       "      <td>1800</td>\n",
       "      <td>7503</td>\n",
       "      <td>0</td>\n",
       "    </tr>\n",
       "    <tr>\n",
       "      <th>...</th>\n",
       "      <td>...</td>\n",
       "      <td>...</td>\n",
       "      <td>...</td>\n",
       "      <td>...</td>\n",
       "      <td>...</td>\n",
       "      <td>...</td>\n",
       "      <td>...</td>\n",
       "      <td>...</td>\n",
       "      <td>...</td>\n",
       "      <td>...</td>\n",
       "      <td>...</td>\n",
       "      <td>...</td>\n",
       "      <td>...</td>\n",
       "      <td>...</td>\n",
       "      <td>...</td>\n",
       "      <td>...</td>\n",
       "    </tr>\n",
       "    <tr>\n",
       "      <th>21592</th>\n",
       "      <td>3</td>\n",
       "      <td>2.50</td>\n",
       "      <td>1530</td>\n",
       "      <td>1131</td>\n",
       "      <td>0.0</td>\n",
       "      <td>0.0</td>\n",
       "      <td>8</td>\n",
       "      <td>1530</td>\n",
       "      <td>0.0</td>\n",
       "      <td>2009</td>\n",
       "      <td>0.0</td>\n",
       "      <td>47.6993</td>\n",
       "      <td>-122.346</td>\n",
       "      <td>1530</td>\n",
       "      <td>1509</td>\n",
       "      <td>0</td>\n",
       "    </tr>\n",
       "    <tr>\n",
       "      <th>21593</th>\n",
       "      <td>4</td>\n",
       "      <td>2.50</td>\n",
       "      <td>2310</td>\n",
       "      <td>5813</td>\n",
       "      <td>0.0</td>\n",
       "      <td>0.0</td>\n",
       "      <td>8</td>\n",
       "      <td>2310</td>\n",
       "      <td>0.0</td>\n",
       "      <td>2014</td>\n",
       "      <td>0.0</td>\n",
       "      <td>47.5107</td>\n",
       "      <td>-122.362</td>\n",
       "      <td>1830</td>\n",
       "      <td>7200</td>\n",
       "      <td>0</td>\n",
       "    </tr>\n",
       "    <tr>\n",
       "      <th>21594</th>\n",
       "      <td>2</td>\n",
       "      <td>0.75</td>\n",
       "      <td>1020</td>\n",
       "      <td>1350</td>\n",
       "      <td>0.0</td>\n",
       "      <td>0.0</td>\n",
       "      <td>7</td>\n",
       "      <td>1020</td>\n",
       "      <td>0.0</td>\n",
       "      <td>2009</td>\n",
       "      <td>0.0</td>\n",
       "      <td>47.5944</td>\n",
       "      <td>-122.299</td>\n",
       "      <td>1020</td>\n",
       "      <td>2007</td>\n",
       "      <td>0</td>\n",
       "    </tr>\n",
       "    <tr>\n",
       "      <th>21595</th>\n",
       "      <td>3</td>\n",
       "      <td>2.50</td>\n",
       "      <td>1600</td>\n",
       "      <td>2388</td>\n",
       "      <td>0.0</td>\n",
       "      <td>0.0</td>\n",
       "      <td>8</td>\n",
       "      <td>1600</td>\n",
       "      <td>0.0</td>\n",
       "      <td>2004</td>\n",
       "      <td>0.0</td>\n",
       "      <td>47.5345</td>\n",
       "      <td>-122.069</td>\n",
       "      <td>1410</td>\n",
       "      <td>1287</td>\n",
       "      <td>0</td>\n",
       "    </tr>\n",
       "    <tr>\n",
       "      <th>21596</th>\n",
       "      <td>2</td>\n",
       "      <td>0.75</td>\n",
       "      <td>1020</td>\n",
       "      <td>1076</td>\n",
       "      <td>0.0</td>\n",
       "      <td>0.0</td>\n",
       "      <td>7</td>\n",
       "      <td>1020</td>\n",
       "      <td>0.0</td>\n",
       "      <td>2008</td>\n",
       "      <td>0.0</td>\n",
       "      <td>47.5941</td>\n",
       "      <td>-122.299</td>\n",
       "      <td>1020</td>\n",
       "      <td>1357</td>\n",
       "      <td>0</td>\n",
       "    </tr>\n",
       "  </tbody>\n",
       "</table>\n",
       "<p>21357 rows × 16 columns</p>\n",
       "</div>"
      ],
      "text/plain": [
       "       bedrooms  bathrooms  sqft_living  ...  sqft_living15  sqft_lot15  condition_5\n",
       "0             3       1.00         1180  ...           1340        5650            0\n",
       "1             3       2.25         2570  ...           1690        7639            0\n",
       "2             2       1.00          770  ...           2720        8062            0\n",
       "3             4       3.00         1960  ...           1360        5000            1\n",
       "4             3       2.00         1680  ...           1800        7503            0\n",
       "...         ...        ...          ...  ...            ...         ...          ...\n",
       "21592         3       2.50         1530  ...           1530        1509            0\n",
       "21593         4       2.50         2310  ...           1830        7200            0\n",
       "21594         2       0.75         1020  ...           1020        2007            0\n",
       "21595         3       2.50         1600  ...           1410        1287            0\n",
       "21596         2       0.75         1020  ...           1020        1357            0\n",
       "\n",
       "[21357 rows x 16 columns]"
      ]
     },
     "execution_count": 157,
     "metadata": {},
     "output_type": "execute_result"
    }
   ],
   "source": [
    "df_ohe.iloc[:, 2:72]"
   ]
  },
  {
   "cell_type": "markdown",
   "metadata": {},
   "source": [
    "> Take a copy of the data without the target variable of \"price\". Also dropped \"date\" because keeping it in won't lead to meaningful results."
   ]
  },
  {
   "cell_type": "code",
   "execution_count": 158,
   "metadata": {
    "scrolled": false
   },
   "outputs": [
    {
     "data": {
      "text/html": [
       "<div>\n",
       "<style scoped>\n",
       "    .dataframe tbody tr th:only-of-type {\n",
       "        vertical-align: middle;\n",
       "    }\n",
       "\n",
       "    .dataframe tbody tr th {\n",
       "        vertical-align: top;\n",
       "    }\n",
       "\n",
       "    .dataframe thead th {\n",
       "        text-align: right;\n",
       "    }\n",
       "</style>\n",
       "<table border=\"1\" class=\"dataframe\">\n",
       "  <thead>\n",
       "    <tr style=\"text-align: right;\">\n",
       "      <th></th>\n",
       "      <th>bedrooms</th>\n",
       "      <th>bathrooms</th>\n",
       "      <th>sqft_living</th>\n",
       "      <th>sqft_lot</th>\n",
       "      <th>waterfront</th>\n",
       "      <th>view</th>\n",
       "      <th>grade</th>\n",
       "      <th>sqft_above</th>\n",
       "      <th>sqft_basement</th>\n",
       "      <th>yr_built</th>\n",
       "      <th>yr_renovated</th>\n",
       "      <th>lat</th>\n",
       "      <th>long</th>\n",
       "      <th>sqft_living15</th>\n",
       "      <th>sqft_lot15</th>\n",
       "      <th>condition_5</th>\n",
       "    </tr>\n",
       "  </thead>\n",
       "  <tbody>\n",
       "    <tr>\n",
       "      <th>0</th>\n",
       "      <td>3</td>\n",
       "      <td>1.00</td>\n",
       "      <td>1180</td>\n",
       "      <td>5650</td>\n",
       "      <td>0.0</td>\n",
       "      <td>0.0</td>\n",
       "      <td>7</td>\n",
       "      <td>1180</td>\n",
       "      <td>0.0</td>\n",
       "      <td>1955</td>\n",
       "      <td>0.0</td>\n",
       "      <td>47.5112</td>\n",
       "      <td>-122.257</td>\n",
       "      <td>1340</td>\n",
       "      <td>5650</td>\n",
       "      <td>0</td>\n",
       "    </tr>\n",
       "    <tr>\n",
       "      <th>1</th>\n",
       "      <td>3</td>\n",
       "      <td>2.25</td>\n",
       "      <td>2570</td>\n",
       "      <td>7242</td>\n",
       "      <td>0.0</td>\n",
       "      <td>0.0</td>\n",
       "      <td>7</td>\n",
       "      <td>2170</td>\n",
       "      <td>400.0</td>\n",
       "      <td>1951</td>\n",
       "      <td>1991.0</td>\n",
       "      <td>47.7210</td>\n",
       "      <td>-122.319</td>\n",
       "      <td>1690</td>\n",
       "      <td>7639</td>\n",
       "      <td>0</td>\n",
       "    </tr>\n",
       "    <tr>\n",
       "      <th>2</th>\n",
       "      <td>2</td>\n",
       "      <td>1.00</td>\n",
       "      <td>770</td>\n",
       "      <td>10000</td>\n",
       "      <td>0.0</td>\n",
       "      <td>0.0</td>\n",
       "      <td>6</td>\n",
       "      <td>770</td>\n",
       "      <td>0.0</td>\n",
       "      <td>1933</td>\n",
       "      <td>0.0</td>\n",
       "      <td>47.7379</td>\n",
       "      <td>-122.233</td>\n",
       "      <td>2720</td>\n",
       "      <td>8062</td>\n",
       "      <td>0</td>\n",
       "    </tr>\n",
       "    <tr>\n",
       "      <th>3</th>\n",
       "      <td>4</td>\n",
       "      <td>3.00</td>\n",
       "      <td>1960</td>\n",
       "      <td>5000</td>\n",
       "      <td>0.0</td>\n",
       "      <td>0.0</td>\n",
       "      <td>7</td>\n",
       "      <td>1050</td>\n",
       "      <td>910.0</td>\n",
       "      <td>1965</td>\n",
       "      <td>0.0</td>\n",
       "      <td>47.5208</td>\n",
       "      <td>-122.393</td>\n",
       "      <td>1360</td>\n",
       "      <td>5000</td>\n",
       "      <td>1</td>\n",
       "    </tr>\n",
       "    <tr>\n",
       "      <th>4</th>\n",
       "      <td>3</td>\n",
       "      <td>2.00</td>\n",
       "      <td>1680</td>\n",
       "      <td>8080</td>\n",
       "      <td>0.0</td>\n",
       "      <td>0.0</td>\n",
       "      <td>8</td>\n",
       "      <td>1680</td>\n",
       "      <td>0.0</td>\n",
       "      <td>1987</td>\n",
       "      <td>0.0</td>\n",
       "      <td>47.6168</td>\n",
       "      <td>-122.045</td>\n",
       "      <td>1800</td>\n",
       "      <td>7503</td>\n",
       "      <td>0</td>\n",
       "    </tr>\n",
       "  </tbody>\n",
       "</table>\n",
       "</div>"
      ],
      "text/plain": [
       "   bedrooms  bathrooms  sqft_living  ...  sqft_living15  sqft_lot15  condition_5\n",
       "0         3       1.00         1180  ...           1340        5650            0\n",
       "1         3       2.25         2570  ...           1690        7639            0\n",
       "2         2       1.00          770  ...           2720        8062            0\n",
       "3         4       3.00         1960  ...           1360        5000            1\n",
       "4         3       2.00         1680  ...           1800        7503            0\n",
       "\n",
       "[5 rows x 16 columns]"
      ]
     },
     "execution_count": 158,
     "metadata": {},
     "output_type": "execute_result"
    }
   ],
   "source": [
    "data_pred = df_ohe.iloc[:, 2:72]\n",
    "data_pred.head()"
   ]
  },
  {
   "cell_type": "markdown",
   "metadata": {},
   "source": [
    "> Creating a correlation matrix. Negative numbers represent negative linear relationships whereas positive numbers represent a positive linear relationship."
   ]
  },
  {
   "cell_type": "code",
   "execution_count": 159,
   "metadata": {
    "scrolled": true
   },
   "outputs": [
    {
     "data": {
      "text/html": [
       "<div>\n",
       "<style scoped>\n",
       "    .dataframe tbody tr th:only-of-type {\n",
       "        vertical-align: middle;\n",
       "    }\n",
       "\n",
       "    .dataframe tbody tr th {\n",
       "        vertical-align: top;\n",
       "    }\n",
       "\n",
       "    .dataframe thead th {\n",
       "        text-align: right;\n",
       "    }\n",
       "</style>\n",
       "<table border=\"1\" class=\"dataframe\">\n",
       "  <thead>\n",
       "    <tr style=\"text-align: right;\">\n",
       "      <th></th>\n",
       "      <th>bedrooms</th>\n",
       "      <th>bathrooms</th>\n",
       "      <th>sqft_living</th>\n",
       "      <th>sqft_lot</th>\n",
       "      <th>waterfront</th>\n",
       "      <th>view</th>\n",
       "      <th>grade</th>\n",
       "      <th>sqft_above</th>\n",
       "      <th>sqft_basement</th>\n",
       "      <th>yr_built</th>\n",
       "      <th>yr_renovated</th>\n",
       "      <th>lat</th>\n",
       "      <th>long</th>\n",
       "      <th>sqft_living15</th>\n",
       "      <th>sqft_lot15</th>\n",
       "      <th>condition_5</th>\n",
       "    </tr>\n",
       "  </thead>\n",
       "  <tbody>\n",
       "    <tr>\n",
       "      <th>bedrooms</th>\n",
       "      <td>1.000000</td>\n",
       "      <td>0.515245</td>\n",
       "      <td>0.578790</td>\n",
       "      <td>0.032756</td>\n",
       "      <td>-0.003819</td>\n",
       "      <td>0.078523</td>\n",
       "      <td>0.357521</td>\n",
       "      <td>0.480005</td>\n",
       "      <td>0.296439</td>\n",
       "      <td>0.155031</td>\n",
       "      <td>0.017365</td>\n",
       "      <td>-0.011738</td>\n",
       "      <td>0.132707</td>\n",
       "      <td>0.394417</td>\n",
       "      <td>0.030834</td>\n",
       "      <td>0.026836</td>\n",
       "    </tr>\n",
       "    <tr>\n",
       "      <th>bathrooms</th>\n",
       "      <td>0.515245</td>\n",
       "      <td>1.000000</td>\n",
       "      <td>0.755037</td>\n",
       "      <td>0.088328</td>\n",
       "      <td>0.061110</td>\n",
       "      <td>0.185383</td>\n",
       "      <td>0.665055</td>\n",
       "      <td>0.685830</td>\n",
       "      <td>0.277344</td>\n",
       "      <td>0.506644</td>\n",
       "      <td>0.047463</td>\n",
       "      <td>0.023346</td>\n",
       "      <td>0.223928</td>\n",
       "      <td>0.568701</td>\n",
       "      <td>0.088313</td>\n",
       "      <td>-0.036391</td>\n",
       "    </tr>\n",
       "    <tr>\n",
       "      <th>sqft_living</th>\n",
       "      <td>0.578790</td>\n",
       "      <td>0.755037</td>\n",
       "      <td>1.000000</td>\n",
       "      <td>0.172899</td>\n",
       "      <td>0.102075</td>\n",
       "      <td>0.281658</td>\n",
       "      <td>0.762092</td>\n",
       "      <td>0.876640</td>\n",
       "      <td>0.426778</td>\n",
       "      <td>0.316707</td>\n",
       "      <td>0.050660</td>\n",
       "      <td>0.050961</td>\n",
       "      <td>0.240855</td>\n",
       "      <td>0.755991</td>\n",
       "      <td>0.184296</td>\n",
       "      <td>-0.019755</td>\n",
       "    </tr>\n",
       "    <tr>\n",
       "      <th>sqft_lot</th>\n",
       "      <td>0.032756</td>\n",
       "      <td>0.088328</td>\n",
       "      <td>0.172899</td>\n",
       "      <td>1.000000</td>\n",
       "      <td>0.021436</td>\n",
       "      <td>0.075605</td>\n",
       "      <td>0.114046</td>\n",
       "      <td>0.183393</td>\n",
       "      <td>0.014925</td>\n",
       "      <td>0.052009</td>\n",
       "      <td>0.005104</td>\n",
       "      <td>-0.085451</td>\n",
       "      <td>0.230175</td>\n",
       "      <td>0.144182</td>\n",
       "      <td>0.716629</td>\n",
       "      <td>-0.014100</td>\n",
       "    </tr>\n",
       "    <tr>\n",
       "      <th>waterfront</th>\n",
       "      <td>-0.003819</td>\n",
       "      <td>0.061110</td>\n",
       "      <td>0.102075</td>\n",
       "      <td>0.021436</td>\n",
       "      <td>1.000000</td>\n",
       "      <td>0.383115</td>\n",
       "      <td>0.081274</td>\n",
       "      <td>0.069886</td>\n",
       "      <td>0.081185</td>\n",
       "      <td>-0.025358</td>\n",
       "      <td>0.074485</td>\n",
       "      <td>-0.012393</td>\n",
       "      <td>-0.038102</td>\n",
       "      <td>0.082445</td>\n",
       "      <td>0.030599</td>\n",
       "      <td>0.013912</td>\n",
       "    </tr>\n",
       "    <tr>\n",
       "      <th>view</th>\n",
       "      <td>0.078523</td>\n",
       "      <td>0.185383</td>\n",
       "      <td>0.281658</td>\n",
       "      <td>0.075605</td>\n",
       "      <td>0.383115</td>\n",
       "      <td>1.000000</td>\n",
       "      <td>0.248276</td>\n",
       "      <td>0.165570</td>\n",
       "      <td>0.271197</td>\n",
       "      <td>-0.056290</td>\n",
       "      <td>0.089965</td>\n",
       "      <td>0.005652</td>\n",
       "      <td>-0.079216</td>\n",
       "      <td>0.278188</td>\n",
       "      <td>0.073630</td>\n",
       "      <td>0.033113</td>\n",
       "    </tr>\n",
       "    <tr>\n",
       "      <th>grade</th>\n",
       "      <td>0.357521</td>\n",
       "      <td>0.665055</td>\n",
       "      <td>0.762092</td>\n",
       "      <td>0.114046</td>\n",
       "      <td>0.081274</td>\n",
       "      <td>0.248276</td>\n",
       "      <td>1.000000</td>\n",
       "      <td>0.756126</td>\n",
       "      <td>0.162915</td>\n",
       "      <td>0.446623</td>\n",
       "      <td>0.015352</td>\n",
       "      <td>0.113024</td>\n",
       "      <td>0.199032</td>\n",
       "      <td>0.712768</td>\n",
       "      <td>0.120510</td>\n",
       "      <td>-0.085999</td>\n",
       "    </tr>\n",
       "    <tr>\n",
       "      <th>sqft_above</th>\n",
       "      <td>0.480005</td>\n",
       "      <td>0.685830</td>\n",
       "      <td>0.876640</td>\n",
       "      <td>0.183393</td>\n",
       "      <td>0.069886</td>\n",
       "      <td>0.165570</td>\n",
       "      <td>0.756126</td>\n",
       "      <td>1.000000</td>\n",
       "      <td>-0.052768</td>\n",
       "      <td>0.422935</td>\n",
       "      <td>0.019644</td>\n",
       "      <td>-0.001732</td>\n",
       "      <td>0.344369</td>\n",
       "      <td>0.731663</td>\n",
       "      <td>0.194780</td>\n",
       "      <td>-0.089391</td>\n",
       "    </tr>\n",
       "    <tr>\n",
       "      <th>sqft_basement</th>\n",
       "      <td>0.296439</td>\n",
       "      <td>0.277344</td>\n",
       "      <td>0.426778</td>\n",
       "      <td>0.014925</td>\n",
       "      <td>0.081185</td>\n",
       "      <td>0.271197</td>\n",
       "      <td>0.162915</td>\n",
       "      <td>-0.052768</td>\n",
       "      <td>1.000000</td>\n",
       "      <td>-0.131889</td>\n",
       "      <td>0.066052</td>\n",
       "      <td>0.108449</td>\n",
       "      <td>-0.142970</td>\n",
       "      <td>0.197300</td>\n",
       "      <td>0.015957</td>\n",
       "      <td>0.122883</td>\n",
       "    </tr>\n",
       "    <tr>\n",
       "      <th>yr_built</th>\n",
       "      <td>0.155031</td>\n",
       "      <td>0.506644</td>\n",
       "      <td>0.316707</td>\n",
       "      <td>0.052009</td>\n",
       "      <td>-0.025358</td>\n",
       "      <td>-0.056290</td>\n",
       "      <td>0.446623</td>\n",
       "      <td>0.422935</td>\n",
       "      <td>-0.131889</td>\n",
       "      <td>1.000000</td>\n",
       "      <td>-0.203061</td>\n",
       "      <td>-0.148336</td>\n",
       "      <td>0.408841</td>\n",
       "      <td>0.324874</td>\n",
       "      <td>0.069907</td>\n",
       "      <td>-0.245677</td>\n",
       "    </tr>\n",
       "    <tr>\n",
       "      <th>yr_renovated</th>\n",
       "      <td>0.017365</td>\n",
       "      <td>0.047463</td>\n",
       "      <td>0.050660</td>\n",
       "      <td>0.005104</td>\n",
       "      <td>0.074485</td>\n",
       "      <td>0.089965</td>\n",
       "      <td>0.015352</td>\n",
       "      <td>0.019644</td>\n",
       "      <td>0.066052</td>\n",
       "      <td>-0.203061</td>\n",
       "      <td>1.000000</td>\n",
       "      <td>0.027596</td>\n",
       "      <td>-0.064852</td>\n",
       "      <td>0.000434</td>\n",
       "      <td>0.004444</td>\n",
       "      <td>-0.026127</td>\n",
       "    </tr>\n",
       "    <tr>\n",
       "      <th>lat</th>\n",
       "      <td>-0.011738</td>\n",
       "      <td>0.023346</td>\n",
       "      <td>0.050961</td>\n",
       "      <td>-0.085451</td>\n",
       "      <td>-0.012393</td>\n",
       "      <td>0.005652</td>\n",
       "      <td>0.113024</td>\n",
       "      <td>-0.001732</td>\n",
       "      <td>0.108449</td>\n",
       "      <td>-0.148336</td>\n",
       "      <td>0.027596</td>\n",
       "      <td>1.000000</td>\n",
       "      <td>-0.136301</td>\n",
       "      <td>0.047370</td>\n",
       "      <td>-0.086119</td>\n",
       "      <td>0.024792</td>\n",
       "    </tr>\n",
       "    <tr>\n",
       "      <th>long</th>\n",
       "      <td>0.132707</td>\n",
       "      <td>0.223928</td>\n",
       "      <td>0.240855</td>\n",
       "      <td>0.230175</td>\n",
       "      <td>-0.038102</td>\n",
       "      <td>-0.079216</td>\n",
       "      <td>0.199032</td>\n",
       "      <td>0.344369</td>\n",
       "      <td>-0.142970</td>\n",
       "      <td>0.408841</td>\n",
       "      <td>-0.064852</td>\n",
       "      <td>-0.136301</td>\n",
       "      <td>1.000000</td>\n",
       "      <td>0.335072</td>\n",
       "      <td>0.255115</td>\n",
       "      <td>-0.085645</td>\n",
       "    </tr>\n",
       "    <tr>\n",
       "      <th>sqft_living15</th>\n",
       "      <td>0.394417</td>\n",
       "      <td>0.568701</td>\n",
       "      <td>0.755991</td>\n",
       "      <td>0.144182</td>\n",
       "      <td>0.082445</td>\n",
       "      <td>0.278188</td>\n",
       "      <td>0.712768</td>\n",
       "      <td>0.731663</td>\n",
       "      <td>0.197300</td>\n",
       "      <td>0.324874</td>\n",
       "      <td>0.000434</td>\n",
       "      <td>0.047370</td>\n",
       "      <td>0.335072</td>\n",
       "      <td>1.000000</td>\n",
       "      <td>0.183202</td>\n",
       "      <td>-0.062492</td>\n",
       "    </tr>\n",
       "    <tr>\n",
       "      <th>sqft_lot15</th>\n",
       "      <td>0.030834</td>\n",
       "      <td>0.088313</td>\n",
       "      <td>0.184296</td>\n",
       "      <td>0.716629</td>\n",
       "      <td>0.030599</td>\n",
       "      <td>0.073630</td>\n",
       "      <td>0.120510</td>\n",
       "      <td>0.194780</td>\n",
       "      <td>0.015957</td>\n",
       "      <td>0.069907</td>\n",
       "      <td>0.004444</td>\n",
       "      <td>-0.086119</td>\n",
       "      <td>0.255115</td>\n",
       "      <td>0.183202</td>\n",
       "      <td>1.000000</td>\n",
       "      <td>-0.017158</td>\n",
       "    </tr>\n",
       "    <tr>\n",
       "      <th>condition_5</th>\n",
       "      <td>0.026836</td>\n",
       "      <td>-0.036391</td>\n",
       "      <td>-0.019755</td>\n",
       "      <td>-0.014100</td>\n",
       "      <td>0.013912</td>\n",
       "      <td>0.033113</td>\n",
       "      <td>-0.085999</td>\n",
       "      <td>-0.089391</td>\n",
       "      <td>0.122883</td>\n",
       "      <td>-0.245677</td>\n",
       "      <td>-0.026127</td>\n",
       "      <td>0.024792</td>\n",
       "      <td>-0.085645</td>\n",
       "      <td>-0.062492</td>\n",
       "      <td>-0.017158</td>\n",
       "      <td>1.000000</td>\n",
       "    </tr>\n",
       "  </tbody>\n",
       "</table>\n",
       "</div>"
      ],
      "text/plain": [
       "               bedrooms  bathrooms  ...  sqft_lot15  condition_5\n",
       "bedrooms       1.000000   0.515245  ...    0.030834     0.026836\n",
       "bathrooms      0.515245   1.000000  ...    0.088313    -0.036391\n",
       "sqft_living    0.578790   0.755037  ...    0.184296    -0.019755\n",
       "sqft_lot       0.032756   0.088328  ...    0.716629    -0.014100\n",
       "waterfront    -0.003819   0.061110  ...    0.030599     0.013912\n",
       "view           0.078523   0.185383  ...    0.073630     0.033113\n",
       "grade          0.357521   0.665055  ...    0.120510    -0.085999\n",
       "sqft_above     0.480005   0.685830  ...    0.194780    -0.089391\n",
       "sqft_basement  0.296439   0.277344  ...    0.015957     0.122883\n",
       "yr_built       0.155031   0.506644  ...    0.069907    -0.245677\n",
       "yr_renovated   0.017365   0.047463  ...    0.004444    -0.026127\n",
       "lat           -0.011738   0.023346  ...   -0.086119     0.024792\n",
       "long           0.132707   0.223928  ...    0.255115    -0.085645\n",
       "sqft_living15  0.394417   0.568701  ...    0.183202    -0.062492\n",
       "sqft_lot15     0.030834   0.088313  ...    1.000000    -0.017158\n",
       "condition_5    0.026836  -0.036391  ...   -0.017158     1.000000\n",
       "\n",
       "[16 rows x 16 columns]"
      ]
     },
     "execution_count": 159,
     "metadata": {},
     "output_type": "execute_result"
    }
   ],
   "source": [
    "data_pred.corr()"
   ]
  },
  {
   "cell_type": "markdown",
   "metadata": {},
   "source": [
    "> Take a look to see how many highly correlated variables we have. I set the cut-off as .75. Where it states true leads me to believe there is high correlation."
   ]
  },
  {
   "cell_type": "code",
   "execution_count": 160,
   "metadata": {
    "scrolled": true
   },
   "outputs": [
    {
     "data": {
      "text/html": [
       "<div>\n",
       "<style scoped>\n",
       "    .dataframe tbody tr th:only-of-type {\n",
       "        vertical-align: middle;\n",
       "    }\n",
       "\n",
       "    .dataframe tbody tr th {\n",
       "        vertical-align: top;\n",
       "    }\n",
       "\n",
       "    .dataframe thead th {\n",
       "        text-align: right;\n",
       "    }\n",
       "</style>\n",
       "<table border=\"1\" class=\"dataframe\">\n",
       "  <thead>\n",
       "    <tr style=\"text-align: right;\">\n",
       "      <th></th>\n",
       "      <th>bedrooms</th>\n",
       "      <th>bathrooms</th>\n",
       "      <th>sqft_living</th>\n",
       "      <th>sqft_lot</th>\n",
       "      <th>waterfront</th>\n",
       "      <th>view</th>\n",
       "      <th>grade</th>\n",
       "      <th>sqft_above</th>\n",
       "      <th>sqft_basement</th>\n",
       "      <th>yr_built</th>\n",
       "      <th>yr_renovated</th>\n",
       "      <th>lat</th>\n",
       "      <th>long</th>\n",
       "      <th>sqft_living15</th>\n",
       "      <th>sqft_lot15</th>\n",
       "      <th>condition_5</th>\n",
       "    </tr>\n",
       "  </thead>\n",
       "  <tbody>\n",
       "    <tr>\n",
       "      <th>bedrooms</th>\n",
       "      <td>True</td>\n",
       "      <td>False</td>\n",
       "      <td>False</td>\n",
       "      <td>False</td>\n",
       "      <td>False</td>\n",
       "      <td>False</td>\n",
       "      <td>False</td>\n",
       "      <td>False</td>\n",
       "      <td>False</td>\n",
       "      <td>False</td>\n",
       "      <td>False</td>\n",
       "      <td>False</td>\n",
       "      <td>False</td>\n",
       "      <td>False</td>\n",
       "      <td>False</td>\n",
       "      <td>False</td>\n",
       "    </tr>\n",
       "    <tr>\n",
       "      <th>bathrooms</th>\n",
       "      <td>False</td>\n",
       "      <td>True</td>\n",
       "      <td>True</td>\n",
       "      <td>False</td>\n",
       "      <td>False</td>\n",
       "      <td>False</td>\n",
       "      <td>False</td>\n",
       "      <td>False</td>\n",
       "      <td>False</td>\n",
       "      <td>False</td>\n",
       "      <td>False</td>\n",
       "      <td>False</td>\n",
       "      <td>False</td>\n",
       "      <td>False</td>\n",
       "      <td>False</td>\n",
       "      <td>False</td>\n",
       "    </tr>\n",
       "    <tr>\n",
       "      <th>sqft_living</th>\n",
       "      <td>False</td>\n",
       "      <td>True</td>\n",
       "      <td>True</td>\n",
       "      <td>False</td>\n",
       "      <td>False</td>\n",
       "      <td>False</td>\n",
       "      <td>True</td>\n",
       "      <td>True</td>\n",
       "      <td>False</td>\n",
       "      <td>False</td>\n",
       "      <td>False</td>\n",
       "      <td>False</td>\n",
       "      <td>False</td>\n",
       "      <td>True</td>\n",
       "      <td>False</td>\n",
       "      <td>False</td>\n",
       "    </tr>\n",
       "    <tr>\n",
       "      <th>sqft_lot</th>\n",
       "      <td>False</td>\n",
       "      <td>False</td>\n",
       "      <td>False</td>\n",
       "      <td>True</td>\n",
       "      <td>False</td>\n",
       "      <td>False</td>\n",
       "      <td>False</td>\n",
       "      <td>False</td>\n",
       "      <td>False</td>\n",
       "      <td>False</td>\n",
       "      <td>False</td>\n",
       "      <td>False</td>\n",
       "      <td>False</td>\n",
       "      <td>False</td>\n",
       "      <td>False</td>\n",
       "      <td>False</td>\n",
       "    </tr>\n",
       "    <tr>\n",
       "      <th>waterfront</th>\n",
       "      <td>False</td>\n",
       "      <td>False</td>\n",
       "      <td>False</td>\n",
       "      <td>False</td>\n",
       "      <td>True</td>\n",
       "      <td>False</td>\n",
       "      <td>False</td>\n",
       "      <td>False</td>\n",
       "      <td>False</td>\n",
       "      <td>False</td>\n",
       "      <td>False</td>\n",
       "      <td>False</td>\n",
       "      <td>False</td>\n",
       "      <td>False</td>\n",
       "      <td>False</td>\n",
       "      <td>False</td>\n",
       "    </tr>\n",
       "    <tr>\n",
       "      <th>view</th>\n",
       "      <td>False</td>\n",
       "      <td>False</td>\n",
       "      <td>False</td>\n",
       "      <td>False</td>\n",
       "      <td>False</td>\n",
       "      <td>True</td>\n",
       "      <td>False</td>\n",
       "      <td>False</td>\n",
       "      <td>False</td>\n",
       "      <td>False</td>\n",
       "      <td>False</td>\n",
       "      <td>False</td>\n",
       "      <td>False</td>\n",
       "      <td>False</td>\n",
       "      <td>False</td>\n",
       "      <td>False</td>\n",
       "    </tr>\n",
       "    <tr>\n",
       "      <th>grade</th>\n",
       "      <td>False</td>\n",
       "      <td>False</td>\n",
       "      <td>True</td>\n",
       "      <td>False</td>\n",
       "      <td>False</td>\n",
       "      <td>False</td>\n",
       "      <td>True</td>\n",
       "      <td>True</td>\n",
       "      <td>False</td>\n",
       "      <td>False</td>\n",
       "      <td>False</td>\n",
       "      <td>False</td>\n",
       "      <td>False</td>\n",
       "      <td>False</td>\n",
       "      <td>False</td>\n",
       "      <td>False</td>\n",
       "    </tr>\n",
       "    <tr>\n",
       "      <th>sqft_above</th>\n",
       "      <td>False</td>\n",
       "      <td>False</td>\n",
       "      <td>True</td>\n",
       "      <td>False</td>\n",
       "      <td>False</td>\n",
       "      <td>False</td>\n",
       "      <td>True</td>\n",
       "      <td>True</td>\n",
       "      <td>False</td>\n",
       "      <td>False</td>\n",
       "      <td>False</td>\n",
       "      <td>False</td>\n",
       "      <td>False</td>\n",
       "      <td>False</td>\n",
       "      <td>False</td>\n",
       "      <td>False</td>\n",
       "    </tr>\n",
       "    <tr>\n",
       "      <th>sqft_basement</th>\n",
       "      <td>False</td>\n",
       "      <td>False</td>\n",
       "      <td>False</td>\n",
       "      <td>False</td>\n",
       "      <td>False</td>\n",
       "      <td>False</td>\n",
       "      <td>False</td>\n",
       "      <td>False</td>\n",
       "      <td>True</td>\n",
       "      <td>False</td>\n",
       "      <td>False</td>\n",
       "      <td>False</td>\n",
       "      <td>False</td>\n",
       "      <td>False</td>\n",
       "      <td>False</td>\n",
       "      <td>False</td>\n",
       "    </tr>\n",
       "    <tr>\n",
       "      <th>yr_built</th>\n",
       "      <td>False</td>\n",
       "      <td>False</td>\n",
       "      <td>False</td>\n",
       "      <td>False</td>\n",
       "      <td>False</td>\n",
       "      <td>False</td>\n",
       "      <td>False</td>\n",
       "      <td>False</td>\n",
       "      <td>False</td>\n",
       "      <td>True</td>\n",
       "      <td>False</td>\n",
       "      <td>False</td>\n",
       "      <td>False</td>\n",
       "      <td>False</td>\n",
       "      <td>False</td>\n",
       "      <td>False</td>\n",
       "    </tr>\n",
       "    <tr>\n",
       "      <th>yr_renovated</th>\n",
       "      <td>False</td>\n",
       "      <td>False</td>\n",
       "      <td>False</td>\n",
       "      <td>False</td>\n",
       "      <td>False</td>\n",
       "      <td>False</td>\n",
       "      <td>False</td>\n",
       "      <td>False</td>\n",
       "      <td>False</td>\n",
       "      <td>False</td>\n",
       "      <td>True</td>\n",
       "      <td>False</td>\n",
       "      <td>False</td>\n",
       "      <td>False</td>\n",
       "      <td>False</td>\n",
       "      <td>False</td>\n",
       "    </tr>\n",
       "    <tr>\n",
       "      <th>lat</th>\n",
       "      <td>False</td>\n",
       "      <td>False</td>\n",
       "      <td>False</td>\n",
       "      <td>False</td>\n",
       "      <td>False</td>\n",
       "      <td>False</td>\n",
       "      <td>False</td>\n",
       "      <td>False</td>\n",
       "      <td>False</td>\n",
       "      <td>False</td>\n",
       "      <td>False</td>\n",
       "      <td>True</td>\n",
       "      <td>False</td>\n",
       "      <td>False</td>\n",
       "      <td>False</td>\n",
       "      <td>False</td>\n",
       "    </tr>\n",
       "    <tr>\n",
       "      <th>long</th>\n",
       "      <td>False</td>\n",
       "      <td>False</td>\n",
       "      <td>False</td>\n",
       "      <td>False</td>\n",
       "      <td>False</td>\n",
       "      <td>False</td>\n",
       "      <td>False</td>\n",
       "      <td>False</td>\n",
       "      <td>False</td>\n",
       "      <td>False</td>\n",
       "      <td>False</td>\n",
       "      <td>False</td>\n",
       "      <td>True</td>\n",
       "      <td>False</td>\n",
       "      <td>False</td>\n",
       "      <td>False</td>\n",
       "    </tr>\n",
       "    <tr>\n",
       "      <th>sqft_living15</th>\n",
       "      <td>False</td>\n",
       "      <td>False</td>\n",
       "      <td>True</td>\n",
       "      <td>False</td>\n",
       "      <td>False</td>\n",
       "      <td>False</td>\n",
       "      <td>False</td>\n",
       "      <td>False</td>\n",
       "      <td>False</td>\n",
       "      <td>False</td>\n",
       "      <td>False</td>\n",
       "      <td>False</td>\n",
       "      <td>False</td>\n",
       "      <td>True</td>\n",
       "      <td>False</td>\n",
       "      <td>False</td>\n",
       "    </tr>\n",
       "    <tr>\n",
       "      <th>sqft_lot15</th>\n",
       "      <td>False</td>\n",
       "      <td>False</td>\n",
       "      <td>False</td>\n",
       "      <td>False</td>\n",
       "      <td>False</td>\n",
       "      <td>False</td>\n",
       "      <td>False</td>\n",
       "      <td>False</td>\n",
       "      <td>False</td>\n",
       "      <td>False</td>\n",
       "      <td>False</td>\n",
       "      <td>False</td>\n",
       "      <td>False</td>\n",
       "      <td>False</td>\n",
       "      <td>True</td>\n",
       "      <td>False</td>\n",
       "    </tr>\n",
       "    <tr>\n",
       "      <th>condition_5</th>\n",
       "      <td>False</td>\n",
       "      <td>False</td>\n",
       "      <td>False</td>\n",
       "      <td>False</td>\n",
       "      <td>False</td>\n",
       "      <td>False</td>\n",
       "      <td>False</td>\n",
       "      <td>False</td>\n",
       "      <td>False</td>\n",
       "      <td>False</td>\n",
       "      <td>False</td>\n",
       "      <td>False</td>\n",
       "      <td>False</td>\n",
       "      <td>False</td>\n",
       "      <td>False</td>\n",
       "      <td>True</td>\n",
       "    </tr>\n",
       "  </tbody>\n",
       "</table>\n",
       "</div>"
      ],
      "text/plain": [
       "               bedrooms  bathrooms  ...  sqft_lot15  condition_5\n",
       "bedrooms           True      False  ...       False        False\n",
       "bathrooms         False       True  ...       False        False\n",
       "sqft_living       False       True  ...       False        False\n",
       "sqft_lot          False      False  ...       False        False\n",
       "waterfront        False      False  ...       False        False\n",
       "view              False      False  ...       False        False\n",
       "grade             False      False  ...       False        False\n",
       "sqft_above        False      False  ...       False        False\n",
       "sqft_basement     False      False  ...       False        False\n",
       "yr_built          False      False  ...       False        False\n",
       "yr_renovated      False      False  ...       False        False\n",
       "lat               False      False  ...       False        False\n",
       "long              False      False  ...       False        False\n",
       "sqft_living15     False      False  ...       False        False\n",
       "sqft_lot15        False      False  ...        True        False\n",
       "condition_5       False      False  ...       False         True\n",
       "\n",
       "[16 rows x 16 columns]"
      ]
     },
     "execution_count": 160,
     "metadata": {},
     "output_type": "execute_result"
    }
   ],
   "source": [
    "abs(data_pred.corr()) > 0.75"
   ]
  },
  {
   "cell_type": "markdown",
   "metadata": {},
   "source": [
    "> Creating a heatmap to show the correlation matrix as a visualization. The lighter the number the higher the correlation."
   ]
  },
  {
   "cell_type": "code",
   "execution_count": 161,
   "metadata": {},
   "outputs": [
    {
     "name": "stdout",
     "output_type": "stream",
     "text": [
      "# packages in environment at /Users/laurenesser/opt/anaconda3/envs/learn-env:\r\n",
      "#\r\n",
      "# Name                    Version                   Build  Channel\r\n",
      "_py-xgboost-mutex         2.0                       cpu_0  \r\n",
      "absl-py                   0.7.1                    pypi_0    pypi\r\n",
      "appnope                   0.1.0            py36hf537a9a_0  \r\n",
      "asn1crypto                0.24.0                   py36_0  \r\n",
      "astor                     0.8.0                    pypi_0    pypi\r\n",
      "atomicwrites              1.3.0                    pypi_0    pypi\r\n",
      "attrs                     19.1.0                   py36_1  \r\n",
      "backcall                  0.1.0                    py36_0  \r\n",
      "beautifulsoup4            4.8.0                    py36_0  \r\n",
      "blas                      1.0                         mkl  \r\n",
      "bleach                    1.5.0                    pypi_0    pypi\r\n",
      "boto                      2.49.0                   py36_0  \r\n",
      "boto3                     1.9.234                    py_0  \r\n",
      "botocore                  1.12.234                   py_0  \r\n",
      "branca                    0.3.1                    pypi_0    pypi\r\n",
      "bz2file                   0.98                     py36_1  \r\n",
      "ca-certificates           2020.7.22                     0  \r\n",
      "cairo                     1.14.12              hc4e6be7_4  \r\n",
      "certifi                   2020.6.20                py36_0  \r\n",
      "cffi                      1.12.3           py36hb5b8e2f_0  \r\n",
      "chardet                   3.0.4                 py36_1003  \r\n",
      "cloog                     0.18.0                       10    conda-forge\r\n",
      "colorlover                0.3.0                    pypi_0    pypi\r\n",
      "convertdate               2.1.3                    pypi_0    pypi\r\n",
      "cryptography              2.7              py36ha12b0ac_0  \r\n",
      "cryptography-vectors      2.7                        py_0  \r\n",
      "cufflinks                 0.17.3                   pypi_0    pypi\r\n",
      "cycler                    0.10.0           py36hfc81398_0  \r\n",
      "cython                    0.29.13          py36h0a44026_0  \r\n",
      "decorator                 4.4.0                    py36_1  \r\n",
      "defusedxml                0.6.0                      py_0  \r\n",
      "dill                      0.3.0                    pypi_0    pypi\r\n",
      "docutils                  0.15.2                   py36_0  \r\n",
      "ecos                      2.0.7.post1              pypi_0    pypi\r\n",
      "entrypoints               0.3                      py36_0  \r\n",
      "ephem                     3.7.7.0                  pypi_0    pypi\r\n",
      "expat                     2.2.6                h0a44026_0  \r\n",
      "fake-useragent            0.1.11                   pypi_0    pypi\r\n",
      "folium                    0.9.1                    pypi_0    pypi\r\n",
      "fontconfig                2.13.0               h5d5b041_1  \r\n",
      "freetype                  2.9.1                hb4e5f40_0  \r\n",
      "fribidi                   1.0.5                h1de35cc_0  \r\n",
      "fsds                      0.2.23                   pypi_0    pypi\r\n",
      "future                    0.17.1                   pypi_0    pypi\r\n",
      "gast                      0.2.2                    pypi_0    pypi\r\n",
      "gensim                    3.7.3            py36h0a44026_0  \r\n",
      "gettext                   0.19.8.1             h15daf44_3  \r\n",
      "glib                      2.56.2               hd9629dc_0  \r\n",
      "gmp                       5.1.2                         6    conda-forge\r\n",
      "graphite2                 1.3.13               h2098e52_0  \r\n",
      "graphviz                  2.40.1               hefbbd9a_2  \r\n",
      "grpcio                    1.21.1                   pypi_0    pypi\r\n",
      "h5py                      2.9.0            py36h3134771_0  \r\n",
      "harfbuzz                  1.8.8                hb8d4a28_0  \r\n",
      "hdf5                      1.10.4               hfa1e0ec_0  \r\n",
      "holidays                  0.9.11                   pypi_0    pypi\r\n",
      "html5lib                  0.9999999                pypi_0    pypi\r\n",
      "icu                       58.2                 h0a44026_3  \r\n",
      "idna                      2.8                      py36_0  \r\n",
      "imbalanced-learn          0.4.3                    pypi_0    pypi\r\n",
      "importlib-metadata        0.17                     pypi_0    pypi\r\n",
      "intel-openmp              2019.4                      233  \r\n",
      "ipykernel                 5.1.2            py36h39e3cac_0  \r\n",
      "ipynb                     0.5.1                    pypi_0    pypi\r\n",
      "ipython                   7.8.0            py36h39e3cac_0  \r\n",
      "ipython_genutils          0.2.0                    py36_0  \r\n",
      "ipywidgets                7.5.1                      py_0    conda-forge\r\n",
      "isl                       0.12.2                        1    conda-forge\r\n",
      "jedi                      0.15.1                   py36_0  \r\n",
      "jinja2                    2.10.1                   py36_0  \r\n",
      "jmespath                  0.9.4                      py_0  \r\n",
      "joblib                    0.13.2                   py36_0  \r\n",
      "jpeg                      9b                   he5867d9_2  \r\n",
      "jsonschema                3.0.2                    py36_0  \r\n",
      "jupyter_client            5.3.3                    py36_1  \r\n",
      "jupyter_contrib_core      0.3.3                      py_2    conda-forge\r\n",
      "jupyter_contrib_nbextensions 0.5.1                    py36_0    conda-forge\r\n",
      "jupyter_core              4.5.0                    py36_0  \r",
      "\r\n",
      "jupyter_highlight_selected_word 0.2.0                 py36_1000    conda-forge\r\n",
      "jupyter_latex_envs        1.4.4                 py36_1000    conda-forge\r\n",
      "jupyter_nbextensions_configurator 0.4.1            py36h9f0ad1d_1    conda-forge\r\n",
      "keras                     2.2.4                    pypi_0    pypi\r\n",
      "keras-applications        1.0.4                    pypi_0    pypi\r\n",
      "keras-preprocessing       1.0.2                    pypi_0    pypi\r\n",
      "kiwisolver                1.1.0            py36h0a44026_0  \r\n",
      "krb5                      1.17.1               hddcf347_0  \r\n",
      "libcurl                   7.68.0               h051b688_0  \r\n",
      "libcxx                    4.0.1                hcfea43d_1  \r\n",
      "libcxxabi                 4.0.1                hcfea43d_1  \r\n",
      "libedit                   3.1.20181209         hb402a30_0  \r\n",
      "libffi                    3.2.1                h0a44026_6  \r\n",
      "libgfortran               3.0.1                h93005f0_2  \r\n",
      "libiconv                  1.15                 hdd342a3_7  \r\n",
      "libpng                    1.6.37               ha441bb4_0  \r\n",
      "libsodium                 1.0.16               h3efe00b_0  \r\n",
      "libssh2                   1.9.0                ha12b0ac_1  \r\n",
      "libtiff                   4.0.10               hcb84e12_2  \r\n",
      "libxgboost                0.90                 h0a44026_1  \r\n",
      "libxml2                   2.9.9                hf6e021a_1  \r\n",
      "libxslt                   1.1.33               h33a18ac_0  \r\n",
      "llvm-openmp               4.0.1                hcfea43d_1  \r\n",
      "lunardate                 0.2.0                    pypi_0    pypi\r\n",
      "lxml                      4.4.1            py36hef8c89e_0  \r\n",
      "markdown                  3.1.1                    pypi_0    pypi\r\n",
      "markupsafe                1.1.1            py36h1de35cc_0  \r\n",
      "matplotlib                3.1.1            py36h54f8f79_0  \r\n",
      "missingno                 0.4.1                      py_0    conda-forge/label/gcc7\r\n",
      "mistune                   0.8.4            py36h1de35cc_0  \r\n",
      "mkl                       2019.4                      233  \r\n",
      "mkl-service               2.3.0            py36hfbe908c_0  \r\n",
      "mkl_fft                   1.0.14           py36h5e564d8_0  \r\n",
      "mkl_random                1.1.0            py36ha771720_0  \r\n",
      "mongodb                   4.0.3                hccea1a4_0  \r\n",
      "more-itertools            7.0.0                    pypi_0    pypi\r\n",
      "mpc                       1.0.3                hc455b36_4  \r\n",
      "mpfr                      3.1.5                h7fa3772_1  \r\n",
      "multiprocess              0.70.8                   pypi_0    pypi\r\n",
      "nb_conda                  2.2.1                    py36_0  \r\n",
      "nb_conda_kernels          2.2.1                    py36_0  \r\n",
      "nbconvert                 5.5.0                      py_0  \r\n",
      "nbformat                  4.4.0                    py36_0  \r\n",
      "ncurses                   6.1                  h0a44026_1  \r\n",
      "networkx                  2.3                        py_0  \r\n",
      "nltk                      3.4.5                    py36_0  \r\n",
      "notebook                  5.7.8                    py36_0  \r\n",
      "numpy                     1.19.1                   pypi_0    pypi\r\n",
      "obscure                   1.0.1                    pypi_0    pypi\r\n",
      "openssl                   1.1.1g               h1de35cc_0  \r\n",
      "osqp                      0.6.1                    pypi_0    pypi\r\n",
      "packaging                 20.4                       py_0  \r\n",
      "pandas                    1.1.1                    pypi_0    pypi\r\n",
      "pandasql                  0.7.3                    pypi_0    pypi\r\n",
      "pandoc                    2.2.3.2                       0  \r\n",
      "pandocfilters             1.4.2                    py36_1  \r\n",
      "pango                     1.42.4               h060686c_0  \r\n",
      "parso                     0.5.1                      py_0  \r\n",
      "patsy                     0.5.1                    py36_0  \r\n",
      "pcre                      8.43                 h0a44026_0  \r\n",
      "pexpect                   4.7.0                    py36_0  \r\n",
      "pickleshare               0.7.5                    py36_0  \r\n",
      "pillow                    6.1.0                    pypi_0    pypi\r\n",
      "pip                       19.2.3                   py36_0  \r\n",
      "pixman                    0.38.0               h1de35cc_0  \r\n",
      "plotly                    4.1.1                      py_0  \r\n",
      "pluggy                    0.12.0                   pypi_0    pypi\r\n",
      "prometheus_client         0.7.1                      py_0  \r\n",
      "prompt_toolkit            2.0.9                    py36_0  \r\n",
      "protobuf                  3.8.0                    pypi_0    pypi\r\n",
      "ptyprocess                0.6.0                    py36_0  \r\n",
      "py                        1.8.0                    pypi_0    pypi\r\n",
      "py-xgboost                0.90             py36h0a44026_1  \r\n",
      "py4j                      0.10.7                   py36_0  \r\n",
      "pycparser                 2.19                     py36_0  \r\n",
      "pydotplus                 2.0.2                    py36_1  \r\n",
      "pygments                  2.4.2                      py_0  \r\n",
      "pymongo                   3.10.1                   pypi_0    pypi\r\n",
      "pyopenssl                 19.0.0                   py36_0  \r\n",
      "pyparsing                 2.4.2                      py_0  \r\n",
      "pyperclip                 1.8.0                    pypi_0    pypi\r\n",
      "pyrsistent                0.14.11          py36h1de35cc_0  \r\n",
      "pysocks                   1.7.1                    py36_0  \r\n",
      "pyspark                   2.4.4                      py_0  \r\n",
      "pystan                    2.17.1.0                 pypi_0    pypi\r\n",
      "pytest                    3.7.0                    pypi_0    pypi\r\n",
      "python                    3.6.9                h359304d_0  \r\n",
      "python-dateutil           2.8.0                    py36_0  \r\n",
      "python-graphviz           0.11                     pypi_0    pypi\r\n",
      "python_abi                3.6                     1_cp36m    conda-forge\r\n",
      "pytz                      2019.2                     py_0  \r\n",
      "pyyaml                    5.3.1            py36h1de35cc_0  \r\n",
      "pyzmq                     18.1.0           py36h0a44026_0  \r\n",
      "readline                  7.0                  h1de35cc_5  \r\n",
      "requests                  2.22.0                   py36_1  \r\n",
      "retrying                  1.3.3                    py36_2  \r\n",
      "s3transfer                0.2.1                    py36_0  \r\n",
      "scikit-learn              0.23.2                   pypi_0    pypi\r\n",
      "scipy                     1.3.1            py36h1410ff5_0  \r\n",
      "seaborn                   0.10.1                   pypi_0    pypi\r\n",
      "send2trash                1.5.0                    py36_0  \r\n",
      "setuptools                41.2.0                   py36_0  \r\n",
      "setuptools-git            1.2                      pypi_0    pypi\r\n",
      "simplegeneric             0.8.1                    py36_2  \r\n",
      "six                       1.12.0                   py36_0  \r\n",
      "sklearn                   0.0                      pypi_0    pypi\r\n",
      "smart_open                1.8.4                      py_0  \r\n",
      "soupsieve                 1.9.2                    py36_0  \r\n",
      "sqlalchemy                1.3.8                    pypi_0    pypi\r\n",
      "sqlite                    3.29.0               ha441bb4_0  \r\n",
      "statsmodels               0.10.1           py36h1d22016_0  \r\n",
      "tensorboard               1.6.0                    pypi_0    pypi\r\n",
      "tensorflow                1.6.0                    pypi_0    pypi\r\n",
      "termcolor                 1.1.0                    pypi_0    pypi\r\n",
      "terminado                 0.8.2                    py36_0  \r\n",
      "testpath                  0.4.2                    py36_0  \r\n",
      "threadpoolctl             2.1.0                    pypi_0    pypi\r\n",
      "tk                        8.6.8                ha441bb4_0  \r\n",
      "tornado                   6.0.3            py36h1de35cc_3  \r\n",
      "tqdm                      4.36.1                     py_0  \r\n",
      "traitlets                 4.3.2            py36h65bd3ce_0  \r\n",
      "tzlocal                   2.1                      pypi_0    pypi\r\n",
      "urllib3                   1.24.2                   py36_0  \r\n",
      "wcwidth                   0.1.7                    py36_0  \r\n",
      "webencodings              0.5.1                    py36_1  \r\n",
      "werkzeug                  0.15.4                   pypi_0    pypi\r\n",
      "wheel                     0.33.6                   py36_0  \r\n",
      "widgetsnbextension        3.5.1                    py36_0  \r\n",
      "xlrd                      1.2.0                    py36_0  \r\n",
      "xz                        5.2.4                h1de35cc_4  \r\n",
      "yaml                      0.1.7                hc338f04_2  \r\n",
      "zeromq                    4.3.1                h0a44026_3  \r\n",
      "zipp                      0.5.1                    pypi_0    pypi\r\n",
      "zlib                      1.2.11               h1de35cc_3  \r\n",
      "zstd                      1.3.7                h5bba6e5_0  \r\n"
     ]
    },
    {
     "name": "stdout",
     "output_type": "stream",
     "text": [
      "\n",
      "Note: you may need to restart the kernel to use updated packages.\n"
     ]
    }
   ],
   "source": [
    "%conda list"
   ]
  },
  {
   "cell_type": "code",
   "execution_count": 162,
   "metadata": {},
   "outputs": [
    {
     "data": {
      "image/png": "[encoded data removed]",
      "text/plain": [
       "<Figure size 2016x1440 with 2 Axes>"
      ]
     },
     "metadata": {},
     "output_type": "display_data"
    }
   ],
   "source": [
    "corr = data_pred.corr().abs()\n",
    "mask = np.zeros_like(corr, dtype=np.bool)\n",
    "mask[np.triu_indices_from(mask)] = True\n",
    "with sns.axes_style(\"white\"):\n",
    "    f, ax = plt.subplots(figsize=(28, 20))\n",
    "    ax = sns.heatmap(corr, mask=mask, annot = True, linewidths=1, \n",
    "                     square=True, cbar_kws={'shrink':0.6}, \n",
    "                     cmap=\"BuGn_r\")"
   ]
  },
  {
   "cell_type": "markdown",
   "metadata": {},
   "source": [
    "> Below I calculated multicolinarity using the module method and what was shown in class. Based on results and discussing with instructor I chose to go with vif."
   ]
  },
  {
   "cell_type": "code",
   "execution_count": 163,
   "metadata": {},
   "outputs": [],
   "source": [
    "# # save absolute value of correlation matrix as a data frame\n",
    "# # converts all values to absolute value\n",
    "# # stacks the row:column pairs into a multindex\n",
    "# # reset the index to set the multindex to seperate columns\n",
    "# # sort values. 0 is the column automatically generated by the stacking\n",
    "\n",
    "# df1 = data_pred.corr().abs().stack().reset_index().sort_values(0, ascending=False)\n",
    "\n",
    "# #zip new columns into pairs\n",
    "# df1['pairs'] = list(zip(df1.level_0, df1.level_1))\n",
    "\n",
    "# #set index to pairs\n",
    "# df1.set_index(['pairs'], inplace=True)\n",
    "\n",
    "# #drop level columns\n",
    "# df1.drop(columns=['level_1', 'level_0'], inplace=True)\n",
    "\n",
    "# #rename from 0 to cc\n",
    "# df1.columns = ['cc']\n",
    "# df1.drop_duplicates(inplace=True)"
   ]
  },
  {
   "cell_type": "code",
   "execution_count": 164,
   "metadata": {},
   "outputs": [],
   "source": [
    "#df1[(df1.cc>.75) & (df1.cc< 1)]"
   ]
  },
  {
   "cell_type": "markdown",
   "metadata": {},
   "source": [
    "> **Observation from Module Method**:\n",
    "- sqft_living has high correlation with sqft_above, grade, sqft_living15, and bathrooms.\n",
    "- Condition 3 and 4\n",
    "- Grade with sqft_above\n",
    "\n",
    "\n",
    "\n",
    ">- Went through and dropped columns and the multicollinearity did not change. Readding to data set."
   ]
  },
  {
   "cell_type": "markdown",
   "metadata": {},
   "source": [
    "### Testing with VIF"
   ]
  },
  {
   "cell_type": "code",
   "execution_count": 165,
   "metadata": {},
   "outputs": [],
   "source": [
    "from statsmodels.stats.outliers_influence import variance_inflation_factor"
   ]
  },
  {
   "cell_type": "code",
   "execution_count": 166,
   "metadata": {},
   "outputs": [],
   "source": [
    "df_ohe = df_ohe.drop('date', axis=1)"
   ]
  },
  {
   "cell_type": "code",
   "execution_count": 167,
   "metadata": {},
   "outputs": [
    {
     "data": {
      "text/plain": [
       "(21357, 17)"
      ]
     },
     "execution_count": 167,
     "metadata": {},
     "output_type": "execute_result"
    }
   ],
   "source": [
    "X = df_ohe.drop('price', axis=1)\n",
    "X = sm.add_constant(X)\n",
    "X.shape"
   ]
  },
  {
   "cell_type": "code",
   "execution_count": 168,
   "metadata": {},
   "outputs": [],
   "source": [
    "vif = [variance_inflation_factor(X.values, i) for i in range(X.shape[1])]"
   ]
  },
  {
   "cell_type": "code",
   "execution_count": 169,
   "metadata": {},
   "outputs": [
    {
     "data": {
      "text/plain": [
       "const            1.281062e+06\n",
       "bedrooms         1.646427e+00\n",
       "bathrooms        3.137514e+00\n",
       "sqft_living      1.443111e+02\n",
       "sqft_lot         2.089185e+00\n",
       "waterfront       1.180119e+00\n",
       "view             1.395877e+00\n",
       "grade            3.383545e+00\n",
       "sqft_above       1.167018e+02\n",
       "sqft_basement    3.265913e+01\n",
       "yr_built         2.122447e+00\n",
       "yr_renovated     1.099335e+00\n",
       "lat              1.102710e+00\n",
       "long             1.468556e+00\n",
       "sqft_living15    2.904179e+00\n",
       "sqft_lot15       2.120874e+00\n",
       "condition_5      1.095858e+00\n",
       "dtype: float64"
      ]
     },
     "execution_count": 169,
     "metadata": {},
     "output_type": "execute_result"
    }
   ],
   "source": [
    "vif_results = pd.Series(dict(zip(X.columns, vif)))\n",
    "vif_results"
   ]
  },
  {
   "cell_type": "code",
   "execution_count": 170,
   "metadata": {},
   "outputs": [
    {
     "data": {
      "text/plain": [
       "['sqft_living', 'sqft_above', 'sqft_basement']"
      ]
     },
     "execution_count": 170,
     "metadata": {},
     "output_type": "execute_result"
    }
   ],
   "source": [
    "threshold = 6\n",
    "bad_vif = list(vif_results[vif_results>threshold].index)\n",
    "if 'const' in bad_vif:\n",
    "    bad_vif.remove('const') \n",
    "bad_vif"
   ]
  },
  {
   "cell_type": "code",
   "execution_count": 171,
   "metadata": {},
   "outputs": [],
   "source": [
    "for col in bad_vif:\n",
    "    if col in df_ohe.columns:\n",
    "        df_ohe.drop(columns=col, inplace = True)"
   ]
  },
  {
   "cell_type": "code",
   "execution_count": 172,
   "metadata": {},
   "outputs": [
    {
     "data": {
      "text/plain": [
       "'bedrooms+bathrooms+sqft_lot+waterfront+view+grade+yr_built+yr_renovated+lat+long+sqft_living15+sqft_lot15+condition_5'"
      ]
     },
     "execution_count": 172,
     "metadata": {},
     "output_type": "execute_result"
    }
   ],
   "source": [
    "features = '+'.join(df_ohe.drop(columns= 'price').columns)\n",
    "features"
   ]
  },
  {
   "cell_type": "code",
   "execution_count": 173,
   "metadata": {},
   "outputs": [
    {
     "data": {
      "text/html": [
       "<table class=\"simpletable\">\n",
       "<caption>OLS Regression Results</caption>\n",
       "<tr>\n",
       "  <th>Dep. Variable:</th>          <td>price</td>      <th>  R-squared:         </th>  <td>   0.659</td>  \n",
       "</tr>\n",
       "<tr>\n",
       "  <th>Model:</th>                   <td>OLS</td>       <th>  Adj. R-squared:    </th>  <td>   0.659</td>  \n",
       "</tr>\n",
       "<tr>\n",
       "  <th>Method:</th>             <td>Least Squares</td>  <th>  F-statistic:       </th>  <td>   3174.</td>  \n",
       "</tr>\n",
       "<tr>\n",
       "  <th>Date:</th>             <td>Fri, 28 Aug 2020</td> <th>  Prob (F-statistic):</th>   <td>  0.00</td>   \n",
       "</tr>\n",
       "<tr>\n",
       "  <th>Time:</th>                 <td>15:18:42</td>     <th>  Log-Likelihood:    </th> <td>-2.9244e+05</td>\n",
       "</tr>\n",
       "<tr>\n",
       "  <th>No. Observations:</th>      <td> 21357</td>      <th>  AIC:               </th>  <td>5.849e+05</td> \n",
       "</tr>\n",
       "<tr>\n",
       "  <th>Df Residuals:</th>          <td> 21343</td>      <th>  BIC:               </th>  <td>5.850e+05</td> \n",
       "</tr>\n",
       "<tr>\n",
       "  <th>Df Model:</th>              <td>    13</td>      <th>                     </th>      <td> </td>     \n",
       "</tr>\n",
       "<tr>\n",
       "  <th>Covariance Type:</th>      <td>nonrobust</td>    <th>                     </th>      <td> </td>     \n",
       "</tr>\n",
       "</table>\n",
       "<table class=\"simpletable\">\n",
       "<tr>\n",
       "        <td></td>           <th>coef</th>     <th>std err</th>      <th>t</th>      <th>P>|t|</th>  <th>[0.025</th>    <th>0.975]</th>  \n",
       "</tr>\n",
       "<tr>\n",
       "  <th>Intercept</th>     <td>-2.957e+07</td> <td> 1.64e+06</td> <td>  -18.080</td> <td> 0.000</td> <td>-3.28e+07</td> <td>-2.64e+07</td>\n",
       "</tr>\n",
       "<tr>\n",
       "  <th>bedrooms</th>      <td>-1337.6038</td> <td> 1906.174</td> <td>   -0.702</td> <td> 0.483</td> <td>-5073.848</td> <td> 2398.641</td>\n",
       "</tr>\n",
       "<tr>\n",
       "  <th>bathrooms</th>     <td> 1.082e+05</td> <td> 3051.423</td> <td>   35.443</td> <td> 0.000</td> <td> 1.02e+05</td> <td> 1.14e+05</td>\n",
       "</tr>\n",
       "<tr>\n",
       "  <th>sqft_lot</th>      <td>    0.2538</td> <td>    0.051</td> <td>    4.981</td> <td> 0.000</td> <td>    0.154</td> <td>    0.354</td>\n",
       "</tr>\n",
       "<tr>\n",
       "  <th>waterfront</th>    <td> 6.384e+05</td> <td> 1.94e+04</td> <td>   32.979</td> <td> 0.000</td> <td>    6e+05</td> <td> 6.76e+05</td>\n",
       "</tr>\n",
       "<tr>\n",
       "  <th>view</th>          <td> 5.538e+04</td> <td> 2222.128</td> <td>   24.924</td> <td> 0.000</td> <td>  5.1e+04</td> <td> 5.97e+04</td>\n",
       "</tr>\n",
       "<tr>\n",
       "  <th>grade</th>         <td> 1.415e+05</td> <td> 2092.413</td> <td>   67.612</td> <td> 0.000</td> <td> 1.37e+05</td> <td> 1.46e+05</td>\n",
       "</tr>\n",
       "<tr>\n",
       "  <th>yr_built</th>      <td>-3166.8789</td> <td>   70.825</td> <td>  -44.714</td> <td> 0.000</td> <td>-3305.701</td> <td>-3028.057</td>\n",
       "</tr>\n",
       "<tr>\n",
       "  <th>yr_renovated</th>  <td>   21.8499</td> <td>    4.210</td> <td>    5.190</td> <td> 0.000</td> <td>   13.598</td> <td>   30.102</td>\n",
       "</tr>\n",
       "<tr>\n",
       "  <th>lat</th>           <td> 5.326e+05</td> <td> 1.11e+04</td> <td>   48.124</td> <td> 0.000</td> <td> 5.11e+05</td> <td> 5.54e+05</td>\n",
       "</tr>\n",
       "<tr>\n",
       "  <th>long</th>          <td>-7.777e+04</td> <td> 1.25e+04</td> <td>   -6.246</td> <td> 0.000</td> <td>-1.02e+05</td> <td>-5.34e+04</td>\n",
       "</tr>\n",
       "<tr>\n",
       "  <th>sqft_living15</th> <td>   93.4128</td> <td>    3.353</td> <td>   27.856</td> <td> 0.000</td> <td>   86.840</td> <td>   99.986</td>\n",
       "</tr>\n",
       "<tr>\n",
       "  <th>sqft_lot15</th>    <td>   -0.1852</td> <td>    0.078</td> <td>   -2.375</td> <td> 0.018</td> <td>   -0.338</td> <td>   -0.032</td>\n",
       "</tr>\n",
       "<tr>\n",
       "  <th>condition_5</th>   <td> 5.403e+04</td> <td> 5680.631</td> <td>    9.511</td> <td> 0.000</td> <td> 4.29e+04</td> <td> 6.52e+04</td>\n",
       "</tr>\n",
       "</table>\n",
       "<table class=\"simpletable\">\n",
       "<tr>\n",
       "  <th>Omnibus:</th>       <td>20934.870</td> <th>  Durbin-Watson:     </th>  <td>   1.991</td>  \n",
       "</tr>\n",
       "<tr>\n",
       "  <th>Prob(Omnibus):</th>  <td> 0.000</td>   <th>  Jarque-Bera (JB):  </th> <td>3417342.454</td>\n",
       "</tr>\n",
       "<tr>\n",
       "  <th>Skew:</th>           <td> 4.376</td>   <th>  Prob(JB):          </th>  <td>    0.00</td>  \n",
       "</tr>\n",
       "<tr>\n",
       "  <th>Kurtosis:</th>       <td>64.349</td>   <th>  Cond. No.          </th>  <td>5.65e+07</td>  \n",
       "</tr>\n",
       "</table><br/><br/>Warnings:<br/>[1] Standard Errors assume that the covariance matrix of the errors is correctly specified.<br/>[2] The condition number is large, 5.65e+07. This might indicate that there are<br/>strong multicollinearity or other numerical problems."
      ],
      "text/plain": [
       "<class 'statsmodels.iolib.summary.Summary'>\n",
       "\"\"\"\n",
       "                            OLS Regression Results                            \n",
       "==============================================================================\n",
       "Dep. Variable:                  price   R-squared:                       0.659\n",
       "Model:                            OLS   Adj. R-squared:                  0.659\n",
       "Method:                 Least Squares   F-statistic:                     3174.\n",
       "Date:                Fri, 28 Aug 2020   Prob (F-statistic):               0.00\n",
       "Time:                        15:18:42   Log-Likelihood:            -2.9244e+05\n",
       "No. Observations:               21357   AIC:                         5.849e+05\n",
       "Df Residuals:                   21343   BIC:                         5.850e+05\n",
       "Df Model:                          13                                         \n",
       "Covariance Type:            nonrobust                                         \n",
       "=================================================================================\n",
       "                    coef    std err          t      P>|t|      [0.025      0.975]\n",
       "---------------------------------------------------------------------------------\n",
       "Intercept     -2.957e+07   1.64e+06    -18.080      0.000   -3.28e+07   -2.64e+07\n",
       "bedrooms      -1337.6038   1906.174     -0.702      0.483   -5073.848    2398.641\n",
       "bathrooms      1.082e+05   3051.423     35.443      0.000    1.02e+05    1.14e+05\n",
       "sqft_lot          0.2538      0.051      4.981      0.000       0.154       0.354\n",
       "waterfront     6.384e+05   1.94e+04     32.979      0.000       6e+05    6.76e+05\n",
       "view           5.538e+04   2222.128     24.924      0.000     5.1e+04    5.97e+04\n",
       "grade          1.415e+05   2092.413     67.612      0.000    1.37e+05    1.46e+05\n",
       "yr_built      -3166.8789     70.825    -44.714      0.000   -3305.701   -3028.057\n",
       "yr_renovated     21.8499      4.210      5.190      0.000      13.598      30.102\n",
       "lat            5.326e+05   1.11e+04     48.124      0.000    5.11e+05    5.54e+05\n",
       "long          -7.777e+04   1.25e+04     -6.246      0.000   -1.02e+05   -5.34e+04\n",
       "sqft_living15    93.4128      3.353     27.856      0.000      86.840      99.986\n",
       "sqft_lot15       -0.1852      0.078     -2.375      0.018      -0.338      -0.032\n",
       "condition_5    5.403e+04   5680.631      9.511      0.000    4.29e+04    6.52e+04\n",
       "==============================================================================\n",
       "Omnibus:                    20934.870   Durbin-Watson:                   1.991\n",
       "Prob(Omnibus):                  0.000   Jarque-Bera (JB):          3417342.454\n",
       "Skew:                           4.376   Prob(JB):                         0.00\n",
       "Kurtosis:                      64.349   Cond. No.                     5.65e+07\n",
       "==============================================================================\n",
       "\n",
       "Warnings:\n",
       "[1] Standard Errors assume that the covariance matrix of the errors is correctly specified.\n",
       "[2] The condition number is large, 5.65e+07. This might indicate that there are\n",
       "strong multicollinearity or other numerical problems.\n",
       "\"\"\""
      ]
     },
     "execution_count": 173,
     "metadata": {},
     "output_type": "execute_result"
    }
   ],
   "source": [
    "formula = target + '~' + features\n",
    "model = smf.ols(formula, df_ohe).fit()\n",
    "model.summary()"
   ]
  },
  {
   "cell_type": "markdown",
   "metadata": {},
   "source": [
    "> **Observations**:\n",
    "- R-squared dropped to .764\n",
    "- P-values sqft_lot15 over, zipcode_98014, 98070\n",
    "- Multicolinearity dropped to 2.98e+07"
   ]
  },
  {
   "cell_type": "code",
   "execution_count": 174,
   "metadata": {},
   "outputs": [
    {
     "data": {
      "image/png": "[encoded data removed]",
      "text/plain": [
       "<Figure size 720x432 with 2 Axes>"
      ]
     },
     "metadata": {},
     "output_type": "display_data"
    }
   ],
   "source": [
    "create_visuals(df_ohe[target])"
   ]
  },
  {
   "cell_type": "code",
   "execution_count": 175,
   "metadata": {},
   "outputs": [],
   "source": [
    "def p_val_removal(df):\n",
    "    p_val = round(model.pvalues.sort_values(ascending=True), 3)\n",
    "    p_removal = list(p_val[p_val > .05].index)\n",
    "    len(p_removal)/len(df_ohe.columns)\n",
    "    for col in p_removal:\n",
    "        if col in df.columns:\n",
    "            df.drop(columns=col, inplace = True)"
   ]
  },
  {
   "cell_type": "code",
   "execution_count": 176,
   "metadata": {},
   "outputs": [],
   "source": [
    "p_val_removal(df_ohe)"
   ]
  },
  {
   "cell_type": "code",
   "execution_count": 177,
   "metadata": {
    "scrolled": true
   },
   "outputs": [
    {
     "data": {
      "text/html": [
       "<div>\n",
       "<style scoped>\n",
       "    .dataframe tbody tr th:only-of-type {\n",
       "        vertical-align: middle;\n",
       "    }\n",
       "\n",
       "    .dataframe tbody tr th {\n",
       "        vertical-align: top;\n",
       "    }\n",
       "\n",
       "    .dataframe thead th {\n",
       "        text-align: right;\n",
       "    }\n",
       "</style>\n",
       "<table border=\"1\" class=\"dataframe\">\n",
       "  <thead>\n",
       "    <tr style=\"text-align: right;\">\n",
       "      <th></th>\n",
       "      <th>price</th>\n",
       "      <th>bathrooms</th>\n",
       "      <th>sqft_lot</th>\n",
       "      <th>waterfront</th>\n",
       "      <th>view</th>\n",
       "      <th>grade</th>\n",
       "      <th>yr_built</th>\n",
       "      <th>yr_renovated</th>\n",
       "      <th>lat</th>\n",
       "      <th>long</th>\n",
       "      <th>sqft_living15</th>\n",
       "      <th>sqft_lot15</th>\n",
       "      <th>condition_5</th>\n",
       "    </tr>\n",
       "  </thead>\n",
       "  <tbody>\n",
       "    <tr>\n",
       "      <th>0</th>\n",
       "      <td>221900.0</td>\n",
       "      <td>1.00</td>\n",
       "      <td>5650</td>\n",
       "      <td>0.0</td>\n",
       "      <td>0.0</td>\n",
       "      <td>7</td>\n",
       "      <td>1955</td>\n",
       "      <td>0.0</td>\n",
       "      <td>47.5112</td>\n",
       "      <td>-122.257</td>\n",
       "      <td>1340</td>\n",
       "      <td>5650</td>\n",
       "      <td>0</td>\n",
       "    </tr>\n",
       "    <tr>\n",
       "      <th>1</th>\n",
       "      <td>538000.0</td>\n",
       "      <td>2.25</td>\n",
       "      <td>7242</td>\n",
       "      <td>0.0</td>\n",
       "      <td>0.0</td>\n",
       "      <td>7</td>\n",
       "      <td>1951</td>\n",
       "      <td>1991.0</td>\n",
       "      <td>47.7210</td>\n",
       "      <td>-122.319</td>\n",
       "      <td>1690</td>\n",
       "      <td>7639</td>\n",
       "      <td>0</td>\n",
       "    </tr>\n",
       "    <tr>\n",
       "      <th>2</th>\n",
       "      <td>180000.0</td>\n",
       "      <td>1.00</td>\n",
       "      <td>10000</td>\n",
       "      <td>0.0</td>\n",
       "      <td>0.0</td>\n",
       "      <td>6</td>\n",
       "      <td>1933</td>\n",
       "      <td>0.0</td>\n",
       "      <td>47.7379</td>\n",
       "      <td>-122.233</td>\n",
       "      <td>2720</td>\n",
       "      <td>8062</td>\n",
       "      <td>0</td>\n",
       "    </tr>\n",
       "    <tr>\n",
       "      <th>3</th>\n",
       "      <td>604000.0</td>\n",
       "      <td>3.00</td>\n",
       "      <td>5000</td>\n",
       "      <td>0.0</td>\n",
       "      <td>0.0</td>\n",
       "      <td>7</td>\n",
       "      <td>1965</td>\n",
       "      <td>0.0</td>\n",
       "      <td>47.5208</td>\n",
       "      <td>-122.393</td>\n",
       "      <td>1360</td>\n",
       "      <td>5000</td>\n",
       "      <td>1</td>\n",
       "    </tr>\n",
       "    <tr>\n",
       "      <th>4</th>\n",
       "      <td>510000.0</td>\n",
       "      <td>2.00</td>\n",
       "      <td>8080</td>\n",
       "      <td>0.0</td>\n",
       "      <td>0.0</td>\n",
       "      <td>8</td>\n",
       "      <td>1987</td>\n",
       "      <td>0.0</td>\n",
       "      <td>47.6168</td>\n",
       "      <td>-122.045</td>\n",
       "      <td>1800</td>\n",
       "      <td>7503</td>\n",
       "      <td>0</td>\n",
       "    </tr>\n",
       "  </tbody>\n",
       "</table>\n",
       "</div>"
      ],
      "text/plain": [
       "      price  bathrooms  sqft_lot  ...  sqft_living15  sqft_lot15  condition_5\n",
       "0  221900.0       1.00      5650  ...           1340        5650            0\n",
       "1  538000.0       2.25      7242  ...           1690        7639            0\n",
       "2  180000.0       1.00     10000  ...           2720        8062            0\n",
       "3  604000.0       3.00      5000  ...           1360        5000            1\n",
       "4  510000.0       2.00      8080  ...           1800        7503            0\n",
       "\n",
       "[5 rows x 13 columns]"
      ]
     },
     "execution_count": 177,
     "metadata": {},
     "output_type": "execute_result"
    }
   ],
   "source": [
    "df_ohe.head()"
   ]
  },
  {
   "cell_type": "code",
   "execution_count": 178,
   "metadata": {},
   "outputs": [],
   "source": [
    "features = '+'.join(df_ohe.drop(columns='price').columns)"
   ]
  },
  {
   "cell_type": "code",
   "execution_count": 179,
   "metadata": {
    "scrolled": true
   },
   "outputs": [
    {
     "data": {
      "text/html": [
       "<table class=\"simpletable\">\n",
       "<caption>OLS Regression Results</caption>\n",
       "<tr>\n",
       "  <th>Dep. Variable:</th>          <td>price</td>      <th>  R-squared:         </th>  <td>   0.659</td>  \n",
       "</tr>\n",
       "<tr>\n",
       "  <th>Model:</th>                   <td>OLS</td>       <th>  Adj. R-squared:    </th>  <td>   0.659</td>  \n",
       "</tr>\n",
       "<tr>\n",
       "  <th>Method:</th>             <td>Least Squares</td>  <th>  F-statistic:       </th>  <td>   3439.</td>  \n",
       "</tr>\n",
       "<tr>\n",
       "  <th>Date:</th>             <td>Fri, 28 Aug 2020</td> <th>  Prob (F-statistic):</th>   <td>  0.00</td>   \n",
       "</tr>\n",
       "<tr>\n",
       "  <th>Time:</th>                 <td>15:18:44</td>     <th>  Log-Likelihood:    </th> <td>-2.9244e+05</td>\n",
       "</tr>\n",
       "<tr>\n",
       "  <th>No. Observations:</th>      <td> 21357</td>      <th>  AIC:               </th>  <td>5.849e+05</td> \n",
       "</tr>\n",
       "<tr>\n",
       "  <th>Df Residuals:</th>          <td> 21344</td>      <th>  BIC:               </th>  <td>5.850e+05</td> \n",
       "</tr>\n",
       "<tr>\n",
       "  <th>Df Model:</th>              <td>    12</td>      <th>                     </th>      <td> </td>     \n",
       "</tr>\n",
       "<tr>\n",
       "  <th>Covariance Type:</th>      <td>nonrobust</td>    <th>                     </th>      <td> </td>     \n",
       "</tr>\n",
       "</table>\n",
       "<table class=\"simpletable\">\n",
       "<tr>\n",
       "        <td></td>           <th>coef</th>     <th>std err</th>      <th>t</th>      <th>P>|t|</th>  <th>[0.025</th>    <th>0.975]</th>  \n",
       "</tr>\n",
       "<tr>\n",
       "  <th>Intercept</th>     <td>-2.965e+07</td> <td> 1.63e+06</td> <td>  -18.164</td> <td> 0.000</td> <td>-3.28e+07</td> <td>-2.64e+07</td>\n",
       "</tr>\n",
       "<tr>\n",
       "  <th>bathrooms</th>     <td> 1.073e+05</td> <td> 2795.574</td> <td>   38.380</td> <td> 0.000</td> <td> 1.02e+05</td> <td> 1.13e+05</td>\n",
       "</tr>\n",
       "<tr>\n",
       "  <th>sqft_lot</th>      <td>    0.2541</td> <td>    0.051</td> <td>    4.988</td> <td> 0.000</td> <td>    0.154</td> <td>    0.354</td>\n",
       "</tr>\n",
       "<tr>\n",
       "  <th>waterfront</th>    <td> 6.388e+05</td> <td> 1.93e+04</td> <td>   33.018</td> <td> 0.000</td> <td> 6.01e+05</td> <td> 6.77e+05</td>\n",
       "</tr>\n",
       "<tr>\n",
       "  <th>view</th>          <td> 5.548e+04</td> <td> 2217.957</td> <td>   25.014</td> <td> 0.000</td> <td> 5.11e+04</td> <td> 5.98e+04</td>\n",
       "</tr>\n",
       "<tr>\n",
       "  <th>grade</th>         <td> 1.415e+05</td> <td> 2092.154</td> <td>   67.631</td> <td> 0.000</td> <td> 1.37e+05</td> <td> 1.46e+05</td>\n",
       "</tr>\n",
       "<tr>\n",
       "  <th>yr_built</th>      <td>-3158.7652</td> <td>   69.874</td> <td>  -45.207</td> <td> 0.000</td> <td>-3295.723</td> <td>-3021.807</td>\n",
       "</tr>\n",
       "<tr>\n",
       "  <th>yr_renovated</th>  <td>   21.9697</td> <td>    4.206</td> <td>    5.223</td> <td> 0.000</td> <td>   13.725</td> <td>   30.214</td>\n",
       "</tr>\n",
       "<tr>\n",
       "  <th>lat</th>           <td> 5.331e+05</td> <td>  1.1e+04</td> <td>   48.282</td> <td> 0.000</td> <td> 5.11e+05</td> <td> 5.55e+05</td>\n",
       "</tr>\n",
       "<tr>\n",
       "  <th>long</th>          <td>-7.803e+04</td> <td> 1.24e+04</td> <td>   -6.269</td> <td> 0.000</td> <td>-1.02e+05</td> <td>-5.36e+04</td>\n",
       "</tr>\n",
       "<tr>\n",
       "  <th>sqft_living15</th> <td>   93.0709</td> <td>    3.318</td> <td>   28.052</td> <td> 0.000</td> <td>   86.568</td> <td>   99.574</td>\n",
       "</tr>\n",
       "<tr>\n",
       "  <th>sqft_lot15</th>    <td>   -0.1836</td> <td>    0.078</td> <td>   -2.356</td> <td> 0.018</td> <td>   -0.336</td> <td>   -0.031</td>\n",
       "</tr>\n",
       "<tr>\n",
       "  <th>condition_5</th>   <td> 5.397e+04</td> <td> 5679.867</td> <td>    9.502</td> <td> 0.000</td> <td> 4.28e+04</td> <td> 6.51e+04</td>\n",
       "</tr>\n",
       "</table>\n",
       "<table class=\"simpletable\">\n",
       "<tr>\n",
       "  <th>Omnibus:</th>       <td>20942.637</td> <th>  Durbin-Watson:     </th>  <td>   1.991</td>  \n",
       "</tr>\n",
       "<tr>\n",
       "  <th>Prob(Omnibus):</th>  <td> 0.000</td>   <th>  Jarque-Bera (JB):  </th> <td>3422880.192</td>\n",
       "</tr>\n",
       "<tr>\n",
       "  <th>Skew:</th>           <td> 4.379</td>   <th>  Prob(JB):          </th>  <td>    0.00</td>  \n",
       "</tr>\n",
       "<tr>\n",
       "  <th>Kurtosis:</th>       <td>64.399</td>   <th>  Cond. No.          </th>  <td>5.64e+07</td>  \n",
       "</tr>\n",
       "</table><br/><br/>Warnings:<br/>[1] Standard Errors assume that the covariance matrix of the errors is correctly specified.<br/>[2] The condition number is large, 5.64e+07. This might indicate that there are<br/>strong multicollinearity or other numerical problems."
      ],
      "text/plain": [
       "<class 'statsmodels.iolib.summary.Summary'>\n",
       "\"\"\"\n",
       "                            OLS Regression Results                            \n",
       "==============================================================================\n",
       "Dep. Variable:                  price   R-squared:                       0.659\n",
       "Model:                            OLS   Adj. R-squared:                  0.659\n",
       "Method:                 Least Squares   F-statistic:                     3439.\n",
       "Date:                Fri, 28 Aug 2020   Prob (F-statistic):               0.00\n",
       "Time:                        15:18:44   Log-Likelihood:            -2.9244e+05\n",
       "No. Observations:               21357   AIC:                         5.849e+05\n",
       "Df Residuals:                   21344   BIC:                         5.850e+05\n",
       "Df Model:                          12                                         \n",
       "Covariance Type:            nonrobust                                         \n",
       "=================================================================================\n",
       "                    coef    std err          t      P>|t|      [0.025      0.975]\n",
       "---------------------------------------------------------------------------------\n",
       "Intercept     -2.965e+07   1.63e+06    -18.164      0.000   -3.28e+07   -2.64e+07\n",
       "bathrooms      1.073e+05   2795.574     38.380      0.000    1.02e+05    1.13e+05\n",
       "sqft_lot          0.2541      0.051      4.988      0.000       0.154       0.354\n",
       "waterfront     6.388e+05   1.93e+04     33.018      0.000    6.01e+05    6.77e+05\n",
       "view           5.548e+04   2217.957     25.014      0.000    5.11e+04    5.98e+04\n",
       "grade          1.415e+05   2092.154     67.631      0.000    1.37e+05    1.46e+05\n",
       "yr_built      -3158.7652     69.874    -45.207      0.000   -3295.723   -3021.807\n",
       "yr_renovated     21.9697      4.206      5.223      0.000      13.725      30.214\n",
       "lat            5.331e+05    1.1e+04     48.282      0.000    5.11e+05    5.55e+05\n",
       "long          -7.803e+04   1.24e+04     -6.269      0.000   -1.02e+05   -5.36e+04\n",
       "sqft_living15    93.0709      3.318     28.052      0.000      86.568      99.574\n",
       "sqft_lot15       -0.1836      0.078     -2.356      0.018      -0.336      -0.031\n",
       "condition_5    5.397e+04   5679.867      9.502      0.000    4.28e+04    6.51e+04\n",
       "==============================================================================\n",
       "Omnibus:                    20942.637   Durbin-Watson:                   1.991\n",
       "Prob(Omnibus):                  0.000   Jarque-Bera (JB):          3422880.192\n",
       "Skew:                           4.379   Prob(JB):                         0.00\n",
       "Kurtosis:                      64.399   Cond. No.                     5.64e+07\n",
       "==============================================================================\n",
       "\n",
       "Warnings:\n",
       "[1] Standard Errors assume that the covariance matrix of the errors is correctly specified.\n",
       "[2] The condition number is large, 5.64e+07. This might indicate that there are\n",
       "strong multicollinearity or other numerical problems.\n",
       "\"\"\""
      ]
     },
     "execution_count": 179,
     "metadata": {},
     "output_type": "execute_result"
    }
   ],
   "source": [
    "formula = target + '~' + features\n",
    "model = smf.ols(formula, df_ohe).fit()\n",
    "model.summary()"
   ]
  },
  {
   "cell_type": "markdown",
   "metadata": {},
   "source": [
    "> **Observations**:\n",
    "- R-squared still .764\n",
    "- P-values  fixed\n",
    "- Multicolinearity dropped to 2.56e+07"
   ]
  },
  {
   "cell_type": "code",
   "execution_count": 180,
   "metadata": {},
   "outputs": [
    {
     "data": {
      "image/png": "[encoded data removed]",
      "text/plain": [
       "<Figure size 720x432 with 2 Axes>"
      ]
     },
     "metadata": {},
     "output_type": "display_data"
    }
   ],
   "source": [
    "create_visuals(df_ohe[target])"
   ]
  },
  {
   "cell_type": "markdown",
   "metadata": {},
   "source": [
    "## Question: Do outliers have an impact on my model?"
   ]
  },
  {
   "cell_type": "markdown",
   "metadata": {},
   "source": [
    "### SCRUB: Check for normality and outliers"
   ]
  },
  {
   "cell_type": "code",
   "execution_count": 181,
   "metadata": {},
   "outputs": [
    {
     "data": {
      "image/png": "[encoded data removed]",
      "text/plain": [
       "<Figure size 864x864 with 16 Axes>"
      ]
     },
     "metadata": {},
     "output_type": "display_data"
    }
   ],
   "source": [
    "df_ohe.hist(figsize=(12,12));"
   ]
  },
  {
   "cell_type": "markdown",
   "metadata": {},
   "source": [
    "### Using Z-score"
   ]
  },
  {
   "cell_type": "code",
   "execution_count": 182,
   "metadata": {},
   "outputs": [],
   "source": [
    "import scipy.stats as stats"
   ]
  },
  {
   "cell_type": "code",
   "execution_count": 183,
   "metadata": {
    "scrolled": true
   },
   "outputs": [],
   "source": [
    "from scipy.stats import zscore\n",
    "#convert to z-score\n",
    "df_ohe_z = df_ohe.apply(zscore)"
   ]
  },
  {
   "cell_type": "code",
   "execution_count": 184,
   "metadata": {
    "scrolled": true
   },
   "outputs": [
    {
     "data": {
      "text/html": [
       "<div>\n",
       "<style scoped>\n",
       "    .dataframe tbody tr th:only-of-type {\n",
       "        vertical-align: middle;\n",
       "    }\n",
       "\n",
       "    .dataframe tbody tr th {\n",
       "        vertical-align: top;\n",
       "    }\n",
       "\n",
       "    .dataframe thead th {\n",
       "        text-align: right;\n",
       "    }\n",
       "</style>\n",
       "<table border=\"1\" class=\"dataframe\">\n",
       "  <thead>\n",
       "    <tr style=\"text-align: right;\">\n",
       "      <th></th>\n",
       "      <th>price</th>\n",
       "      <th>bathrooms</th>\n",
       "      <th>sqft_lot</th>\n",
       "      <th>waterfront</th>\n",
       "      <th>view</th>\n",
       "      <th>grade</th>\n",
       "      <th>yr_built</th>\n",
       "      <th>yr_renovated</th>\n",
       "      <th>lat</th>\n",
       "      <th>long</th>\n",
       "      <th>sqft_living15</th>\n",
       "      <th>sqft_lot15</th>\n",
       "      <th>condition_5</th>\n",
       "    </tr>\n",
       "  </thead>\n",
       "  <tbody>\n",
       "    <tr>\n",
       "      <th>0</th>\n",
       "      <td>0.869050</td>\n",
       "      <td>1.455549</td>\n",
       "      <td>0.228188</td>\n",
       "      <td>0.082679</td>\n",
       "      <td>0.306191</td>\n",
       "      <td>0.565412</td>\n",
       "      <td>0.547716</td>\n",
       "      <td>0.189315</td>\n",
       "      <td>0.354245</td>\n",
       "      <td>0.307185</td>\n",
       "      <td>0.945513</td>\n",
       "      <td>0.260502</td>\n",
       "      <td>0.292480</td>\n",
       "    </tr>\n",
       "    <tr>\n",
       "      <th>1</th>\n",
       "      <td>0.006819</td>\n",
       "      <td>0.171385</td>\n",
       "      <td>0.189824</td>\n",
       "      <td>0.082679</td>\n",
       "      <td>0.306191</td>\n",
       "      <td>0.565412</td>\n",
       "      <td>0.683829</td>\n",
       "      <td>5.268108</td>\n",
       "      <td>1.159875</td>\n",
       "      <td>0.747530</td>\n",
       "      <td>0.434871</td>\n",
       "      <td>0.187714</td>\n",
       "      <td>0.292480</td>\n",
       "    </tr>\n",
       "    <tr>\n",
       "      <th>2</th>\n",
       "      <td>0.983341</td>\n",
       "      <td>1.455549</td>\n",
       "      <td>0.123362</td>\n",
       "      <td>0.082679</td>\n",
       "      <td>0.306191</td>\n",
       "      <td>1.419106</td>\n",
       "      <td>1.296339</td>\n",
       "      <td>0.189315</td>\n",
       "      <td>1.281842</td>\n",
       "      <td>0.136729</td>\n",
       "      <td>1.067873</td>\n",
       "      <td>0.172235</td>\n",
       "      <td>0.292480</td>\n",
       "    </tr>\n",
       "    <tr>\n",
       "      <th>3</th>\n",
       "      <td>0.173211</td>\n",
       "      <td>1.147546</td>\n",
       "      <td>0.243851</td>\n",
       "      <td>0.082679</td>\n",
       "      <td>0.306191</td>\n",
       "      <td>0.565412</td>\n",
       "      <td>0.207433</td>\n",
       "      <td>0.189315</td>\n",
       "      <td>0.284962</td>\n",
       "      <td>1.273102</td>\n",
       "      <td>0.916333</td>\n",
       "      <td>0.284289</td>\n",
       "      <td>3.419041</td>\n",
       "    </tr>\n",
       "    <tr>\n",
       "      <th>4</th>\n",
       "      <td>0.083195</td>\n",
       "      <td>0.154001</td>\n",
       "      <td>0.169630</td>\n",
       "      <td>0.082679</td>\n",
       "      <td>0.306191</td>\n",
       "      <td>0.288282</td>\n",
       "      <td>0.541190</td>\n",
       "      <td>0.189315</td>\n",
       "      <td>0.407867</td>\n",
       "      <td>1.198510</td>\n",
       "      <td>0.274384</td>\n",
       "      <td>0.192691</td>\n",
       "      <td>0.292480</td>\n",
       "    </tr>\n",
       "    <tr>\n",
       "      <th>...</th>\n",
       "      <td>...</td>\n",
       "      <td>...</td>\n",
       "      <td>...</td>\n",
       "      <td>...</td>\n",
       "      <td>...</td>\n",
       "      <td>...</td>\n",
       "      <td>...</td>\n",
       "      <td>...</td>\n",
       "      <td>...</td>\n",
       "      <td>...</td>\n",
       "      <td>...</td>\n",
       "      <td>...</td>\n",
       "      <td>...</td>\n",
       "    </tr>\n",
       "    <tr>\n",
       "      <th>21592</th>\n",
       "      <td>0.492352</td>\n",
       "      <td>0.496772</td>\n",
       "      <td>0.337086</td>\n",
       "      <td>0.082679</td>\n",
       "      <td>0.306191</td>\n",
       "      <td>0.288282</td>\n",
       "      <td>1.289813</td>\n",
       "      <td>0.189315</td>\n",
       "      <td>1.003267</td>\n",
       "      <td>0.939293</td>\n",
       "      <td>0.668307</td>\n",
       "      <td>0.412042</td>\n",
       "      <td>0.292480</td>\n",
       "    </tr>\n",
       "    <tr>\n",
       "      <th>21593</th>\n",
       "      <td>0.383243</td>\n",
       "      <td>0.496772</td>\n",
       "      <td>0.224260</td>\n",
       "      <td>0.082679</td>\n",
       "      <td>0.306191</td>\n",
       "      <td>0.288282</td>\n",
       "      <td>1.459954</td>\n",
       "      <td>0.189315</td>\n",
       "      <td>0.357854</td>\n",
       "      <td>1.052930</td>\n",
       "      <td>0.230615</td>\n",
       "      <td>0.203780</td>\n",
       "      <td>0.292480</td>\n",
       "    </tr>\n",
       "    <tr>\n",
       "      <th>21594</th>\n",
       "      <td>0.377512</td>\n",
       "      <td>1.780936</td>\n",
       "      <td>0.331808</td>\n",
       "      <td>0.082679</td>\n",
       "      <td>0.306191</td>\n",
       "      <td>0.565412</td>\n",
       "      <td>1.289813</td>\n",
       "      <td>0.189315</td>\n",
       "      <td>0.246207</td>\n",
       "      <td>0.605483</td>\n",
       "      <td>1.412385</td>\n",
       "      <td>0.393817</td>\n",
       "      <td>0.292480</td>\n",
       "    </tr>\n",
       "    <tr>\n",
       "      <th>21595</th>\n",
       "      <td>0.383243</td>\n",
       "      <td>0.496772</td>\n",
       "      <td>0.306795</td>\n",
       "      <td>0.082679</td>\n",
       "      <td>0.306191</td>\n",
       "      <td>0.288282</td>\n",
       "      <td>1.119671</td>\n",
       "      <td>0.189315</td>\n",
       "      <td>0.186090</td>\n",
       "      <td>1.028054</td>\n",
       "      <td>0.843385</td>\n",
       "      <td>0.420166</td>\n",
       "      <td>0.292480</td>\n",
       "    </tr>\n",
       "    <tr>\n",
       "      <th>21596</th>\n",
       "      <td>0.587822</td>\n",
       "      <td>1.780936</td>\n",
       "      <td>0.338411</td>\n",
       "      <td>0.082679</td>\n",
       "      <td>0.306191</td>\n",
       "      <td>0.565412</td>\n",
       "      <td>1.255784</td>\n",
       "      <td>0.189315</td>\n",
       "      <td>0.244042</td>\n",
       "      <td>0.605483</td>\n",
       "      <td>1.412385</td>\n",
       "      <td>0.417604</td>\n",
       "      <td>0.292480</td>\n",
       "    </tr>\n",
       "  </tbody>\n",
       "</table>\n",
       "<p>21357 rows × 13 columns</p>\n",
       "</div>"
      ],
      "text/plain": [
       "          price  bathrooms  sqft_lot  ...  sqft_living15  sqft_lot15  condition_5\n",
       "0      0.869050   1.455549  0.228188  ...       0.945513    0.260502     0.292480\n",
       "1      0.006819   0.171385  0.189824  ...       0.434871    0.187714     0.292480\n",
       "2      0.983341   1.455549  0.123362  ...       1.067873    0.172235     0.292480\n",
       "3      0.173211   1.147546  0.243851  ...       0.916333    0.284289     3.419041\n",
       "4      0.083195   0.154001  0.169630  ...       0.274384    0.192691     0.292480\n",
       "...         ...        ...       ...  ...            ...         ...          ...\n",
       "21592  0.492352   0.496772  0.337086  ...       0.668307    0.412042     0.292480\n",
       "21593  0.383243   0.496772  0.224260  ...       0.230615    0.203780     0.292480\n",
       "21594  0.377512   1.780936  0.331808  ...       1.412385    0.393817     0.292480\n",
       "21595  0.383243   0.496772  0.306795  ...       0.843385    0.420166     0.292480\n",
       "21596  0.587822   1.780936  0.338411  ...       1.412385    0.417604     0.292480\n",
       "\n",
       "[21357 rows x 13 columns]"
      ]
     },
     "execution_count": 184,
     "metadata": {},
     "output_type": "execute_result"
    }
   ],
   "source": [
    "#check absolute\n",
    "df_ohe_z.abs()"
   ]
  },
  {
   "cell_type": "code",
   "execution_count": 185,
   "metadata": {
    "scrolled": true
   },
   "outputs": [
    {
     "name": "stdout",
     "output_type": "stream",
     "text": [
      "[[0.86904954 1.45554871 0.22818771 ... 0.94551287 0.26050179 0.2924797 ]\n",
      " [0.00681853 0.17138532 0.18982402 ... 0.4348714  0.18771432 0.2924797 ]\n",
      " [0.98334084 1.45554871 0.12336231 ... 1.06787349 0.17223463 0.2924797 ]\n",
      " ...\n",
      " [0.3775124  1.78093552 0.33180822 ... 1.41238507 0.39381741 0.2924797 ]\n",
      " [0.38324333 0.49677212 0.30679471 ... 0.84338457 0.42016581 0.2924797 ]\n",
      " [0.58782203 1.78093552 0.33841101 ... 1.41238507 0.41760416 0.2924797 ]]\n"
     ]
    }
   ],
   "source": [
    "#make a list of outliers\n",
    "zFP = np.abs(stats.zscore(df_ohe))\n",
    "print(zFP)"
   ]
  },
  {
   "cell_type": "code",
   "execution_count": 186,
   "metadata": {
    "scrolled": true
   },
   "outputs": [
    {
     "data": {
      "text/html": [
       "<div>\n",
       "<style scoped>\n",
       "    .dataframe tbody tr th:only-of-type {\n",
       "        vertical-align: middle;\n",
       "    }\n",
       "\n",
       "    .dataframe tbody tr th {\n",
       "        vertical-align: top;\n",
       "    }\n",
       "\n",
       "    .dataframe thead th {\n",
       "        text-align: right;\n",
       "    }\n",
       "</style>\n",
       "<table border=\"1\" class=\"dataframe\">\n",
       "  <thead>\n",
       "    <tr style=\"text-align: right;\">\n",
       "      <th></th>\n",
       "      <th>price</th>\n",
       "      <th>bathrooms</th>\n",
       "      <th>sqft_lot</th>\n",
       "      <th>waterfront</th>\n",
       "      <th>view</th>\n",
       "      <th>grade</th>\n",
       "      <th>yr_built</th>\n",
       "      <th>yr_renovated</th>\n",
       "      <th>lat</th>\n",
       "      <th>long</th>\n",
       "      <th>sqft_living15</th>\n",
       "      <th>sqft_lot15</th>\n",
       "      <th>condition_5</th>\n",
       "    </tr>\n",
       "  </thead>\n",
       "  <tbody>\n",
       "    <tr>\n",
       "      <th>0</th>\n",
       "      <td>221900.0</td>\n",
       "      <td>1.00</td>\n",
       "      <td>5650</td>\n",
       "      <td>0.0</td>\n",
       "      <td>0.0</td>\n",
       "      <td>7</td>\n",
       "      <td>1955</td>\n",
       "      <td>0.0</td>\n",
       "      <td>47.5112</td>\n",
       "      <td>-122.257</td>\n",
       "      <td>1340</td>\n",
       "      <td>5650</td>\n",
       "      <td>0</td>\n",
       "    </tr>\n",
       "    <tr>\n",
       "      <th>2</th>\n",
       "      <td>180000.0</td>\n",
       "      <td>1.00</td>\n",
       "      <td>10000</td>\n",
       "      <td>0.0</td>\n",
       "      <td>0.0</td>\n",
       "      <td>6</td>\n",
       "      <td>1933</td>\n",
       "      <td>0.0</td>\n",
       "      <td>47.7379</td>\n",
       "      <td>-122.233</td>\n",
       "      <td>2720</td>\n",
       "      <td>8062</td>\n",
       "      <td>0</td>\n",
       "    </tr>\n",
       "    <tr>\n",
       "      <th>4</th>\n",
       "      <td>510000.0</td>\n",
       "      <td>2.00</td>\n",
       "      <td>8080</td>\n",
       "      <td>0.0</td>\n",
       "      <td>0.0</td>\n",
       "      <td>8</td>\n",
       "      <td>1987</td>\n",
       "      <td>0.0</td>\n",
       "      <td>47.6168</td>\n",
       "      <td>-122.045</td>\n",
       "      <td>1800</td>\n",
       "      <td>7503</td>\n",
       "      <td>0</td>\n",
       "    </tr>\n",
       "    <tr>\n",
       "      <th>6</th>\n",
       "      <td>257500.0</td>\n",
       "      <td>2.25</td>\n",
       "      <td>6819</td>\n",
       "      <td>0.0</td>\n",
       "      <td>0.0</td>\n",
       "      <td>7</td>\n",
       "      <td>1995</td>\n",
       "      <td>0.0</td>\n",
       "      <td>47.3097</td>\n",
       "      <td>-122.327</td>\n",
       "      <td>2238</td>\n",
       "      <td>6819</td>\n",
       "      <td>0</td>\n",
       "    </tr>\n",
       "    <tr>\n",
       "      <th>8</th>\n",
       "      <td>229500.0</td>\n",
       "      <td>1.00</td>\n",
       "      <td>7470</td>\n",
       "      <td>0.0</td>\n",
       "      <td>0.0</td>\n",
       "      <td>7</td>\n",
       "      <td>1960</td>\n",
       "      <td>0.0</td>\n",
       "      <td>47.5123</td>\n",
       "      <td>-122.337</td>\n",
       "      <td>1780</td>\n",
       "      <td>8113</td>\n",
       "      <td>0</td>\n",
       "    </tr>\n",
       "    <tr>\n",
       "      <th>...</th>\n",
       "      <td>...</td>\n",
       "      <td>...</td>\n",
       "      <td>...</td>\n",
       "      <td>...</td>\n",
       "      <td>...</td>\n",
       "      <td>...</td>\n",
       "      <td>...</td>\n",
       "      <td>...</td>\n",
       "      <td>...</td>\n",
       "      <td>...</td>\n",
       "      <td>...</td>\n",
       "      <td>...</td>\n",
       "      <td>...</td>\n",
       "    </tr>\n",
       "    <tr>\n",
       "      <th>21592</th>\n",
       "      <td>360000.0</td>\n",
       "      <td>2.50</td>\n",
       "      <td>1131</td>\n",
       "      <td>0.0</td>\n",
       "      <td>0.0</td>\n",
       "      <td>8</td>\n",
       "      <td>2009</td>\n",
       "      <td>0.0</td>\n",
       "      <td>47.6993</td>\n",
       "      <td>-122.346</td>\n",
       "      <td>1530</td>\n",
       "      <td>1509</td>\n",
       "      <td>0</td>\n",
       "    </tr>\n",
       "    <tr>\n",
       "      <th>21593</th>\n",
       "      <td>400000.0</td>\n",
       "      <td>2.50</td>\n",
       "      <td>5813</td>\n",
       "      <td>0.0</td>\n",
       "      <td>0.0</td>\n",
       "      <td>8</td>\n",
       "      <td>2014</td>\n",
       "      <td>0.0</td>\n",
       "      <td>47.5107</td>\n",
       "      <td>-122.362</td>\n",
       "      <td>1830</td>\n",
       "      <td>7200</td>\n",
       "      <td>0</td>\n",
       "    </tr>\n",
       "    <tr>\n",
       "      <th>21594</th>\n",
       "      <td>402101.0</td>\n",
       "      <td>0.75</td>\n",
       "      <td>1350</td>\n",
       "      <td>0.0</td>\n",
       "      <td>0.0</td>\n",
       "      <td>7</td>\n",
       "      <td>2009</td>\n",
       "      <td>0.0</td>\n",
       "      <td>47.5944</td>\n",
       "      <td>-122.299</td>\n",
       "      <td>1020</td>\n",
       "      <td>2007</td>\n",
       "      <td>0</td>\n",
       "    </tr>\n",
       "    <tr>\n",
       "      <th>21595</th>\n",
       "      <td>400000.0</td>\n",
       "      <td>2.50</td>\n",
       "      <td>2388</td>\n",
       "      <td>0.0</td>\n",
       "      <td>0.0</td>\n",
       "      <td>8</td>\n",
       "      <td>2004</td>\n",
       "      <td>0.0</td>\n",
       "      <td>47.5345</td>\n",
       "      <td>-122.069</td>\n",
       "      <td>1410</td>\n",
       "      <td>1287</td>\n",
       "      <td>0</td>\n",
       "    </tr>\n",
       "    <tr>\n",
       "      <th>21596</th>\n",
       "      <td>325000.0</td>\n",
       "      <td>0.75</td>\n",
       "      <td>1076</td>\n",
       "      <td>0.0</td>\n",
       "      <td>0.0</td>\n",
       "      <td>7</td>\n",
       "      <td>2008</td>\n",
       "      <td>0.0</td>\n",
       "      <td>47.5941</td>\n",
       "      <td>-122.299</td>\n",
       "      <td>1020</td>\n",
       "      <td>1357</td>\n",
       "      <td>0</td>\n",
       "    </tr>\n",
       "  </tbody>\n",
       "</table>\n",
       "<p>17318 rows × 13 columns</p>\n",
       "</div>"
      ],
      "text/plain": [
       "          price  bathrooms  sqft_lot  ...  sqft_living15  sqft_lot15  condition_5\n",
       "0      221900.0       1.00      5650  ...           1340        5650            0\n",
       "2      180000.0       1.00     10000  ...           2720        8062            0\n",
       "4      510000.0       2.00      8080  ...           1800        7503            0\n",
       "6      257500.0       2.25      6819  ...           2238        6819            0\n",
       "8      229500.0       1.00      7470  ...           1780        8113            0\n",
       "...         ...        ...       ...  ...            ...         ...          ...\n",
       "21592  360000.0       2.50      1131  ...           1530        1509            0\n",
       "21593  400000.0       2.50      5813  ...           1830        7200            0\n",
       "21594  402101.0       0.75      1350  ...           1020        2007            0\n",
       "21595  400000.0       2.50      2388  ...           1410        1287            0\n",
       "21596  325000.0       0.75      1076  ...           1020        1357            0\n",
       "\n",
       "[17318 rows x 13 columns]"
      ]
     },
     "execution_count": 186,
     "metadata": {},
     "output_type": "execute_result"
    }
   ],
   "source": [
    "#save new list with z-score < 3\n",
    "df_ohe_out = df_ohe[(zFP<3).all(axis=1)]\n",
    "df_ohe_out"
   ]
  },
  {
   "cell_type": "markdown",
   "metadata": {},
   "source": [
    "> Using z-score to remove outliers made our dataset much smaller. Lets look at IQR to see if there is a difference."
   ]
  },
  {
   "cell_type": "markdown",
   "metadata": {},
   "source": [
    "### Using IQR"
   ]
  },
  {
   "cell_type": "code",
   "execution_count": 187,
   "metadata": {
    "scrolled": true
   },
   "outputs": [
    {
     "name": "stdout",
     "output_type": "stream",
     "text": [
      "322500.0\n"
     ]
    }
   ],
   "source": [
    "#identify the diff quartiles\n",
    "Q1 = df_ohe['price'].quantile(0.25)\n",
    "Q3 = df_ohe['price'].quantile(0.75)\n",
    "IQR = Q3-Q1\n",
    "print(IQR)"
   ]
  },
  {
   "cell_type": "code",
   "execution_count": 188,
   "metadata": {
    "scrolled": true
   },
   "outputs": [
    {
     "name": "stdout",
     "output_type": "stream",
     "text": [
      "-161250.0 1128750.0\n"
     ]
    }
   ],
   "source": [
    "Lower_Whisker = Q1-1.5*IQR\n",
    "Upper_Whisker = Q3+1.5*IQR\n",
    "print(Lower_Whisker, Upper_Whisker)"
   ]
  },
  {
   "cell_type": "code",
   "execution_count": 189,
   "metadata": {
    "scrolled": false
   },
   "outputs": [
    {
     "name": "stdout",
     "output_type": "stream",
     "text": [
      "(20211, 13)\n"
     ]
    }
   ],
   "source": [
    "test = df_ohe[~((df_ohe['price'] < (Q1 - 1.5 * IQR)) |(df_ohe['price'] > (Q3 + 1.5 * IQR)))]\n",
    "print(test.shape)"
   ]
  },
  {
   "cell_type": "code",
   "execution_count": 190,
   "metadata": {},
   "outputs": [
    {
     "data": {
      "text/plain": [
       "(21357, 13)"
      ]
     },
     "execution_count": 190,
     "metadata": {},
     "output_type": "execute_result"
    }
   ],
   "source": [
    "df_ohe.shape"
   ]
  },
  {
   "cell_type": "code",
   "execution_count": 191,
   "metadata": {},
   "outputs": [
    {
     "data": {
      "text/plain": [
       "(20211, 13)"
      ]
     },
     "execution_count": 191,
     "metadata": {},
     "output_type": "execute_result"
    }
   ],
   "source": [
    "test.shape"
   ]
  },
  {
   "cell_type": "code",
   "execution_count": 192,
   "metadata": {
    "scrolled": true
   },
   "outputs": [
    {
     "data": {
      "text/plain": [
       "<AxesSubplot:xlabel='price'>"
      ]
     },
     "execution_count": 192,
     "metadata": {},
     "output_type": "execute_result"
    },
    {
     "data": {
      "image/png": "[encoded data removed]",
      "text/plain": [
       "<Figure size 432x288 with 1 Axes>"
      ]
     },
     "metadata": {},
     "output_type": "display_data"
    }
   ],
   "source": [
    "sns.boxplot(df_ohe['price'])"
   ]
  },
  {
   "cell_type": "code",
   "execution_count": 193,
   "metadata": {
    "scrolled": false
   },
   "outputs": [
    {
     "data": {
      "text/plain": [
       "<AxesSubplot:xlabel='price'>"
      ]
     },
     "execution_count": 193,
     "metadata": {},
     "output_type": "execute_result"
    },
    {
     "data": {
      "image/png": "[encoded data removed]",
      "text/plain": [
       "<Figure size 432x288 with 1 Axes>"
      ]
     },
     "metadata": {},
     "output_type": "display_data"
    }
   ],
   "source": [
    "sns.boxplot(test['price'])"
   ]
  },
  {
   "cell_type": "markdown",
   "metadata": {},
   "source": [
    "> Using IQR dropped more numbers than using the z-score. \n",
    "\n",
    "- Used same code and when back to only drop price."
   ]
  },
  {
   "cell_type": "markdown",
   "metadata": {},
   "source": [
    "> **Deep Thoughts**:\n",
    "I don't think I want to drop outliers for every column? The only outlier that I think I really need to be concerned with is price. Went back through IQR and dropped only price."
   ]
  },
  {
   "cell_type": "code",
   "execution_count": 194,
   "metadata": {},
   "outputs": [
    {
     "data": {
      "text/html": [
       "<div>\n",
       "<style scoped>\n",
       "    .dataframe tbody tr th:only-of-type {\n",
       "        vertical-align: middle;\n",
       "    }\n",
       "\n",
       "    .dataframe tbody tr th {\n",
       "        vertical-align: top;\n",
       "    }\n",
       "\n",
       "    .dataframe thead th {\n",
       "        text-align: right;\n",
       "    }\n",
       "</style>\n",
       "<table border=\"1\" class=\"dataframe\">\n",
       "  <thead>\n",
       "    <tr style=\"text-align: right;\">\n",
       "      <th></th>\n",
       "      <th>price</th>\n",
       "      <th>bathrooms</th>\n",
       "      <th>sqft_lot</th>\n",
       "      <th>waterfront</th>\n",
       "      <th>view</th>\n",
       "      <th>grade</th>\n",
       "      <th>yr_built</th>\n",
       "      <th>yr_renovated</th>\n",
       "      <th>lat</th>\n",
       "      <th>long</th>\n",
       "      <th>sqft_living15</th>\n",
       "      <th>sqft_lot15</th>\n",
       "      <th>condition_5</th>\n",
       "    </tr>\n",
       "  </thead>\n",
       "  <tbody>\n",
       "    <tr>\n",
       "      <th>count</th>\n",
       "      <td>2.135700e+04</td>\n",
       "      <td>21357.000000</td>\n",
       "      <td>2.135700e+04</td>\n",
       "      <td>21357.000000</td>\n",
       "      <td>21357.000000</td>\n",
       "      <td>21357.000000</td>\n",
       "      <td>21357.000000</td>\n",
       "      <td>21357.000000</td>\n",
       "      <td>21357.000000</td>\n",
       "      <td>21357.000000</td>\n",
       "      <td>21357.000000</td>\n",
       "      <td>21357.000000</td>\n",
       "      <td>21357.000000</td>\n",
       "    </tr>\n",
       "    <tr>\n",
       "      <th>mean</th>\n",
       "      <td>5.404997e+05</td>\n",
       "      <td>2.118322</td>\n",
       "      <td>1.511924e+04</td>\n",
       "      <td>0.006789</td>\n",
       "      <td>0.234677</td>\n",
       "      <td>7.662312</td>\n",
       "      <td>1971.095894</td>\n",
       "      <td>69.066723</td>\n",
       "      <td>47.560285</td>\n",
       "      <td>-122.213749</td>\n",
       "      <td>1988.066255</td>\n",
       "      <td>12768.505876</td>\n",
       "      <td>0.078803</td>\n",
       "    </tr>\n",
       "    <tr>\n",
       "      <th>std</th>\n",
       "      <td>3.666157e+05</td>\n",
       "      <td>0.768334</td>\n",
       "      <td>4.149855e+04</td>\n",
       "      <td>0.082119</td>\n",
       "      <td>0.766459</td>\n",
       "      <td>1.171407</td>\n",
       "      <td>29.387983</td>\n",
       "      <td>364.832709</td>\n",
       "      <td>0.138566</td>\n",
       "      <td>0.140802</td>\n",
       "      <td>685.428458</td>\n",
       "      <td>27326.770308</td>\n",
       "      <td>0.269438</td>\n",
       "    </tr>\n",
       "    <tr>\n",
       "      <th>min</th>\n",
       "      <td>7.800000e+04</td>\n",
       "      <td>0.500000</td>\n",
       "      <td>5.200000e+02</td>\n",
       "      <td>0.000000</td>\n",
       "      <td>0.000000</td>\n",
       "      <td>3.000000</td>\n",
       "      <td>1900.000000</td>\n",
       "      <td>0.000000</td>\n",
       "      <td>47.155900</td>\n",
       "      <td>-122.519000</td>\n",
       "      <td>399.000000</td>\n",
       "      <td>651.000000</td>\n",
       "      <td>0.000000</td>\n",
       "    </tr>\n",
       "    <tr>\n",
       "      <th>25%</th>\n",
       "      <td>3.225000e+05</td>\n",
       "      <td>1.750000</td>\n",
       "      <td>5.040000e+03</td>\n",
       "      <td>0.000000</td>\n",
       "      <td>0.000000</td>\n",
       "      <td>7.000000</td>\n",
       "      <td>1952.000000</td>\n",
       "      <td>0.000000</td>\n",
       "      <td>47.471300</td>\n",
       "      <td>-122.328000</td>\n",
       "      <td>1490.000000</td>\n",
       "      <td>5100.000000</td>\n",
       "      <td>0.000000</td>\n",
       "    </tr>\n",
       "    <tr>\n",
       "      <th>50%</th>\n",
       "      <td>4.500000e+05</td>\n",
       "      <td>2.250000</td>\n",
       "      <td>7.613000e+03</td>\n",
       "      <td>0.000000</td>\n",
       "      <td>0.000000</td>\n",
       "      <td>7.000000</td>\n",
       "      <td>1975.000000</td>\n",
       "      <td>0.000000</td>\n",
       "      <td>47.572200</td>\n",
       "      <td>-122.230000</td>\n",
       "      <td>1840.000000</td>\n",
       "      <td>7620.000000</td>\n",
       "      <td>0.000000</td>\n",
       "    </tr>\n",
       "    <tr>\n",
       "      <th>75%</th>\n",
       "      <td>6.450000e+05</td>\n",
       "      <td>2.500000</td>\n",
       "      <td>1.069600e+04</td>\n",
       "      <td>0.000000</td>\n",
       "      <td>0.000000</td>\n",
       "      <td>8.000000</td>\n",
       "      <td>1997.000000</td>\n",
       "      <td>0.000000</td>\n",
       "      <td>47.678100</td>\n",
       "      <td>-122.125000</td>\n",
       "      <td>2370.000000</td>\n",
       "      <td>10087.000000</td>\n",
       "      <td>0.000000</td>\n",
       "    </tr>\n",
       "    <tr>\n",
       "      <th>max</th>\n",
       "      <td>7.700000e+06</td>\n",
       "      <td>8.000000</td>\n",
       "      <td>1.651359e+06</td>\n",
       "      <td>1.000000</td>\n",
       "      <td>4.000000</td>\n",
       "      <td>13.000000</td>\n",
       "      <td>2015.000000</td>\n",
       "      <td>2015.000000</td>\n",
       "      <td>47.777600</td>\n",
       "      <td>-121.315000</td>\n",
       "      <td>6210.000000</td>\n",
       "      <td>871200.000000</td>\n",
       "      <td>1.000000</td>\n",
       "    </tr>\n",
       "  </tbody>\n",
       "</table>\n",
       "</div>"
      ],
      "text/plain": [
       "              price     bathrooms  ...     sqft_lot15   condition_5\n",
       "count  2.135700e+04  21357.000000  ...   21357.000000  21357.000000\n",
       "mean   5.404997e+05      2.118322  ...   12768.505876      0.078803\n",
       "std    3.666157e+05      0.768334  ...   27326.770308      0.269438\n",
       "min    7.800000e+04      0.500000  ...     651.000000      0.000000\n",
       "25%    3.225000e+05      1.750000  ...    5100.000000      0.000000\n",
       "50%    4.500000e+05      2.250000  ...    7620.000000      0.000000\n",
       "75%    6.450000e+05      2.500000  ...   10087.000000      0.000000\n",
       "max    7.700000e+06      8.000000  ...  871200.000000      1.000000\n",
       "\n",
       "[8 rows x 13 columns]"
      ]
     },
     "execution_count": 194,
     "metadata": {},
     "output_type": "execute_result"
    }
   ],
   "source": [
    "df_ohe.describe()"
   ]
  },
  {
   "cell_type": "code",
   "execution_count": 195,
   "metadata": {
    "scrolled": false
   },
   "outputs": [
    {
     "data": {
      "text/html": [
       "<div>\n",
       "<style scoped>\n",
       "    .dataframe tbody tr th:only-of-type {\n",
       "        vertical-align: middle;\n",
       "    }\n",
       "\n",
       "    .dataframe tbody tr th {\n",
       "        vertical-align: top;\n",
       "    }\n",
       "\n",
       "    .dataframe thead th {\n",
       "        text-align: right;\n",
       "    }\n",
       "</style>\n",
       "<table border=\"1\" class=\"dataframe\">\n",
       "  <thead>\n",
       "    <tr style=\"text-align: right;\">\n",
       "      <th></th>\n",
       "      <th>price</th>\n",
       "      <th>bathrooms</th>\n",
       "      <th>sqft_lot</th>\n",
       "      <th>waterfront</th>\n",
       "      <th>view</th>\n",
       "      <th>grade</th>\n",
       "      <th>yr_built</th>\n",
       "      <th>yr_renovated</th>\n",
       "      <th>lat</th>\n",
       "      <th>long</th>\n",
       "      <th>sqft_living15</th>\n",
       "      <th>sqft_lot15</th>\n",
       "      <th>condition_5</th>\n",
       "    </tr>\n",
       "  </thead>\n",
       "  <tbody>\n",
       "    <tr>\n",
       "      <th>count</th>\n",
       "      <td>2.021100e+04</td>\n",
       "      <td>20211.000000</td>\n",
       "      <td>2.021100e+04</td>\n",
       "      <td>20211.000000</td>\n",
       "      <td>20211.000000</td>\n",
       "      <td>20211.000000</td>\n",
       "      <td>20211.000000</td>\n",
       "      <td>20211.000000</td>\n",
       "      <td>20211.000000</td>\n",
       "      <td>20211.000000</td>\n",
       "      <td>20211.000000</td>\n",
       "      <td>20211.000000</td>\n",
       "      <td>20211.000000</td>\n",
       "    </tr>\n",
       "    <tr>\n",
       "      <th>mean</th>\n",
       "      <td>4.769666e+05</td>\n",
       "      <td>2.054525</td>\n",
       "      <td>1.460951e+04</td>\n",
       "      <td>0.002523</td>\n",
       "      <td>0.173025</td>\n",
       "      <td>7.535500</td>\n",
       "      <td>1970.906091</td>\n",
       "      <td>61.316808</td>\n",
       "      <td>47.557075</td>\n",
       "      <td>-122.213066</td>\n",
       "      <td>1923.657365</td>\n",
       "      <td>12437.843155</td>\n",
       "      <td>0.076394</td>\n",
       "    </tr>\n",
       "    <tr>\n",
       "      <th>std</th>\n",
       "      <td>2.079344e+05</td>\n",
       "      <td>0.709815</td>\n",
       "      <td>4.010265e+04</td>\n",
       "      <td>0.050171</td>\n",
       "      <td>0.641387</td>\n",
       "      <td>1.035091</td>\n",
       "      <td>29.172277</td>\n",
       "      <td>344.410476</td>\n",
       "      <td>0.141060</td>\n",
       "      <td>0.142410</td>\n",
       "      <td>615.299758</td>\n",
       "      <td>26514.184888</td>\n",
       "      <td>0.265634</td>\n",
       "    </tr>\n",
       "    <tr>\n",
       "      <th>min</th>\n",
       "      <td>7.800000e+04</td>\n",
       "      <td>0.500000</td>\n",
       "      <td>5.200000e+02</td>\n",
       "      <td>0.000000</td>\n",
       "      <td>0.000000</td>\n",
       "      <td>3.000000</td>\n",
       "      <td>1900.000000</td>\n",
       "      <td>0.000000</td>\n",
       "      <td>47.155900</td>\n",
       "      <td>-122.519000</td>\n",
       "      <td>399.000000</td>\n",
       "      <td>651.000000</td>\n",
       "      <td>0.000000</td>\n",
       "    </tr>\n",
       "    <tr>\n",
       "      <th>25%</th>\n",
       "      <td>3.150000e+05</td>\n",
       "      <td>1.500000</td>\n",
       "      <td>5.000000e+03</td>\n",
       "      <td>0.000000</td>\n",
       "      <td>0.000000</td>\n",
       "      <td>7.000000</td>\n",
       "      <td>1952.000000</td>\n",
       "      <td>0.000000</td>\n",
       "      <td>47.460650</td>\n",
       "      <td>-122.330000</td>\n",
       "      <td>1470.000000</td>\n",
       "      <td>5040.000000</td>\n",
       "      <td>0.000000</td>\n",
       "    </tr>\n",
       "    <tr>\n",
       "      <th>50%</th>\n",
       "      <td>4.375000e+05</td>\n",
       "      <td>2.000000</td>\n",
       "      <td>7.500000e+03</td>\n",
       "      <td>0.000000</td>\n",
       "      <td>0.000000</td>\n",
       "      <td>7.000000</td>\n",
       "      <td>1975.000000</td>\n",
       "      <td>0.000000</td>\n",
       "      <td>47.567100</td>\n",
       "      <td>-122.231000</td>\n",
       "      <td>1800.000000</td>\n",
       "      <td>7539.000000</td>\n",
       "      <td>0.000000</td>\n",
       "    </tr>\n",
       "    <tr>\n",
       "      <th>75%</th>\n",
       "      <td>6.000000e+05</td>\n",
       "      <td>2.500000</td>\n",
       "      <td>1.032000e+04</td>\n",
       "      <td>0.000000</td>\n",
       "      <td>0.000000</td>\n",
       "      <td>8.000000</td>\n",
       "      <td>1996.000000</td>\n",
       "      <td>0.000000</td>\n",
       "      <td>47.679900</td>\n",
       "      <td>-122.122000</td>\n",
       "      <td>2280.000000</td>\n",
       "      <td>9890.000000</td>\n",
       "      <td>0.000000</td>\n",
       "    </tr>\n",
       "    <tr>\n",
       "      <th>max</th>\n",
       "      <td>1.120000e+06</td>\n",
       "      <td>7.500000</td>\n",
       "      <td>1.651359e+06</td>\n",
       "      <td>1.000000</td>\n",
       "      <td>4.000000</td>\n",
       "      <td>12.000000</td>\n",
       "      <td>2015.000000</td>\n",
       "      <td>2015.000000</td>\n",
       "      <td>47.777600</td>\n",
       "      <td>-121.315000</td>\n",
       "      <td>5380.000000</td>\n",
       "      <td>871200.000000</td>\n",
       "      <td>1.000000</td>\n",
       "    </tr>\n",
       "  </tbody>\n",
       "</table>\n",
       "</div>"
      ],
      "text/plain": [
       "              price     bathrooms  ...     sqft_lot15   condition_5\n",
       "count  2.021100e+04  20211.000000  ...   20211.000000  20211.000000\n",
       "mean   4.769666e+05      2.054525  ...   12437.843155      0.076394\n",
       "std    2.079344e+05      0.709815  ...   26514.184888      0.265634\n",
       "min    7.800000e+04      0.500000  ...     651.000000      0.000000\n",
       "25%    3.150000e+05      1.500000  ...    5040.000000      0.000000\n",
       "50%    4.375000e+05      2.000000  ...    7539.000000      0.000000\n",
       "75%    6.000000e+05      2.500000  ...    9890.000000      0.000000\n",
       "max    1.120000e+06      7.500000  ...  871200.000000      1.000000\n",
       "\n",
       "[8 rows x 13 columns]"
      ]
     },
     "execution_count": 195,
     "metadata": {},
     "output_type": "execute_result"
    }
   ],
   "source": [
    "test.describe()"
   ]
  },
  {
   "cell_type": "markdown",
   "metadata": {},
   "source": [
    "Choosing to drop outliers on bedroom, since there is one with 30 bedrooms. "
   ]
  },
  {
   "cell_type": "code",
   "execution_count": 196,
   "metadata": {},
   "outputs": [],
   "source": [
    "def IQR_removal(col, test):\n",
    "    Q1 = test[col].quantile(0.25)\n",
    "    Q3 = test[col].quantile(0.75)\n",
    "    IQR = Q3-Q1\n",
    "    print(IQR)\n",
    "\n",
    "    num_rows = len(test)\n",
    "    test = test[~((test[col] < (Q1 - 1.5 * IQR)) |(test[col] > (Q3 + 1.5 * IQR)))]\n",
    "    num_outliers = num_rows - len(test)\n",
    "    print(test.shape)\n",
    "    print(f\"Number of outliers removed from {col}: {num_outliers}\")\n",
    "    return test \n",
    "    "
   ]
  },
  {
   "cell_type": "code",
   "execution_count": 197,
   "metadata": {},
   "outputs": [
    {
     "ename": "KeyError",
     "evalue": "'bedrooms'",
     "output_type": "error",
     "traceback": [
      "\u001b[0;31m---------------------------------------------------------------------------\u001b[0m",
      "\u001b[0;31mKeyError\u001b[0m                                  Traceback (most recent call last)",
      "\u001b[0;32m~/opt/anaconda3/envs/learn-env/lib/python3.6/site-packages/pandas/core/indexes/base.py\u001b[0m in \u001b[0;36mget_loc\u001b[0;34m(self, key, method, tolerance)\u001b[0m\n\u001b[1;32m   2888\u001b[0m             \u001b[0;32mtry\u001b[0m\u001b[0;34m:\u001b[0m\u001b[0;34m\u001b[0m\u001b[0;34m\u001b[0m\u001b[0m\n\u001b[0;32m-> 2889\u001b[0;31m                 \u001b[0;32mreturn\u001b[0m \u001b[0mself\u001b[0m\u001b[0;34m.\u001b[0m\u001b[0m_engine\u001b[0m\u001b[0;34m.\u001b[0m\u001b[0mget_loc\u001b[0m\u001b[0;34m(\u001b[0m\u001b[0mcasted_key\u001b[0m\u001b[0;34m)\u001b[0m\u001b[0;34m\u001b[0m\u001b[0;34m\u001b[0m\u001b[0m\n\u001b[0m\u001b[1;32m   2890\u001b[0m             \u001b[0;32mexcept\u001b[0m \u001b[0mKeyError\u001b[0m \u001b[0;32mas\u001b[0m \u001b[0merr\u001b[0m\u001b[0;34m:\u001b[0m\u001b[0;34m\u001b[0m\u001b[0;34m\u001b[0m\u001b[0m\n",
      "\u001b[0;32mpandas/_libs/index.pyx\u001b[0m in \u001b[0;36mpandas._libs.index.IndexEngine.get_loc\u001b[0;34m()\u001b[0m\n",
      "\u001b[0;32mpandas/_libs/index.pyx\u001b[0m in \u001b[0;36mpandas._libs.index.IndexEngine.get_loc\u001b[0;34m()\u001b[0m\n",
      "\u001b[0;32mpandas/_libs/hashtable_class_helper.pxi\u001b[0m in \u001b[0;36mpandas._libs.hashtable.PyObjectHashTable.get_item\u001b[0;34m()\u001b[0m\n",
      "\u001b[0;32mpandas/_libs/hashtable_class_helper.pxi\u001b[0m in \u001b[0;36mpandas._libs.hashtable.PyObjectHashTable.get_item\u001b[0;34m()\u001b[0m\n",
      "\u001b[0;31mKeyError\u001b[0m: 'bedrooms'",
      "\nThe above exception was the direct cause of the following exception:\n",
      "\u001b[0;31mKeyError\u001b[0m                                  Traceback (most recent call last)",
      "\u001b[0;32m<ipython-input-197-6f7c8948f3be>\u001b[0m in \u001b[0;36m<module>\u001b[0;34m\u001b[0m\n\u001b[0;32m----> 1\u001b[0;31m \u001b[0mIQR_removal\u001b[0m\u001b[0;34m(\u001b[0m\u001b[0;34m'bedrooms'\u001b[0m\u001b[0;34m,\u001b[0m \u001b[0mtest\u001b[0m\u001b[0;34m)\u001b[0m\u001b[0;34m\u001b[0m\u001b[0;34m\u001b[0m\u001b[0m\n\u001b[0m",
      "\u001b[0;32m<ipython-input-196-8fca396d9787>\u001b[0m in \u001b[0;36mIQR_removal\u001b[0;34m(col, test)\u001b[0m\n\u001b[1;32m      1\u001b[0m \u001b[0;32mdef\u001b[0m \u001b[0mIQR_removal\u001b[0m\u001b[0;34m(\u001b[0m\u001b[0mcol\u001b[0m\u001b[0;34m,\u001b[0m \u001b[0mtest\u001b[0m\u001b[0;34m)\u001b[0m\u001b[0;34m:\u001b[0m\u001b[0;34m\u001b[0m\u001b[0;34m\u001b[0m\u001b[0m\n\u001b[0;32m----> 2\u001b[0;31m     \u001b[0mQ1\u001b[0m \u001b[0;34m=\u001b[0m \u001b[0mtest\u001b[0m\u001b[0;34m[\u001b[0m\u001b[0mcol\u001b[0m\u001b[0;34m]\u001b[0m\u001b[0;34m.\u001b[0m\u001b[0mquantile\u001b[0m\u001b[0;34m(\u001b[0m\u001b[0;36m0.25\u001b[0m\u001b[0;34m)\u001b[0m\u001b[0;34m\u001b[0m\u001b[0;34m\u001b[0m\u001b[0m\n\u001b[0m\u001b[1;32m      3\u001b[0m     \u001b[0mQ3\u001b[0m \u001b[0;34m=\u001b[0m \u001b[0mtest\u001b[0m\u001b[0;34m[\u001b[0m\u001b[0mcol\u001b[0m\u001b[0;34m]\u001b[0m\u001b[0;34m.\u001b[0m\u001b[0mquantile\u001b[0m\u001b[0;34m(\u001b[0m\u001b[0;36m0.75\u001b[0m\u001b[0;34m)\u001b[0m\u001b[0;34m\u001b[0m\u001b[0;34m\u001b[0m\u001b[0m\n\u001b[1;32m      4\u001b[0m     \u001b[0mIQR\u001b[0m \u001b[0;34m=\u001b[0m \u001b[0mQ3\u001b[0m\u001b[0;34m-\u001b[0m\u001b[0mQ1\u001b[0m\u001b[0;34m\u001b[0m\u001b[0;34m\u001b[0m\u001b[0m\n\u001b[1;32m      5\u001b[0m     \u001b[0mprint\u001b[0m\u001b[0;34m(\u001b[0m\u001b[0mIQR\u001b[0m\u001b[0;34m)\u001b[0m\u001b[0;34m\u001b[0m\u001b[0;34m\u001b[0m\u001b[0m\n",
      "\u001b[0;32m~/opt/anaconda3/envs/learn-env/lib/python3.6/site-packages/pandas/core/frame.py\u001b[0m in \u001b[0;36m__getitem__\u001b[0;34m(self, key)\u001b[0m\n\u001b[1;32m   2900\u001b[0m             \u001b[0;32mif\u001b[0m \u001b[0mself\u001b[0m\u001b[0;34m.\u001b[0m\u001b[0mcolumns\u001b[0m\u001b[0;34m.\u001b[0m\u001b[0mnlevels\u001b[0m \u001b[0;34m>\u001b[0m \u001b[0;36m1\u001b[0m\u001b[0;34m:\u001b[0m\u001b[0;34m\u001b[0m\u001b[0;34m\u001b[0m\u001b[0m\n\u001b[1;32m   2901\u001b[0m                 \u001b[0;32mreturn\u001b[0m \u001b[0mself\u001b[0m\u001b[0;34m.\u001b[0m\u001b[0m_getitem_multilevel\u001b[0m\u001b[0;34m(\u001b[0m\u001b[0mkey\u001b[0m\u001b[0;34m)\u001b[0m\u001b[0;34m\u001b[0m\u001b[0;34m\u001b[0m\u001b[0m\n\u001b[0;32m-> 2902\u001b[0;31m             \u001b[0mindexer\u001b[0m \u001b[0;34m=\u001b[0m \u001b[0mself\u001b[0m\u001b[0;34m.\u001b[0m\u001b[0mcolumns\u001b[0m\u001b[0;34m.\u001b[0m\u001b[0mget_loc\u001b[0m\u001b[0;34m(\u001b[0m\u001b[0mkey\u001b[0m\u001b[0;34m)\u001b[0m\u001b[0;34m\u001b[0m\u001b[0;34m\u001b[0m\u001b[0m\n\u001b[0m\u001b[1;32m   2903\u001b[0m             \u001b[0;32mif\u001b[0m \u001b[0mis_integer\u001b[0m\u001b[0;34m(\u001b[0m\u001b[0mindexer\u001b[0m\u001b[0;34m)\u001b[0m\u001b[0;34m:\u001b[0m\u001b[0;34m\u001b[0m\u001b[0;34m\u001b[0m\u001b[0m\n\u001b[1;32m   2904\u001b[0m                 \u001b[0mindexer\u001b[0m \u001b[0;34m=\u001b[0m \u001b[0;34m[\u001b[0m\u001b[0mindexer\u001b[0m\u001b[0;34m]\u001b[0m\u001b[0;34m\u001b[0m\u001b[0;34m\u001b[0m\u001b[0m\n",
      "\u001b[0;32m~/opt/anaconda3/envs/learn-env/lib/python3.6/site-packages/pandas/core/indexes/base.py\u001b[0m in \u001b[0;36mget_loc\u001b[0;34m(self, key, method, tolerance)\u001b[0m\n\u001b[1;32m   2889\u001b[0m                 \u001b[0;32mreturn\u001b[0m \u001b[0mself\u001b[0m\u001b[0;34m.\u001b[0m\u001b[0m_engine\u001b[0m\u001b[0;34m.\u001b[0m\u001b[0mget_loc\u001b[0m\u001b[0;34m(\u001b[0m\u001b[0mcasted_key\u001b[0m\u001b[0;34m)\u001b[0m\u001b[0;34m\u001b[0m\u001b[0;34m\u001b[0m\u001b[0m\n\u001b[1;32m   2890\u001b[0m             \u001b[0;32mexcept\u001b[0m \u001b[0mKeyError\u001b[0m \u001b[0;32mas\u001b[0m \u001b[0merr\u001b[0m\u001b[0;34m:\u001b[0m\u001b[0;34m\u001b[0m\u001b[0;34m\u001b[0m\u001b[0m\n\u001b[0;32m-> 2891\u001b[0;31m                 \u001b[0;32mraise\u001b[0m \u001b[0mKeyError\u001b[0m\u001b[0;34m(\u001b[0m\u001b[0mkey\u001b[0m\u001b[0;34m)\u001b[0m \u001b[0;32mfrom\u001b[0m \u001b[0merr\u001b[0m\u001b[0;34m\u001b[0m\u001b[0;34m\u001b[0m\u001b[0m\n\u001b[0m\u001b[1;32m   2892\u001b[0m \u001b[0;34m\u001b[0m\u001b[0m\n\u001b[1;32m   2893\u001b[0m         \u001b[0;32mif\u001b[0m \u001b[0mtolerance\u001b[0m \u001b[0;32mis\u001b[0m \u001b[0;32mnot\u001b[0m \u001b[0;32mNone\u001b[0m\u001b[0;34m:\u001b[0m\u001b[0;34m\u001b[0m\u001b[0;34m\u001b[0m\u001b[0m\n",
      "\u001b[0;31mKeyError\u001b[0m: 'bedrooms'"
     ]
    }
   ],
   "source": [
    "IQR_removal('bedrooms', test)"
   ]
  },
  {
   "cell_type": "code",
   "execution_count": null,
   "metadata": {
    "scrolled": true
   },
   "outputs": [],
   "source": [
    "#drop bedroom outliers\n",
    "# Q1 = test['bedrooms'].quantile(0.25)\n",
    "# Q3 = test['bedrooms'].quantile(0.75)\n",
    "# IQR = Q3-Q1\n",
    "# print(IQR)\n",
    "    \n",
    "# test = test[~((test['bedrooms'] < (Q1 - 1.5 * IQR)) |(test['bedrooms'] > (Q3 + 1.5 * IQR)))]\n",
    "# test.shape"
   ]
  },
  {
   "cell_type": "code",
   "execution_count": null,
   "metadata": {},
   "outputs": [],
   "source": [
    "IQR_removal('sqft_lot', test)"
   ]
  },
  {
   "cell_type": "code",
   "execution_count": null,
   "metadata": {},
   "outputs": [],
   "source": [
    "# #drop sqft_lot outliers\n",
    "# Q1 = test['sqft_lot'].quantile(0.25)\n",
    "# Q3 = test['sqft_lot'].quantile(0.75)\n",
    "# IQR = Q3-Q1\n",
    "# print(IQR)\n",
    "    \n",
    "# test = test[~((test['sqft_lot'] < (Q1 - 1.5 * IQR)) |(test['sqft_lot'] > (Q3 + 1.5 * IQR)))]\n",
    "# test.shape"
   ]
  },
  {
   "cell_type": "code",
   "execution_count": null,
   "metadata": {},
   "outputs": [],
   "source": []
  },
  {
   "cell_type": "markdown",
   "metadata": {},
   "source": [
    "# Model"
   ]
  },
  {
   "cell_type": "markdown",
   "metadata": {},
   "source": [
    "### R-squared Modeling"
   ]
  },
  {
   "cell_type": "markdown",
   "metadata": {},
   "source": [
    "> Originally only dropped price outliers to see what difference it made. Went back and added bedrooms as well."
   ]
  },
  {
   "cell_type": "code",
   "execution_count": 198,
   "metadata": {
    "scrolled": false
   },
   "outputs": [
    {
     "data": {
      "text/plain": [
       "'bathrooms+sqft_lot+waterfront+view+grade+yr_built+yr_renovated+lat+long+sqft_living15+sqft_lot15+condition_5'"
      ]
     },
     "execution_count": 198,
     "metadata": {},
     "output_type": "execute_result"
    }
   ],
   "source": [
    "features = '+'.join(test.drop(columns= 'price').columns)\n",
    "features"
   ]
  },
  {
   "cell_type": "code",
   "execution_count": 199,
   "metadata": {
    "scrolled": true
   },
   "outputs": [
    {
     "data": {
      "text/html": [
       "<table class=\"simpletable\">\n",
       "<caption>OLS Regression Results</caption>\n",
       "<tr>\n",
       "  <th>Dep. Variable:</th>          <td>price</td>      <th>  R-squared:         </th>  <td>   0.673</td>  \n",
       "</tr>\n",
       "<tr>\n",
       "  <th>Model:</th>                   <td>OLS</td>       <th>  Adj. R-squared:    </th>  <td>   0.673</td>  \n",
       "</tr>\n",
       "<tr>\n",
       "  <th>Method:</th>             <td>Least Squares</td>  <th>  F-statistic:       </th>  <td>   3463.</td>  \n",
       "</tr>\n",
       "<tr>\n",
       "  <th>Date:</th>             <td>Fri, 28 Aug 2020</td> <th>  Prob (F-statistic):</th>   <td>  0.00</td>   \n",
       "</tr>\n",
       "<tr>\n",
       "  <th>Time:</th>                 <td>15:19:16</td>     <th>  Log-Likelihood:    </th> <td>-2.6487e+05</td>\n",
       "</tr>\n",
       "<tr>\n",
       "  <th>No. Observations:</th>      <td> 20211</td>      <th>  AIC:               </th>  <td>5.298e+05</td> \n",
       "</tr>\n",
       "<tr>\n",
       "  <th>Df Residuals:</th>          <td> 20198</td>      <th>  BIC:               </th>  <td>5.299e+05</td> \n",
       "</tr>\n",
       "<tr>\n",
       "  <th>Df Model:</th>              <td>    12</td>      <th>                     </th>      <td> </td>     \n",
       "</tr>\n",
       "<tr>\n",
       "  <th>Covariance Type:</th>      <td>nonrobust</td>    <th>                     </th>      <td> </td>     \n",
       "</tr>\n",
       "</table>\n",
       "<table class=\"simpletable\">\n",
       "<tr>\n",
       "        <td></td>           <th>coef</th>     <th>std err</th>      <th>t</th>      <th>P>|t|</th>  <th>[0.025</th>    <th>0.975]</th>  \n",
       "</tr>\n",
       "<tr>\n",
       "  <th>Intercept</th>     <td>-2.193e+07</td> <td> 9.22e+05</td> <td>  -23.782</td> <td> 0.000</td> <td>-2.37e+07</td> <td>-2.01e+07</td>\n",
       "</tr>\n",
       "<tr>\n",
       "  <th>bathrooms</th>     <td> 5.875e+04</td> <td> 1660.570</td> <td>   35.377</td> <td> 0.000</td> <td> 5.55e+04</td> <td>  6.2e+04</td>\n",
       "</tr>\n",
       "<tr>\n",
       "  <th>sqft_lot</th>      <td>    0.2613</td> <td>    0.030</td> <td>    8.803</td> <td> 0.000</td> <td>    0.203</td> <td>    0.319</td>\n",
       "</tr>\n",
       "<tr>\n",
       "  <th>waterfront</th>    <td> 1.345e+05</td> <td> 1.74e+04</td> <td>    7.726</td> <td> 0.000</td> <td>    1e+05</td> <td> 1.69e+05</td>\n",
       "</tr>\n",
       "<tr>\n",
       "  <th>view</th>          <td> 3.025e+04</td> <td> 1415.702</td> <td>   21.365</td> <td> 0.000</td> <td> 2.75e+04</td> <td>  3.3e+04</td>\n",
       "</tr>\n",
       "<tr>\n",
       "  <th>grade</th>         <td> 9.028e+04</td> <td> 1257.438</td> <td>   71.795</td> <td> 0.000</td> <td> 8.78e+04</td> <td> 9.27e+04</td>\n",
       "</tr>\n",
       "<tr>\n",
       "  <th>yr_built</th>      <td>-1935.9597</td> <td>   41.064</td> <td>  -47.145</td> <td> 0.000</td> <td>-2016.449</td> <td>-1855.470</td>\n",
       "</tr>\n",
       "<tr>\n",
       "  <th>yr_renovated</th>  <td>   14.8728</td> <td>    2.533</td> <td>    5.872</td> <td> 0.000</td> <td>    9.908</td> <td>   19.837</td>\n",
       "</tr>\n",
       "<tr>\n",
       "  <th>lat</th>           <td> 5.207e+05</td> <td> 6186.540</td> <td>   84.163</td> <td> 0.000</td> <td> 5.09e+05</td> <td> 5.33e+05</td>\n",
       "</tr>\n",
       "<tr>\n",
       "  <th>long</th>          <td>-4036.5934</td> <td> 7029.941</td> <td>   -0.574</td> <td> 0.566</td> <td>-1.78e+04</td> <td> 9742.663</td>\n",
       "</tr>\n",
       "<tr>\n",
       "  <th>sqft_living15</th> <td>   78.0752</td> <td>    2.006</td> <td>   38.921</td> <td> 0.000</td> <td>   74.143</td> <td>   82.007</td>\n",
       "</tr>\n",
       "<tr>\n",
       "  <th>sqft_lot15</th>    <td>   -0.0828</td> <td>    0.045</td> <td>   -1.829</td> <td> 0.067</td> <td>   -0.172</td> <td>    0.006</td>\n",
       "</tr>\n",
       "<tr>\n",
       "  <th>condition_5</th>   <td> 4.752e+04</td> <td> 3283.165</td> <td>   14.473</td> <td> 0.000</td> <td> 4.11e+04</td> <td>  5.4e+04</td>\n",
       "</tr>\n",
       "</table>\n",
       "<table class=\"simpletable\">\n",
       "<tr>\n",
       "  <th>Omnibus:</th>       <td>1740.216</td> <th>  Durbin-Watson:     </th> <td>   1.967</td>\n",
       "</tr>\n",
       "<tr>\n",
       "  <th>Prob(Omnibus):</th>  <td> 0.000</td>  <th>  Jarque-Bera (JB):  </th> <td>3019.526</td>\n",
       "</tr>\n",
       "<tr>\n",
       "  <th>Skew:</th>           <td> 0.623</td>  <th>  Prob(JB):          </th> <td>    0.00</td>\n",
       "</tr>\n",
       "<tr>\n",
       "  <th>Kurtosis:</th>       <td> 4.425</td>  <th>  Cond. No.          </th> <td>5.39e+07</td>\n",
       "</tr>\n",
       "</table><br/><br/>Warnings:<br/>[1] Standard Errors assume that the covariance matrix of the errors is correctly specified.<br/>[2] The condition number is large, 5.39e+07. This might indicate that there are<br/>strong multicollinearity or other numerical problems."
      ],
      "text/plain": [
       "<class 'statsmodels.iolib.summary.Summary'>\n",
       "\"\"\"\n",
       "                            OLS Regression Results                            \n",
       "==============================================================================\n",
       "Dep. Variable:                  price   R-squared:                       0.673\n",
       "Model:                            OLS   Adj. R-squared:                  0.673\n",
       "Method:                 Least Squares   F-statistic:                     3463.\n",
       "Date:                Fri, 28 Aug 2020   Prob (F-statistic):               0.00\n",
       "Time:                        15:19:16   Log-Likelihood:            -2.6487e+05\n",
       "No. Observations:               20211   AIC:                         5.298e+05\n",
       "Df Residuals:                   20198   BIC:                         5.299e+05\n",
       "Df Model:                          12                                         \n",
       "Covariance Type:            nonrobust                                         \n",
       "=================================================================================\n",
       "                    coef    std err          t      P>|t|      [0.025      0.975]\n",
       "---------------------------------------------------------------------------------\n",
       "Intercept     -2.193e+07   9.22e+05    -23.782      0.000   -2.37e+07   -2.01e+07\n",
       "bathrooms      5.875e+04   1660.570     35.377      0.000    5.55e+04     6.2e+04\n",
       "sqft_lot          0.2613      0.030      8.803      0.000       0.203       0.319\n",
       "waterfront     1.345e+05   1.74e+04      7.726      0.000       1e+05    1.69e+05\n",
       "view           3.025e+04   1415.702     21.365      0.000    2.75e+04     3.3e+04\n",
       "grade          9.028e+04   1257.438     71.795      0.000    8.78e+04    9.27e+04\n",
       "yr_built      -1935.9597     41.064    -47.145      0.000   -2016.449   -1855.470\n",
       "yr_renovated     14.8728      2.533      5.872      0.000       9.908      19.837\n",
       "lat            5.207e+05   6186.540     84.163      0.000    5.09e+05    5.33e+05\n",
       "long          -4036.5934   7029.941     -0.574      0.566   -1.78e+04    9742.663\n",
       "sqft_living15    78.0752      2.006     38.921      0.000      74.143      82.007\n",
       "sqft_lot15       -0.0828      0.045     -1.829      0.067      -0.172       0.006\n",
       "condition_5    4.752e+04   3283.165     14.473      0.000    4.11e+04     5.4e+04\n",
       "==============================================================================\n",
       "Omnibus:                     1740.216   Durbin-Watson:                   1.967\n",
       "Prob(Omnibus):                  0.000   Jarque-Bera (JB):             3019.526\n",
       "Skew:                           0.623   Prob(JB):                         0.00\n",
       "Kurtosis:                       4.425   Cond. No.                     5.39e+07\n",
       "==============================================================================\n",
       "\n",
       "Warnings:\n",
       "[1] Standard Errors assume that the covariance matrix of the errors is correctly specified.\n",
       "[2] The condition number is large, 5.39e+07. This might indicate that there are\n",
       "strong multicollinearity or other numerical problems.\n",
       "\"\"\""
      ]
     },
     "execution_count": 199,
     "metadata": {},
     "output_type": "execute_result"
    }
   ],
   "source": [
    "formula = target + '~' + features\n",
    "model = smf.ols(formula, test).fit()\n",
    "model.summary()"
   ]
  },
  {
   "cell_type": "markdown",
   "metadata": {},
   "source": [
    "> **Dropping Price Outliers**:\n",
    "- multicollinearity dropped to 2.43e+07\n",
    "- R2 value rose to .796\n",
    "- P-values - floor rose and zipcode_98168\n",
    "\n",
    ">**Removing Bedrooms Outliers**:\n",
    "- multi = 2.41e+06\n",
    "- R2 .798\n",
    "- P-values - floors and zipcode still\n",
    "\n",
    "> **Removing Sqft_lot Outliers**:\n",
    "- multi = 5.01e+6\n",
    "- R2 = .808\n",
    "- p-values = cleaned from below coding\n",
    "\n",
    "> **Sqft_living15 Outliers**:\n",
    "- Tried and it made numbers worse. Did not save outlier removal."
   ]
  },
  {
   "cell_type": "markdown",
   "metadata": {},
   "source": [
    "### Answer to Question:"
   ]
  },
  {
   "cell_type": "markdown",
   "metadata": {},
   "source": [
    "**Question**: Does removing outliers impact my model?\n",
    "\n",
    "> Answer: When I first removed all the outliers in the dataset I was left with hardly anything to work with. (about 4000 rows) When I went back and only removed the outliers for price my R2 value rose and my multicollinearity dropped. This shows that removing outliers do have an impact on models and it is in the hands of the data scientist to make the correct choices."
   ]
  },
  {
   "cell_type": "code",
   "execution_count": null,
   "metadata": {},
   "outputs": [],
   "source": [
    "p_val_removal(test)"
   ]
  },
  {
   "cell_type": "code",
   "execution_count": null,
   "metadata": {
    "scrolled": true
   },
   "outputs": [],
   "source": [
    "features = '+'.join(test.drop(columns= 'price').columns)\n",
    "features"
   ]
  },
  {
   "cell_type": "code",
   "execution_count": null,
   "metadata": {},
   "outputs": [],
   "source": [
    "formula = target + '~' + features\n",
    "model = smf.ols(formula, test).fit()\n",
    "model.summary()"
   ]
  },
  {
   "cell_type": "markdown",
   "metadata": {},
   "source": [
    "> **Observations**:\n",
    "- R2 stayed the same\n",
    "- Pvalues taken care of\n",
    "- Multicollinearity stayed the same"
   ]
  },
  {
   "cell_type": "code",
   "execution_count": null,
   "metadata": {
    "scrolled": false
   },
   "outputs": [],
   "source": [
    "create_visuals(test[target])"
   ]
  },
  {
   "cell_type": "code",
   "execution_count": null,
   "metadata": {},
   "outputs": [],
   "source": [
    "X = test.drop('price', axis=1)\n",
    "X = sm.add_constant(X)\n",
    "X.shape"
   ]
  },
  {
   "cell_type": "code",
   "execution_count": null,
   "metadata": {},
   "outputs": [],
   "source": [
    "vif = [variance_inflation_factor(X.values, i) for i in range(X.shape[1])]"
   ]
  },
  {
   "cell_type": "code",
   "execution_count": null,
   "metadata": {
    "scrolled": true
   },
   "outputs": [],
   "source": [
    "vif_results = pd.Series(dict(zip(X.columns, vif)))\n",
    "vif_results"
   ]
  },
  {
   "cell_type": "code",
   "execution_count": null,
   "metadata": {},
   "outputs": [],
   "source": [
    "threshold = 6\n",
    "bad_vif2 = list(vif_results[vif_results>threshold].index)\n",
    "if 'const' in bad_vif2:\n",
    "    bad_vif2.remove('const') \n",
    "bad_vif2"
   ]
  },
  {
   "cell_type": "code",
   "execution_count": null,
   "metadata": {
    "scrolled": true
   },
   "outputs": [],
   "source": [
    "test.describe()"
   ]
  },
  {
   "cell_type": "markdown",
   "metadata": {},
   "source": [
    "### Regression Model Validation"
   ]
  },
  {
   "cell_type": "code",
   "execution_count": null,
   "metadata": {
    "scrolled": true
   },
   "outputs": [],
   "source": [
    "from sklearn.model_selection import train_test_split\n",
    "from sklearn.metrics import r2_score"
   ]
  },
  {
   "cell_type": "code",
   "execution_count": null,
   "metadata": {},
   "outputs": [],
   "source": [
    "df_train, df_test = train_test_split(test)"
   ]
  },
  {
   "cell_type": "code",
   "execution_count": null,
   "metadata": {
    "scrolled": true
   },
   "outputs": [],
   "source": [
    "df_train.shape, df_test.shape"
   ]
  },
  {
   "cell_type": "markdown",
   "metadata": {},
   "source": [
    "Next do model summary using training summary"
   ]
  },
  {
   "cell_type": "code",
   "execution_count": null,
   "metadata": {},
   "outputs": [],
   "source": [
    "features = '+'.join(df_train.drop(columns= 'price').columns)\n",
    "features"
   ]
  },
  {
   "cell_type": "code",
   "execution_count": null,
   "metadata": {},
   "outputs": [],
   "source": [
    "formula = target + '~' + features\n",
    "model = smf.ols(formula, df_train).fit()\n",
    "model.summary()"
   ]
  },
  {
   "cell_type": "code",
   "execution_count": null,
   "metadata": {},
   "outputs": [],
   "source": [
    "y_train_pred = model.predict(df_train)\n",
    "y_train_pred"
   ]
  },
  {
   "cell_type": "code",
   "execution_count": null,
   "metadata": {
    "scrolled": true
   },
   "outputs": [],
   "source": [
    "y_test_pred = model.predict(df_test)\n",
    "y_test_pred"
   ]
  },
  {
   "cell_type": "code",
   "execution_count": null,
   "metadata": {
    "scrolled": true
   },
   "outputs": [],
   "source": [
    "r2_train = r2_score(df_train['price'], y_train_pred)\n",
    "r2_test = r2_score(df_test['price'], y_test_pred)\n",
    "#want close scores,should be same as models above\n",
    "\n",
    "print(f\"Training Score: {r2_train}\")\n",
    "print(f\"Test Score: {r2_test}\")"
   ]
  },
  {
   "cell_type": "markdown",
   "metadata": {},
   "source": [
    "> Numbers should be close to the same."
   ]
  },
  {
   "cell_type": "code",
   "execution_count": null,
   "metadata": {
    "scrolled": true
   },
   "outputs": [],
   "source": [
    "model.summary()"
   ]
  },
  {
   "cell_type": "code",
   "execution_count": null,
   "metadata": {},
   "outputs": [],
   "source": [
    "create_visuals(df_train[target])"
   ]
  },
  {
   "cell_type": "markdown",
   "metadata": {},
   "source": [
    ">**Observations**:\n",
    "- R2 is the same.\n",
    "- Test multicollinearity number is slightly lower than mine."
   ]
  },
  {
   "cell_type": "markdown",
   "metadata": {},
   "source": [
    "# Interpret"
   ]
  },
  {
   "cell_type": "code",
   "execution_count": null,
   "metadata": {},
   "outputs": [],
   "source": [
    "def color_negative(val):\n",
    "    color = \"red\" if val < 0 else 'black'\n",
    "    return 'color: %s' % color"
   ]
  },
  {
   "cell_type": "code",
   "execution_count": null,
   "metadata": {
    "scrolled": true
   },
   "outputs": [],
   "source": [
    "coeffs = model.params.sort_values(ascending=False)\n",
    "#if you increase by one thats the increase in selling point. \n",
    "coeffs.sort_index().to_frame('Coefficients').style.applymap(color_negative)"
   ]
  },
  {
   "cell_type": "markdown",
   "metadata": {},
   "source": [
    "> Grade = classification of construction by quality which refers to thetypes of materials used and the quality of workmanship."
   ]
  },
  {
   "cell_type": "code",
   "execution_count": null,
   "metadata": {
    "scrolled": true
   },
   "outputs": [],
   "source": [
    "joint_graphs(test, 'bedrooms', target = 'price')"
   ]
  },
  {
   "cell_type": "code",
   "execution_count": null,
   "metadata": {},
   "outputs": [],
   "source": [
    "@interact \n",
    "def show_plot(col=test):\n",
    "    joint_graphs(test, col)"
   ]
  },
  {
   "cell_type": "markdown",
   "metadata": {},
   "source": [
    "# Conclusions & Recommendations"
   ]
  },
  {
   "cell_type": "markdown",
   "metadata": {},
   "source": [
    "Here I will summarize my conclusions and bullet point my list of recommendations which are based on my modeling results."
   ]
  },
  {
   "cell_type": "markdown",
   "metadata": {},
   "source": [
    "### top recs?"
   ]
  },
  {
   "cell_type": "markdown",
   "metadata": {},
   "source": [
    "> - high grade material\n",
    "> - increase number of bathrooms\n",
    "> - Waterfront is always a perk\n",
    "> - Try to have at least 3 viewings of the house before selling.\n",
    "> - If you are buying always consider location. Take a peak at my tableau."
   ]
  },
  {
   "cell_type": "markdown",
   "metadata": {},
   "source": [
    "# Try Log Transformation"
   ]
  },
  {
   "cell_type": "code",
   "execution_count": null,
   "metadata": {},
   "outputs": [],
   "source": []
  }
 ],
 "metadata": {
  "kernelspec": {
   "display_name": "Python [conda env:learn-env] *",
   "language": "python",
   "name": "conda-env-learn-env-py"
  },
  "language_info": {
   "codemirror_mode": {
    "name": "ipython",
    "version": 3
   },
   "file_extension": ".py",
   "mimetype": "text/x-python",
   "name": "python",
   "nbconvert_exporter": "python",
   "pygments_lexer": "ipython3",
   "version": "3.6.9"
  },
  "toc": {
   "base_numbering": 1,
   "nav_menu": {},
   "number_sections": true,
   "sideBar": true,
   "skip_h1_title": false,
   "title_cell": "Table of Contents",
   "title_sidebar": "Contents",
   "toc_cell": false,
   "toc_position": {},
   "toc_section_display": true,
   "toc_window_display": true
  }
 },
 "nbformat": 4,
 "nbformat_minor": 2
}
